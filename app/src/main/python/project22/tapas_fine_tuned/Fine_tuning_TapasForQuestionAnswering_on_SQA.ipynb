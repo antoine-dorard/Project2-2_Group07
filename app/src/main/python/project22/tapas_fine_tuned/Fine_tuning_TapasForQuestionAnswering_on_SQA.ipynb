{
 "cells": [
  {
   "cell_type": "markdown",
   "metadata": {
    "colab_type": "text",
    "id": "view-in-github",
    "pycharm": {
     "name": "#%% md\n"
    }
   },
   "source": [
    "<a href=\"https://colab.research.google.com/github/NielsRogge/Transformers-Tutorials/blob/master/Fine_tuning_TapasForQuestionAnswering_on_SQA.ipynb\" target=\"_parent\"><img src=\"https://colab.research.google.com/assets/colab-badge.svg\" alt=\"Open In Colab\"/></a>"
   ]
  },
  {
   "cell_type": "markdown",
   "metadata": {
    "id": "l5Ds1ZM41KC9",
    "pycharm": {
     "name": "#%% md\n"
    }
   },
   "source": [
    "## Introduction: TAPAS\n",
    "\n",
    "* Original TAPAS paper (ACL 2020): https://www.aclweb.org/anthology/2020.acl-main.398/\n",
    "* Follow-up paper on intermediate pre-training (EMMNLP Findings 2020): https://www.aclweb.org/anthology/2020.findings-emnlp.27/\n",
    "* Original Github repository: https://github.com/google-research/tapas\n",
    "* Blog post: https://ai.googleblog.com/2020/04/using-neural-networks-to-find-answers.html\n",
    "\n",
    "TAPAS is an algorithm that (among other tasks) can answer questions about tabular data. It is essentially a BERT model with relative position embeddings and additional token type ids that encode tabular structure, and 2 classification heads on top: one for **cell selection** and one for (optionally) performing an **aggregation** among selected cells (such as summing or counting).\n",
    "\n",
    "Similar to BERT, the base `TapasModel` is pre-trained using the masked language modeling (MLM) objective on a large collection of tables from Wikipedia and associated texts. In addition, the authors further pre-trained the model on an second task (table entailment) to increase the numerical reasoning capabilities of TAPAS (as explained in the follow-up paper), which further improves performance on downstream tasks. \n",
    "\n",
    "In this notebook, we are going to fine-tune `TapasForQuestionAnswering` on [Sequential Question Answering (SQA)](https://www.microsoft.com/en-us/research/publication/search-based-neural-structured-learning-sequential-question-answering/), a dataset built by Microsoft Research which deals with asking questions related to a table in a **conversational set-up**. We are going to do so as in the original paper, by adding a randomly initialized cell selection head on top of the pre-trained base model (note that SQA does not have questions that involve aggregation and hence no aggregation head), and then fine-tuning them altogether.\n",
    "\n",
    "First, we install both the Transformers library as well as the dependency on [`torch-scatter`](https://github.com/rusty1s/pytorch_scatter), which the model requires."
   ]
  },
  {
   "cell_type": "code",
   "execution_count": 2,
   "metadata": {
    "colab": {
     "base_uri": "https://localhost:8080/"
    },
    "id": "gx4u09iTyRjY",
    "outputId": "e4cd9f4b-7d8d-4b47-e8b2-304b921dba98",
    "pycharm": {
     "name": "#%%\n"
    }
   },
   "outputs": [
    {
     "name": "stdout",
     "output_type": "stream",
     "text": [
      "Collecting torch-scatter\n",
      "  Downloading torch_scatter-2.1.1.tar.gz (107 kB)\n",
      "\u001B[2K     \u001B[90m━━━━━━━━━━━━━━━━━━━━━━━━━━━━━━━━━━━━━━━\u001B[0m \u001B[32m107.6/107.6 kB\u001B[0m \u001B[31m1.7 MB/s\u001B[0m eta \u001B[36m0:00:00\u001B[0ma \u001B[36m0:00:01\u001B[0m\n",
      "\u001B[?25h  Preparing metadata (setup.py) ... \u001B[?25ldone\n",
      "\u001B[?25hBuilding wheels for collected packages: torch-scatter\n",
      "  Building wheel for torch-scatter (setup.py) ... \u001B[?25ldone\n",
      "\u001B[?25h  Created wheel for torch-scatter: filename=torch_scatter-2.1.1-cp311-cp311-macosx_10_9_x86_64.whl size=294139 sha256=570fb2db14389c19dceb50d143c222b0f39fe0f6947372ac40807df41c7b24bd\n",
      "  Stored in directory: /Users/evgenynazarenko/Library/Caches/pip/wheels/e1/45/de/7e6c2b34bf0c92ea931392eb9930fa25ac12bf455e68ae1d6e\n",
      "Successfully built torch-scatter\n",
      "Installing collected packages: torch-scatter\n",
      "Successfully installed torch-scatter-2.1.1\n"
     ]
    }
   ],
   "source": [
    "! pip install torch-scatter"
   ]
  },
  {
   "cell_type": "markdown",
   "metadata": {
    "id": "BSZfmBt0meYm",
    "pycharm": {
     "name": "#%% md\n"
    }
   },
   "source": [
    "We also install a small portion from the SQA training dataset, for demonstration purposes. This is a TSV file containing table-question pairs. Besides this, we also download the `table_csv` directory, which contains the actual tabular data.\n",
    "\n",
    "Note that you can download the entire SQA dataset on the [official website](https://www.microsoft.com/en-us/download/details.aspx?id=54253)."
   ]
  },
  {
   "cell_type": "code",
   "execution_count": 1,
   "metadata": {
    "id": "wsuwgDEU4J_f",
    "pycharm": {
     "name": "#%%\n"
    }
   },
   "outputs": [],
   "source": [
    "import requests, zipfile, io\n",
    "import os\n",
    "\n",
    "def download_files(dir_name):\n",
    "  if not os.path.exists(dir_name): \n",
    "    # 28 training examples from the SQA training set + table csv data\n",
    "    urls = [\"https://www.dropbox.com/s/2p6ez9xro357i63/sqa_train_set_28_examples.zip?dl=1\",\n",
    "            \"https://www.dropbox.com/s/abhum8ssuow87h6/table_csv.zip?dl=1\"\n",
    "    ]\n",
    "    for url in urls:\n",
    "      r = requests.get(url)\n",
    "      z = zipfile.ZipFile(io.BytesIO(r.content))\n",
    "      z.extractall()\n",
    "\n",
    "dir_name = \"sqa_data\"\n",
    "download_files(dir_name)"
   ]
  },
  {
   "cell_type": "markdown",
   "metadata": {
    "id": "EPrYJOn81f0D",
    "pycharm": {
     "name": "#%% md\n"
    }
   },
   "source": [
    "## Prepare the data \n",
    "\n",
    "Let's look at the first few rows of the dataset:"
   ]
  },
  {
   "cell_type": "code",
   "execution_count": null,
   "metadata": {
    "pycharm": {
     "name": "#%%\n"
    }
   },
   "outputs": [],
   "source": [
    "## here is generated dataset for month schedule \n"
   ]
  },
  {
   "cell_type": "code",
   "execution_count": 187,
   "metadata": {
    "colab": {
     "base_uri": "https://localhost:8080/",
     "height": 279
    },
    "id": "2X27wyd805D8",
    "outputId": "7ccfd32c-e8dd-4fec-c044-d7d8de8dd578",
    "pycharm": {
     "name": "#%%\n"
    }
   },
   "outputs": [
    {
     "data": {
      "text/html": [
       "<div>\n",
       "<style scoped>\n",
       "    .dataframe tbody tr th:only-of-type {\n",
       "        vertical-align: middle;\n",
       "    }\n",
       "\n",
       "    .dataframe tbody tr th {\n",
       "        vertical-align: top;\n",
       "    }\n",
       "\n",
       "    .dataframe thead th {\n",
       "        text-align: right;\n",
       "    }\n",
       "</style>\n",
       "<table border=\"1\" class=\"dataframe\">\n",
       "  <thead>\n",
       "    <tr style=\"text-align: right;\">\n",
       "      <th></th>\n",
       "      <th>id</th>\n",
       "      <th>annotator</th>\n",
       "      <th>position</th>\n",
       "      <th>question</th>\n",
       "      <th>table_file</th>\n",
       "      <th>answer_coordinates</th>\n",
       "      <th>answer_text</th>\n",
       "    </tr>\n",
       "  </thead>\n",
       "  <tbody>\n",
       "    <tr>\n",
       "      <th>0</th>\n",
       "      <td>nt-639</td>\n",
       "      <td>0</td>\n",
       "      <td>0</td>\n",
       "      <td>where are the players from?</td>\n",
       "      <td>table_csv/203_149.csv</td>\n",
       "      <td>['(0, 4)', '(1, 4)', '(2, 4)', '(3, 4)', '(4, ...</td>\n",
       "      <td>['Louisiana State University', 'Valley HS (Las...</td>\n",
       "    </tr>\n",
       "    <tr>\n",
       "      <th>1</th>\n",
       "      <td>nt-639</td>\n",
       "      <td>0</td>\n",
       "      <td>1</td>\n",
       "      <td>which player went to louisiana state university?</td>\n",
       "      <td>table_csv/203_149.csv</td>\n",
       "      <td>['(0, 1)']</td>\n",
       "      <td>['Ben McDonald']</td>\n",
       "    </tr>\n",
       "    <tr>\n",
       "      <th>2</th>\n",
       "      <td>nt-639</td>\n",
       "      <td>1</td>\n",
       "      <td>0</td>\n",
       "      <td>who are the players?</td>\n",
       "      <td>table_csv/203_149.csv</td>\n",
       "      <td>['(0, 1)', '(1, 1)', '(2, 1)', '(3, 1)', '(4, ...</td>\n",
       "      <td>['Ben McDonald', 'Tyler Houston', 'Roger Salke...</td>\n",
       "    </tr>\n",
       "    <tr>\n",
       "      <th>3</th>\n",
       "      <td>nt-639</td>\n",
       "      <td>1</td>\n",
       "      <td>1</td>\n",
       "      <td>which ones are in the top 26 picks?</td>\n",
       "      <td>table_csv/203_149.csv</td>\n",
       "      <td>['(0, 1)', '(1, 1)', '(2, 1)', '(3, 1)', '(4, ...</td>\n",
       "      <td>['Ben McDonald', 'Tyler Houston', 'Roger Salke...</td>\n",
       "    </tr>\n",
       "    <tr>\n",
       "      <th>4</th>\n",
       "      <td>nt-639</td>\n",
       "      <td>1</td>\n",
       "      <td>2</td>\n",
       "      <td>and of those, who is from louisiana state univ...</td>\n",
       "      <td>table_csv/203_149.csv</td>\n",
       "      <td>['(0, 1)']</td>\n",
       "      <td>['Ben McDonald']</td>\n",
       "    </tr>\n",
       "    <tr>\n",
       "      <th>5</th>\n",
       "      <td>nt-639</td>\n",
       "      <td>2</td>\n",
       "      <td>0</td>\n",
       "      <td>who are the players in the top 26?</td>\n",
       "      <td>table_csv/203_149.csv</td>\n",
       "      <td>['(0, 1)', '(1, 1)', '(2, 1)', '(3, 1)', '(4, ...</td>\n",
       "      <td>['Ben McDonald', 'Tyler Houston', 'Roger Salke...</td>\n",
       "    </tr>\n",
       "    <tr>\n",
       "      <th>6</th>\n",
       "      <td>nt-639</td>\n",
       "      <td>2</td>\n",
       "      <td>1</td>\n",
       "      <td>of those, which one was from louisiana state u...</td>\n",
       "      <td>table_csv/203_149.csv</td>\n",
       "      <td>['(0, 1)']</td>\n",
       "      <td>['Ben McDonald']</td>\n",
       "    </tr>\n",
       "    <tr>\n",
       "      <th>7</th>\n",
       "      <td>nt-11649</td>\n",
       "      <td>0</td>\n",
       "      <td>0</td>\n",
       "      <td>what are all the names of the teams?</td>\n",
       "      <td>table_csv/204_135.csv</td>\n",
       "      <td>['(0, 1)', '(1, 1)', '(2, 1)', '(3, 1)', '(4, ...</td>\n",
       "      <td>['Cordoba CF', 'CD Malaga', 'Granada CF', 'UD ...</td>\n",
       "    </tr>\n",
       "    <tr>\n",
       "      <th>8</th>\n",
       "      <td>nt-11649</td>\n",
       "      <td>0</td>\n",
       "      <td>1</td>\n",
       "      <td>of these, which teams had any losses?</td>\n",
       "      <td>table_csv/204_135.csv</td>\n",
       "      <td>['(0, 1)', '(1, 1)', '(2, 1)', '(3, 1)', '(4, ...</td>\n",
       "      <td>['Cordoba CF', 'CD Malaga', 'Granada CF', 'UD ...</td>\n",
       "    </tr>\n",
       "    <tr>\n",
       "      <th>9</th>\n",
       "      <td>nt-11649</td>\n",
       "      <td>0</td>\n",
       "      <td>2</td>\n",
       "      <td>of these teams, which had more than 21 losses?</td>\n",
       "      <td>table_csv/204_135.csv</td>\n",
       "      <td>['(15, 1)']</td>\n",
       "      <td>['CD Villarrobledo']</td>\n",
       "    </tr>\n",
       "  </tbody>\n",
       "</table>\n",
       "</div>"
      ],
      "text/plain": [
       "         id  annotator  position  \\\n",
       "0    nt-639          0         0   \n",
       "1    nt-639          0         1   \n",
       "2    nt-639          1         0   \n",
       "3    nt-639          1         1   \n",
       "4    nt-639          1         2   \n",
       "5    nt-639          2         0   \n",
       "6    nt-639          2         1   \n",
       "7  nt-11649          0         0   \n",
       "8  nt-11649          0         1   \n",
       "9  nt-11649          0         2   \n",
       "\n",
       "                                            question             table_file  \\\n",
       "0                        where are the players from?  table_csv/203_149.csv   \n",
       "1   which player went to louisiana state university?  table_csv/203_149.csv   \n",
       "2                               who are the players?  table_csv/203_149.csv   \n",
       "3                which ones are in the top 26 picks?  table_csv/203_149.csv   \n",
       "4  and of those, who is from louisiana state univ...  table_csv/203_149.csv   \n",
       "5                 who are the players in the top 26?  table_csv/203_149.csv   \n",
       "6  of those, which one was from louisiana state u...  table_csv/203_149.csv   \n",
       "7               what are all the names of the teams?  table_csv/204_135.csv   \n",
       "8              of these, which teams had any losses?  table_csv/204_135.csv   \n",
       "9     of these teams, which had more than 21 losses?  table_csv/204_135.csv   \n",
       "\n",
       "                                  answer_coordinates  \\\n",
       "0  ['(0, 4)', '(1, 4)', '(2, 4)', '(3, 4)', '(4, ...   \n",
       "1                                         ['(0, 1)']   \n",
       "2  ['(0, 1)', '(1, 1)', '(2, 1)', '(3, 1)', '(4, ...   \n",
       "3  ['(0, 1)', '(1, 1)', '(2, 1)', '(3, 1)', '(4, ...   \n",
       "4                                         ['(0, 1)']   \n",
       "5  ['(0, 1)', '(1, 1)', '(2, 1)', '(3, 1)', '(4, ...   \n",
       "6                                         ['(0, 1)']   \n",
       "7  ['(0, 1)', '(1, 1)', '(2, 1)', '(3, 1)', '(4, ...   \n",
       "8  ['(0, 1)', '(1, 1)', '(2, 1)', '(3, 1)', '(4, ...   \n",
       "9                                        ['(15, 1)']   \n",
       "\n",
       "                                         answer_text  \n",
       "0  ['Louisiana State University', 'Valley HS (Las...  \n",
       "1                                   ['Ben McDonald']  \n",
       "2  ['Ben McDonald', 'Tyler Houston', 'Roger Salke...  \n",
       "3  ['Ben McDonald', 'Tyler Houston', 'Roger Salke...  \n",
       "4                                   ['Ben McDonald']  \n",
       "5  ['Ben McDonald', 'Tyler Houston', 'Roger Salke...  \n",
       "6                                   ['Ben McDonald']  \n",
       "7  ['Cordoba CF', 'CD Malaga', 'Granada CF', 'UD ...  \n",
       "8  ['Cordoba CF', 'CD Malaga', 'Granada CF', 'UD ...  \n",
       "9                               ['CD Villarrobledo']  "
      ]
     },
     "execution_count": 187,
     "metadata": {},
     "output_type": "execute_result"
    }
   ],
   "source": [
    "import pandas as pd\n",
    "\n",
    "data = pd.read_excel(\"sqa_train_set_28_examples.xlsx\")\n",
    "data.head(10)\n"
   ]
  },
  {
   "cell_type": "code",
   "execution_count": 188,
   "metadata": {
    "pycharm": {
     "name": "#%%\n"
    }
   },
   "outputs": [
    {
     "data": {
      "text/html": [
       "<div>\n",
       "<style scoped>\n",
       "    .dataframe tbody tr th:only-of-type {\n",
       "        vertical-align: middle;\n",
       "    }\n",
       "\n",
       "    .dataframe tbody tr th {\n",
       "        vertical-align: top;\n",
       "    }\n",
       "\n",
       "    .dataframe thead th {\n",
       "        text-align: right;\n",
       "    }\n",
       "</style>\n",
       "<table border=\"1\" class=\"dataframe\">\n",
       "  <thead>\n",
       "    <tr style=\"text-align: right;\">\n",
       "      <th></th>\n",
       "      <th>id</th>\n",
       "      <th>annotator</th>\n",
       "      <th>position</th>\n",
       "      <th>question</th>\n",
       "      <th>table_file</th>\n",
       "      <th>answer_coordinates</th>\n",
       "      <th>answer_text</th>\n",
       "    </tr>\n",
       "  </thead>\n",
       "  <tbody>\n",
       "    <tr>\n",
       "      <th>0</th>\n",
       "      <td>ss-1030</td>\n",
       "      <td>0</td>\n",
       "      <td>0</td>\n",
       "      <td>What is scheduled on Monday at 9?</td>\n",
       "      <td>table_csv/schedule.csv</td>\n",
       "      <td>['(0, 1)']</td>\n",
       "      <td>['TCS']</td>\n",
       "    </tr>\n",
       "    <tr>\n",
       "      <th>1</th>\n",
       "      <td>ss-1030</td>\n",
       "      <td>0</td>\n",
       "      <td>1</td>\n",
       "      <td>What is the next lecture?</td>\n",
       "      <td>table_csv/schedule.csv</td>\n",
       "      <td>['(1, 1)']</td>\n",
       "      <td>['SSA']</td>\n",
       "    </tr>\n",
       "    <tr>\n",
       "      <th>2</th>\n",
       "      <td>ss-1030</td>\n",
       "      <td>1</td>\n",
       "      <td>0</td>\n",
       "      <td>What subject is at 11 on Tuesday?</td>\n",
       "      <td>table_csv/schedule.csv</td>\n",
       "      <td>['(1, 2)']</td>\n",
       "      <td>['Project 2-2']</td>\n",
       "    </tr>\n",
       "    <tr>\n",
       "      <th>3</th>\n",
       "      <td>ss-1030</td>\n",
       "      <td>1</td>\n",
       "      <td>1</td>\n",
       "      <td>What is the next lecture?</td>\n",
       "      <td>table_csv/schedule.csv</td>\n",
       "      <td>['(2, 2)']</td>\n",
       "      <td>['SSA']</td>\n",
       "    </tr>\n",
       "    <tr>\n",
       "      <th>4</th>\n",
       "      <td>ss-1030</td>\n",
       "      <td>2</td>\n",
       "      <td>0</td>\n",
       "      <td>What is happening on Wednesday at 13?</td>\n",
       "      <td>table_csv/schedule.csv</td>\n",
       "      <td>['(2, 3)']</td>\n",
       "      <td>['TCS']</td>\n",
       "    </tr>\n",
       "    <tr>\n",
       "      <th>5</th>\n",
       "      <td>ss-1030</td>\n",
       "      <td>2</td>\n",
       "      <td>1</td>\n",
       "      <td>What is the next lecture?</td>\n",
       "      <td>table_csv/schedule.csv</td>\n",
       "      <td>['(3, 3)']</td>\n",
       "      <td>['MM']</td>\n",
       "    </tr>\n",
       "    <tr>\n",
       "      <th>6</th>\n",
       "      <td>ss-1030</td>\n",
       "      <td>3</td>\n",
       "      <td>0</td>\n",
       "      <td>What is the schedule for Thursday at 15?</td>\n",
       "      <td>table_csv/schedule.csv</td>\n",
       "      <td>['(3, 4)']</td>\n",
       "      <td>['Logic']</td>\n",
       "    </tr>\n",
       "    <tr>\n",
       "      <th>7</th>\n",
       "      <td>ss-1030</td>\n",
       "      <td>3</td>\n",
       "      <td>1</td>\n",
       "      <td>What is the next lecture?</td>\n",
       "      <td>table_csv/schedule.csv</td>\n",
       "      <td>['(4, 4)']</td>\n",
       "      <td>['SSA']</td>\n",
       "    </tr>\n",
       "    <tr>\n",
       "      <th>8</th>\n",
       "      <td>ss-1030</td>\n",
       "      <td>4</td>\n",
       "      <td>0</td>\n",
       "      <td>What's on Friday at 17?</td>\n",
       "      <td>table_csv/schedule.csv</td>\n",
       "      <td>['(4, 5)']</td>\n",
       "      <td>['Project 2-2']</td>\n",
       "    </tr>\n",
       "    <tr>\n",
       "      <th>9</th>\n",
       "      <td>ss-1030</td>\n",
       "      <td>5</td>\n",
       "      <td>0</td>\n",
       "      <td>What is the first class on Monday?</td>\n",
       "      <td>table_csv/schedule.csv</td>\n",
       "      <td>['(0, 1)']</td>\n",
       "      <td>['TCS']</td>\n",
       "    </tr>\n",
       "    <tr>\n",
       "      <th>10</th>\n",
       "      <td>ss-1030</td>\n",
       "      <td>5</td>\n",
       "      <td>1</td>\n",
       "      <td>What is the next lecture?</td>\n",
       "      <td>table_csv/schedule.csv</td>\n",
       "      <td>['(1, 1)']</td>\n",
       "      <td>['SSA']</td>\n",
       "    </tr>\n",
       "    <tr>\n",
       "      <th>11</th>\n",
       "      <td>ss-1030</td>\n",
       "      <td>6</td>\n",
       "      <td>0</td>\n",
       "      <td>What's the last class on Tuesday?</td>\n",
       "      <td>table_csv/schedule.csv</td>\n",
       "      <td>['(4, 2)']</td>\n",
       "      <td>['TCS']</td>\n",
       "    </tr>\n",
       "    <tr>\n",
       "      <th>12</th>\n",
       "      <td>ss-1030</td>\n",
       "      <td>7</td>\n",
       "      <td>0</td>\n",
       "      <td>What's happening at 13 on Friday?</td>\n",
       "      <td>table_csv/schedule.csv</td>\n",
       "      <td>['(2, 5)']</td>\n",
       "      <td>['TCS']</td>\n",
       "    </tr>\n",
       "    <tr>\n",
       "      <th>13</th>\n",
       "      <td>ss-1030</td>\n",
       "      <td>8</td>\n",
       "      <td>0</td>\n",
       "      <td>What class is at 11 on Wednesday?</td>\n",
       "      <td>table_csv/schedule.csv</td>\n",
       "      <td>['(1, 3)']</td>\n",
       "      <td>['Project 2-2']</td>\n",
       "    </tr>\n",
       "    <tr>\n",
       "      <th>14</th>\n",
       "      <td>ss-1030</td>\n",
       "      <td>9</td>\n",
       "      <td>0</td>\n",
       "      <td>What is the schedule for Thursday at 17?</td>\n",
       "      <td>table_csv/schedule.csv</td>\n",
       "      <td>['(4, 4)']</td>\n",
       "      <td>['SSA']</td>\n",
       "    </tr>\n",
       "    <tr>\n",
       "      <th>15</th>\n",
       "      <td>ss-1030</td>\n",
       "      <td>10</td>\n",
       "      <td>0</td>\n",
       "      <td>What class is at 15 on Monday?</td>\n",
       "      <td>table_csv/schedule.csv</td>\n",
       "      <td>['(3, 1)']</td>\n",
       "      <td>['Project 2-2']</td>\n",
       "    </tr>\n",
       "    <tr>\n",
       "      <th>16</th>\n",
       "      <td>ss-1030</td>\n",
       "      <td>11</td>\n",
       "      <td>0</td>\n",
       "      <td>What's the first class on Tuesday?</td>\n",
       "      <td>table_csv/schedule.csv</td>\n",
       "      <td>['(0, 2)']</td>\n",
       "      <td>['Logic']</td>\n",
       "    </tr>\n",
       "    <tr>\n",
       "      <th>17</th>\n",
       "      <td>ss-1030</td>\n",
       "      <td>12</td>\n",
       "      <td>0</td>\n",
       "      <td>What's the last class on Wednesday?</td>\n",
       "      <td>table_csv/schedule.csv</td>\n",
       "      <td>['(4, 3)']</td>\n",
       "      <td>['Calculus']</td>\n",
       "    </tr>\n",
       "    <tr>\n",
       "      <th>18</th>\n",
       "      <td>ss-1030</td>\n",
       "      <td>13</td>\n",
       "      <td>0</td>\n",
       "      <td>What class is at 9 on Thursday?</td>\n",
       "      <td>table_csv/schedule.csv</td>\n",
       "      <td>['(0, 4)']</td>\n",
       "      <td>['Calculus']</td>\n",
       "    </tr>\n",
       "    <tr>\n",
       "      <th>19</th>\n",
       "      <td>ss-1030</td>\n",
       "      <td>14</td>\n",
       "      <td>0</td>\n",
       "      <td>What's happening at 11 on Friday?</td>\n",
       "      <td>table_csv/schedule.csv</td>\n",
       "      <td>['(1, 5)']</td>\n",
       "      <td>['TCS']</td>\n",
       "    </tr>\n",
       "    <tr>\n",
       "      <th>20</th>\n",
       "      <td>ss-1030</td>\n",
       "      <td>15</td>\n",
       "      <td>0</td>\n",
       "      <td>What's the second class on Monday?</td>\n",
       "      <td>table_csv/schedule.csv</td>\n",
       "      <td>['(1, 1)']</td>\n",
       "      <td>['SSA']</td>\n",
       "    </tr>\n",
       "    <tr>\n",
       "      <th>21</th>\n",
       "      <td>ss-1030</td>\n",
       "      <td>16</td>\n",
       "      <td>0</td>\n",
       "      <td>What is the last class on Tuesday?</td>\n",
       "      <td>table_csv/schedule.csv</td>\n",
       "      <td>['(4, 2)']</td>\n",
       "      <td>['TCS']</td>\n",
       "    </tr>\n",
       "    <tr>\n",
       "      <th>22</th>\n",
       "      <td>ss-1030</td>\n",
       "      <td>17</td>\n",
       "      <td>0</td>\n",
       "      <td>What is the first class on Wednesday?</td>\n",
       "      <td>table_csv/schedule.csv</td>\n",
       "      <td>['(0, 3)']</td>\n",
       "      <td>['TCS']</td>\n",
       "    </tr>\n",
       "    <tr>\n",
       "      <th>23</th>\n",
       "      <td>ss-1030</td>\n",
       "      <td>18</td>\n",
       "      <td>0</td>\n",
       "      <td>What class is at 15 on Thursday?</td>\n",
       "      <td>table_csv/schedule.csv</td>\n",
       "      <td>['(3, 4)']</td>\n",
       "      <td>['Logic']</td>\n",
       "    </tr>\n",
       "    <tr>\n",
       "      <th>24</th>\n",
       "      <td>ss-1030</td>\n",
       "      <td>19</td>\n",
       "      <td>0</td>\n",
       "      <td>What's happening at 9 on Friday?</td>\n",
       "      <td>table_csv/schedule.csv</td>\n",
       "      <td>['(0, 5)']</td>\n",
       "      <td>['MM']</td>\n",
       "    </tr>\n",
       "  </tbody>\n",
       "</table>\n",
       "</div>"
      ],
      "text/plain": [
       "         id  annotator  position                                  question  \\\n",
       "0   ss-1030          0         0         What is scheduled on Monday at 9?   \n",
       "1   ss-1030          0         1                 What is the next lecture?   \n",
       "2   ss-1030          1         0         What subject is at 11 on Tuesday?   \n",
       "3   ss-1030          1         1                 What is the next lecture?   \n",
       "4   ss-1030          2         0     What is happening on Wednesday at 13?   \n",
       "5   ss-1030          2         1                 What is the next lecture?   \n",
       "6   ss-1030          3         0  What is the schedule for Thursday at 15?   \n",
       "7   ss-1030          3         1                 What is the next lecture?   \n",
       "8   ss-1030          4         0                   What's on Friday at 17?   \n",
       "9   ss-1030          5         0        What is the first class on Monday?   \n",
       "10  ss-1030          5         1                 What is the next lecture?   \n",
       "11  ss-1030          6         0         What's the last class on Tuesday?   \n",
       "12  ss-1030          7         0         What's happening at 13 on Friday?   \n",
       "13  ss-1030          8         0         What class is at 11 on Wednesday?   \n",
       "14  ss-1030          9         0  What is the schedule for Thursday at 17?   \n",
       "15  ss-1030         10         0            What class is at 15 on Monday?   \n",
       "16  ss-1030         11         0        What's the first class on Tuesday?   \n",
       "17  ss-1030         12         0       What's the last class on Wednesday?   \n",
       "18  ss-1030         13         0           What class is at 9 on Thursday?   \n",
       "19  ss-1030         14         0         What's happening at 11 on Friday?   \n",
       "20  ss-1030         15         0        What's the second class on Monday?   \n",
       "21  ss-1030         16         0        What is the last class on Tuesday?   \n",
       "22  ss-1030         17         0     What is the first class on Wednesday?   \n",
       "23  ss-1030         18         0          What class is at 15 on Thursday?   \n",
       "24  ss-1030         19         0          What's happening at 9 on Friday?   \n",
       "\n",
       "                table_file answer_coordinates      answer_text  \n",
       "0   table_csv/schedule.csv         ['(0, 1)']          ['TCS']  \n",
       "1   table_csv/schedule.csv         ['(1, 1)']          ['SSA']  \n",
       "2   table_csv/schedule.csv         ['(1, 2)']  ['Project 2-2']  \n",
       "3   table_csv/schedule.csv         ['(2, 2)']          ['SSA']  \n",
       "4   table_csv/schedule.csv         ['(2, 3)']          ['TCS']  \n",
       "5   table_csv/schedule.csv         ['(3, 3)']           ['MM']  \n",
       "6   table_csv/schedule.csv         ['(3, 4)']        ['Logic']  \n",
       "7   table_csv/schedule.csv         ['(4, 4)']          ['SSA']  \n",
       "8   table_csv/schedule.csv         ['(4, 5)']  ['Project 2-2']  \n",
       "9   table_csv/schedule.csv         ['(0, 1)']          ['TCS']  \n",
       "10  table_csv/schedule.csv         ['(1, 1)']          ['SSA']  \n",
       "11  table_csv/schedule.csv         ['(4, 2)']          ['TCS']  \n",
       "12  table_csv/schedule.csv         ['(2, 5)']          ['TCS']  \n",
       "13  table_csv/schedule.csv         ['(1, 3)']  ['Project 2-2']  \n",
       "14  table_csv/schedule.csv         ['(4, 4)']          ['SSA']  \n",
       "15  table_csv/schedule.csv         ['(3, 1)']  ['Project 2-2']  \n",
       "16  table_csv/schedule.csv         ['(0, 2)']        ['Logic']  \n",
       "17  table_csv/schedule.csv         ['(4, 3)']     ['Calculus']  \n",
       "18  table_csv/schedule.csv         ['(0, 4)']     ['Calculus']  \n",
       "19  table_csv/schedule.csv         ['(1, 5)']          ['TCS']  \n",
       "20  table_csv/schedule.csv         ['(1, 1)']          ['SSA']  \n",
       "21  table_csv/schedule.csv         ['(4, 2)']          ['TCS']  \n",
       "22  table_csv/schedule.csv         ['(0, 3)']          ['TCS']  \n",
       "23  table_csv/schedule.csv         ['(3, 4)']        ['Logic']  \n",
       "24  table_csv/schedule.csv         ['(0, 5)']           ['MM']  "
      ]
     },
     "execution_count": 188,
     "metadata": {},
     "output_type": "execute_result"
    }
   ],
   "source": [
    "data_schedule=pd.read_csv(\"24_sqa_train_set.csv\")\n",
    "data_schedule\n"
   ]
  },
  {
   "cell_type": "markdown",
   "metadata": {
    "id": "OMJ4dNBV1oj6",
    "pycharm": {
     "name": "#%% md\n"
    }
   },
   "source": [
    "As you can see, each row corresponds to a question related to a table. \n",
    "* The `position` column identifies whether the question is the first, second, ... in a sequence of questions related to a table. \n",
    "* The `table_file` column identifies the name of the table file, which refers to a CSV file in the `table_csv` directory.\n",
    "* The `answer_coordinates` and `answer_text` columns indicate the answer to the question. The `answer_coordinates` is a list of tuples, each tuple being a (row_index, column_index) pair. The `answer_text` column is a list of strings, indicating the cell values.\n",
    "\n",
    "However, the `answer_coordinates` and `answer_text` columns are currently not recognized as real Python lists of Python tuples and strings respectively. Let's do that first using the `.literal_eval()`function of the `ast` module:"
   ]
  },
  {
   "cell_type": "code",
   "execution_count": 189,
   "metadata": {
    "colab": {
     "base_uri": "https://localhost:8080/",
     "height": 511
    },
    "id": "BAovAs5s1k10",
    "outputId": "0849a829-4ae8-43e9-e138-177fa14e3e36",
    "pycharm": {
     "name": "#%%\n"
    }
   },
   "outputs": [
    {
     "data": {
      "text/html": [
       "<div>\n",
       "<style scoped>\n",
       "    .dataframe tbody tr th:only-of-type {\n",
       "        vertical-align: middle;\n",
       "    }\n",
       "\n",
       "    .dataframe tbody tr th {\n",
       "        vertical-align: top;\n",
       "    }\n",
       "\n",
       "    .dataframe thead th {\n",
       "        text-align: right;\n",
       "    }\n",
       "</style>\n",
       "<table border=\"1\" class=\"dataframe\">\n",
       "  <thead>\n",
       "    <tr style=\"text-align: right;\">\n",
       "      <th></th>\n",
       "      <th>id</th>\n",
       "      <th>annotator</th>\n",
       "      <th>position</th>\n",
       "      <th>question</th>\n",
       "      <th>table_file</th>\n",
       "      <th>answer_coordinates</th>\n",
       "      <th>answer_text</th>\n",
       "    </tr>\n",
       "  </thead>\n",
       "  <tbody>\n",
       "    <tr>\n",
       "      <th>0</th>\n",
       "      <td>ss-1030</td>\n",
       "      <td>0</td>\n",
       "      <td>0</td>\n",
       "      <td>What is scheduled on Monday at 9?</td>\n",
       "      <td>table_csv/schedule.csv</td>\n",
       "      <td>[(0, 1)]</td>\n",
       "      <td>[TCS]</td>\n",
       "    </tr>\n",
       "    <tr>\n",
       "      <th>1</th>\n",
       "      <td>ss-1030</td>\n",
       "      <td>0</td>\n",
       "      <td>1</td>\n",
       "      <td>What is the next lecture?</td>\n",
       "      <td>table_csv/schedule.csv</td>\n",
       "      <td>[(1, 1)]</td>\n",
       "      <td>[SSA]</td>\n",
       "    </tr>\n",
       "    <tr>\n",
       "      <th>2</th>\n",
       "      <td>ss-1030</td>\n",
       "      <td>1</td>\n",
       "      <td>0</td>\n",
       "      <td>What subject is at 11 on Tuesday?</td>\n",
       "      <td>table_csv/schedule.csv</td>\n",
       "      <td>[(1, 2)]</td>\n",
       "      <td>[Project 2-2]</td>\n",
       "    </tr>\n",
       "    <tr>\n",
       "      <th>3</th>\n",
       "      <td>ss-1030</td>\n",
       "      <td>1</td>\n",
       "      <td>1</td>\n",
       "      <td>What is the next lecture?</td>\n",
       "      <td>table_csv/schedule.csv</td>\n",
       "      <td>[(2, 2)]</td>\n",
       "      <td>[SSA]</td>\n",
       "    </tr>\n",
       "    <tr>\n",
       "      <th>4</th>\n",
       "      <td>ss-1030</td>\n",
       "      <td>2</td>\n",
       "      <td>0</td>\n",
       "      <td>What is happening on Wednesday at 13?</td>\n",
       "      <td>table_csv/schedule.csv</td>\n",
       "      <td>[(2, 3)]</td>\n",
       "      <td>[TCS]</td>\n",
       "    </tr>\n",
       "    <tr>\n",
       "      <th>5</th>\n",
       "      <td>ss-1030</td>\n",
       "      <td>2</td>\n",
       "      <td>1</td>\n",
       "      <td>What is the next lecture?</td>\n",
       "      <td>table_csv/schedule.csv</td>\n",
       "      <td>[(3, 3)]</td>\n",
       "      <td>[MM]</td>\n",
       "    </tr>\n",
       "    <tr>\n",
       "      <th>6</th>\n",
       "      <td>ss-1030</td>\n",
       "      <td>3</td>\n",
       "      <td>0</td>\n",
       "      <td>What is the schedule for Thursday at 15?</td>\n",
       "      <td>table_csv/schedule.csv</td>\n",
       "      <td>[(3, 4)]</td>\n",
       "      <td>[Logic]</td>\n",
       "    </tr>\n",
       "    <tr>\n",
       "      <th>7</th>\n",
       "      <td>ss-1030</td>\n",
       "      <td>3</td>\n",
       "      <td>1</td>\n",
       "      <td>What is the next lecture?</td>\n",
       "      <td>table_csv/schedule.csv</td>\n",
       "      <td>[(4, 4)]</td>\n",
       "      <td>[SSA]</td>\n",
       "    </tr>\n",
       "    <tr>\n",
       "      <th>8</th>\n",
       "      <td>ss-1030</td>\n",
       "      <td>4</td>\n",
       "      <td>0</td>\n",
       "      <td>What's on Friday at 17?</td>\n",
       "      <td>table_csv/schedule.csv</td>\n",
       "      <td>[(4, 5)]</td>\n",
       "      <td>[Project 2-2]</td>\n",
       "    </tr>\n",
       "    <tr>\n",
       "      <th>9</th>\n",
       "      <td>ss-1030</td>\n",
       "      <td>5</td>\n",
       "      <td>0</td>\n",
       "      <td>What is the first class on Monday?</td>\n",
       "      <td>table_csv/schedule.csv</td>\n",
       "      <td>[(0, 1)]</td>\n",
       "      <td>[TCS]</td>\n",
       "    </tr>\n",
       "  </tbody>\n",
       "</table>\n",
       "</div>"
      ],
      "text/plain": [
       "        id  annotator  position                                  question  \\\n",
       "0  ss-1030          0         0         What is scheduled on Monday at 9?   \n",
       "1  ss-1030          0         1                 What is the next lecture?   \n",
       "2  ss-1030          1         0         What subject is at 11 on Tuesday?   \n",
       "3  ss-1030          1         1                 What is the next lecture?   \n",
       "4  ss-1030          2         0     What is happening on Wednesday at 13?   \n",
       "5  ss-1030          2         1                 What is the next lecture?   \n",
       "6  ss-1030          3         0  What is the schedule for Thursday at 15?   \n",
       "7  ss-1030          3         1                 What is the next lecture?   \n",
       "8  ss-1030          4         0                   What's on Friday at 17?   \n",
       "9  ss-1030          5         0        What is the first class on Monday?   \n",
       "\n",
       "               table_file answer_coordinates    answer_text  \n",
       "0  table_csv/schedule.csv           [(0, 1)]          [TCS]  \n",
       "1  table_csv/schedule.csv           [(1, 1)]          [SSA]  \n",
       "2  table_csv/schedule.csv           [(1, 2)]  [Project 2-2]  \n",
       "3  table_csv/schedule.csv           [(2, 2)]          [SSA]  \n",
       "4  table_csv/schedule.csv           [(2, 3)]          [TCS]  \n",
       "5  table_csv/schedule.csv           [(3, 3)]           [MM]  \n",
       "6  table_csv/schedule.csv           [(3, 4)]        [Logic]  \n",
       "7  table_csv/schedule.csv           [(4, 4)]          [SSA]  \n",
       "8  table_csv/schedule.csv           [(4, 5)]  [Project 2-2]  \n",
       "9  table_csv/schedule.csv           [(0, 1)]          [TCS]  "
      ]
     },
     "execution_count": 189,
     "metadata": {},
     "output_type": "execute_result"
    }
   ],
   "source": [
    "import ast\n",
    "\n",
    "def _parse_answer_coordinates(answer_coordinate_str):\n",
    "  \"\"\"Parses the answer_coordinates of a question.\n",
    "  Args:\n",
    "    answer_coordinate_str: A string representation of a Python list of tuple\n",
    "      strings.\n",
    "      For example: \"['(1, 4)','(1, 3)', ...]\"\n",
    "  \"\"\"\n",
    "\n",
    "  try:\n",
    "    answer_coordinates = []\n",
    "    # make a list of strings\n",
    "    coords = ast.literal_eval(answer_coordinate_str)\n",
    "    # parse each string as a tuple\n",
    "    for row_index, column_index in sorted(\n",
    "        ast.literal_eval(coord) for coord in coords):\n",
    "      answer_coordinates.append((row_index, column_index))\n",
    "  except SyntaxError:\n",
    "    raise ValueError('Unable to evaluate %s' % answer_coordinate_str)\n",
    "  \n",
    "  return answer_coordinates\n",
    "\n",
    "\n",
    "def _parse_answer_text(answer_text):\n",
    "  \"\"\"Populates the answer_texts field of `answer` by parsing `answer_text`.\n",
    "  Args:\n",
    "    answer_text: A string representation of a Python list of strings.\n",
    "      For example: \"[u'test', u'hello', ...]\"\n",
    "    answer: an Answer object.\n",
    "  \"\"\"\n",
    "  try:\n",
    "    answer = []\n",
    "    for value in ast.literal_eval(answer_text):\n",
    "      answer.append(value)\n",
    "  except SyntaxError:\n",
    "    raise ValueError('Unable to evaluate %s' % answer_text)\n",
    "\n",
    "  return answer\n",
    "\n",
    "data_schedule['answer_coordinates'] = data_schedule['answer_coordinates'].apply(lambda coords_str: _parse_answer_coordinates(coords_str))\n",
    "data_schedule['answer_text'] = data_schedule['answer_text'].apply(lambda txt: _parse_answer_text(txt))\n",
    "\n",
    "data_schedule.head(10)"
   ]
  },
  {
   "cell_type": "markdown",
   "metadata": {
    "id": "X7FYPpdW5dY4",
    "pycharm": {
     "name": "#%% md\n"
    }
   },
   "source": [
    "Let's create a new dataframe that groups questions which are asked in a sequence related to the table. We can do this by adding a `sequence_id` column, which is a combination of the `id` and `annotator` columns:"
   ]
  },
  {
   "cell_type": "code",
   "execution_count": 190,
   "metadata": {
    "colab": {
     "base_uri": "https://localhost:8080/",
     "height": 279
    },
    "id": "O1Quo0FL7h9-",
    "outputId": "5223d575-b86d-41e6-b23a-6071b3048211",
    "pycharm": {
     "name": "#%%\n"
    }
   },
   "outputs": [
    {
     "data": {
      "text/html": [
       "<div>\n",
       "<style scoped>\n",
       "    .dataframe tbody tr th:only-of-type {\n",
       "        vertical-align: middle;\n",
       "    }\n",
       "\n",
       "    .dataframe tbody tr th {\n",
       "        vertical-align: top;\n",
       "    }\n",
       "\n",
       "    .dataframe thead th {\n",
       "        text-align: right;\n",
       "    }\n",
       "</style>\n",
       "<table border=\"1\" class=\"dataframe\">\n",
       "  <thead>\n",
       "    <tr style=\"text-align: right;\">\n",
       "      <th></th>\n",
       "      <th>id</th>\n",
       "      <th>annotator</th>\n",
       "      <th>position</th>\n",
       "      <th>question</th>\n",
       "      <th>table_file</th>\n",
       "      <th>answer_coordinates</th>\n",
       "      <th>answer_text</th>\n",
       "      <th>sequence_id</th>\n",
       "    </tr>\n",
       "  </thead>\n",
       "  <tbody>\n",
       "    <tr>\n",
       "      <th>0</th>\n",
       "      <td>nt-639</td>\n",
       "      <td>0</td>\n",
       "      <td>0</td>\n",
       "      <td>where are the players from?</td>\n",
       "      <td>table_csv/203_149.csv</td>\n",
       "      <td>['(0, 4)', '(1, 4)', '(2, 4)', '(3, 4)', '(4, ...</td>\n",
       "      <td>['Louisiana State University', 'Valley HS (Las...</td>\n",
       "      <td>nt-639-0</td>\n",
       "    </tr>\n",
       "    <tr>\n",
       "      <th>1</th>\n",
       "      <td>nt-639</td>\n",
       "      <td>0</td>\n",
       "      <td>1</td>\n",
       "      <td>which player went to louisiana state university?</td>\n",
       "      <td>table_csv/203_149.csv</td>\n",
       "      <td>['(0, 1)']</td>\n",
       "      <td>['Ben McDonald']</td>\n",
       "      <td>nt-639-0</td>\n",
       "    </tr>\n",
       "    <tr>\n",
       "      <th>2</th>\n",
       "      <td>nt-639</td>\n",
       "      <td>1</td>\n",
       "      <td>0</td>\n",
       "      <td>who are the players?</td>\n",
       "      <td>table_csv/203_149.csv</td>\n",
       "      <td>['(0, 1)', '(1, 1)', '(2, 1)', '(3, 1)', '(4, ...</td>\n",
       "      <td>['Ben McDonald', 'Tyler Houston', 'Roger Salke...</td>\n",
       "      <td>nt-639-1</td>\n",
       "    </tr>\n",
       "    <tr>\n",
       "      <th>3</th>\n",
       "      <td>nt-639</td>\n",
       "      <td>1</td>\n",
       "      <td>1</td>\n",
       "      <td>which ones are in the top 26 picks?</td>\n",
       "      <td>table_csv/203_149.csv</td>\n",
       "      <td>['(0, 1)', '(1, 1)', '(2, 1)', '(3, 1)', '(4, ...</td>\n",
       "      <td>['Ben McDonald', 'Tyler Houston', 'Roger Salke...</td>\n",
       "      <td>nt-639-1</td>\n",
       "    </tr>\n",
       "    <tr>\n",
       "      <th>4</th>\n",
       "      <td>nt-639</td>\n",
       "      <td>1</td>\n",
       "      <td>2</td>\n",
       "      <td>and of those, who is from louisiana state univ...</td>\n",
       "      <td>table_csv/203_149.csv</td>\n",
       "      <td>['(0, 1)']</td>\n",
       "      <td>['Ben McDonald']</td>\n",
       "      <td>nt-639-1</td>\n",
       "    </tr>\n",
       "  </tbody>\n",
       "</table>\n",
       "</div>"
      ],
      "text/plain": [
       "       id  annotator  position  \\\n",
       "0  nt-639          0         0   \n",
       "1  nt-639          0         1   \n",
       "2  nt-639          1         0   \n",
       "3  nt-639          1         1   \n",
       "4  nt-639          1         2   \n",
       "\n",
       "                                            question             table_file  \\\n",
       "0                        where are the players from?  table_csv/203_149.csv   \n",
       "1   which player went to louisiana state university?  table_csv/203_149.csv   \n",
       "2                               who are the players?  table_csv/203_149.csv   \n",
       "3                which ones are in the top 26 picks?  table_csv/203_149.csv   \n",
       "4  and of those, who is from louisiana state univ...  table_csv/203_149.csv   \n",
       "\n",
       "                                  answer_coordinates  \\\n",
       "0  ['(0, 4)', '(1, 4)', '(2, 4)', '(3, 4)', '(4, ...   \n",
       "1                                         ['(0, 1)']   \n",
       "2  ['(0, 1)', '(1, 1)', '(2, 1)', '(3, 1)', '(4, ...   \n",
       "3  ['(0, 1)', '(1, 1)', '(2, 1)', '(3, 1)', '(4, ...   \n",
       "4                                         ['(0, 1)']   \n",
       "\n",
       "                                         answer_text sequence_id  \n",
       "0  ['Louisiana State University', 'Valley HS (Las...    nt-639-0  \n",
       "1                                   ['Ben McDonald']    nt-639-0  \n",
       "2  ['Ben McDonald', 'Tyler Houston', 'Roger Salke...    nt-639-1  \n",
       "3  ['Ben McDonald', 'Tyler Houston', 'Roger Salke...    nt-639-1  \n",
       "4                                   ['Ben McDonald']    nt-639-1  "
      ]
     },
     "execution_count": 190,
     "metadata": {},
     "output_type": "execute_result"
    }
   ],
   "source": [
    "def get_sequence_id(example_id, annotator):\n",
    "  if \"-\" in str(annotator):\n",
    "    raise ValueError('\"-\" not allowed in annotator.')\n",
    "  return f\"{example_id}-{annotator}\"\n",
    "\n",
    "data['sequence_id'] = data.apply(lambda x: get_sequence_id(x.id, x.annotator), axis=1)\n",
    "data.head()"
   ]
  },
  {
   "cell_type": "code",
   "execution_count": 191,
   "metadata": {
    "pycharm": {
     "name": "#%%\n"
    }
   },
   "outputs": [
    {
     "data": {
      "text/html": [
       "<div>\n",
       "<style scoped>\n",
       "    .dataframe tbody tr th:only-of-type {\n",
       "        vertical-align: middle;\n",
       "    }\n",
       "\n",
       "    .dataframe tbody tr th {\n",
       "        vertical-align: top;\n",
       "    }\n",
       "\n",
       "    .dataframe thead th {\n",
       "        text-align: right;\n",
       "    }\n",
       "</style>\n",
       "<table border=\"1\" class=\"dataframe\">\n",
       "  <thead>\n",
       "    <tr style=\"text-align: right;\">\n",
       "      <th></th>\n",
       "      <th>id</th>\n",
       "      <th>annotator</th>\n",
       "      <th>position</th>\n",
       "      <th>question</th>\n",
       "      <th>table_file</th>\n",
       "      <th>answer_coordinates</th>\n",
       "      <th>answer_text</th>\n",
       "      <th>sequence_id</th>\n",
       "    </tr>\n",
       "  </thead>\n",
       "  <tbody>\n",
       "    <tr>\n",
       "      <th>0</th>\n",
       "      <td>ss-1030</td>\n",
       "      <td>0</td>\n",
       "      <td>0</td>\n",
       "      <td>What is scheduled on Monday at 9?</td>\n",
       "      <td>table_csv/schedule.csv</td>\n",
       "      <td>[(0, 1)]</td>\n",
       "      <td>[TCS]</td>\n",
       "      <td>ss-1030-0</td>\n",
       "    </tr>\n",
       "    <tr>\n",
       "      <th>1</th>\n",
       "      <td>ss-1030</td>\n",
       "      <td>0</td>\n",
       "      <td>1</td>\n",
       "      <td>What is the next lecture?</td>\n",
       "      <td>table_csv/schedule.csv</td>\n",
       "      <td>[(1, 1)]</td>\n",
       "      <td>[SSA]</td>\n",
       "      <td>ss-1030-0</td>\n",
       "    </tr>\n",
       "    <tr>\n",
       "      <th>2</th>\n",
       "      <td>ss-1030</td>\n",
       "      <td>1</td>\n",
       "      <td>0</td>\n",
       "      <td>What subject is at 11 on Tuesday?</td>\n",
       "      <td>table_csv/schedule.csv</td>\n",
       "      <td>[(1, 2)]</td>\n",
       "      <td>[Project 2-2]</td>\n",
       "      <td>ss-1030-1</td>\n",
       "    </tr>\n",
       "    <tr>\n",
       "      <th>3</th>\n",
       "      <td>ss-1030</td>\n",
       "      <td>1</td>\n",
       "      <td>1</td>\n",
       "      <td>What is the next lecture?</td>\n",
       "      <td>table_csv/schedule.csv</td>\n",
       "      <td>[(2, 2)]</td>\n",
       "      <td>[SSA]</td>\n",
       "      <td>ss-1030-1</td>\n",
       "    </tr>\n",
       "    <tr>\n",
       "      <th>4</th>\n",
       "      <td>ss-1030</td>\n",
       "      <td>2</td>\n",
       "      <td>0</td>\n",
       "      <td>What is happening on Wednesday at 13?</td>\n",
       "      <td>table_csv/schedule.csv</td>\n",
       "      <td>[(2, 3)]</td>\n",
       "      <td>[TCS]</td>\n",
       "      <td>ss-1030-2</td>\n",
       "    </tr>\n",
       "  </tbody>\n",
       "</table>\n",
       "</div>"
      ],
      "text/plain": [
       "        id  annotator  position                               question  \\\n",
       "0  ss-1030          0         0      What is scheduled on Monday at 9?   \n",
       "1  ss-1030          0         1              What is the next lecture?   \n",
       "2  ss-1030          1         0      What subject is at 11 on Tuesday?   \n",
       "3  ss-1030          1         1              What is the next lecture?   \n",
       "4  ss-1030          2         0  What is happening on Wednesday at 13?   \n",
       "\n",
       "               table_file answer_coordinates    answer_text sequence_id  \n",
       "0  table_csv/schedule.csv           [(0, 1)]          [TCS]   ss-1030-0  \n",
       "1  table_csv/schedule.csv           [(1, 1)]          [SSA]   ss-1030-0  \n",
       "2  table_csv/schedule.csv           [(1, 2)]  [Project 2-2]   ss-1030-1  \n",
       "3  table_csv/schedule.csv           [(2, 2)]          [SSA]   ss-1030-1  \n",
       "4  table_csv/schedule.csv           [(2, 3)]          [TCS]   ss-1030-2  "
      ]
     },
     "execution_count": 191,
     "metadata": {},
     "output_type": "execute_result"
    }
   ],
   "source": [
    "def get_sequence_id(example_id, annotator):\n",
    "  if \"-\" in str(annotator):\n",
    "    raise ValueError('\"-\" not allowed in annotator.')\n",
    "  return f\"{example_id}-{annotator}\"\n",
    "\n",
    "data_schedule['sequence_id'] = data_schedule.apply(lambda x: get_sequence_id(x.id, x.annotator), axis=1)\n",
    "data_schedule.head()"
   ]
  },
  {
   "cell_type": "code",
   "execution_count": 192,
   "metadata": {
    "colab": {
     "base_uri": "https://localhost:8080/",
     "height": 541
    },
    "id": "-uPpds5D762B",
    "outputId": "38aa6f13-2cc7-4d96-b8b3-a510288bfca2",
    "pycharm": {
     "name": "#%%\n"
    }
   },
   "outputs": [
    {
     "data": {
      "text/html": [
       "<div>\n",
       "<style scoped>\n",
       "    .dataframe tbody tr th:only-of-type {\n",
       "        vertical-align: middle;\n",
       "    }\n",
       "\n",
       "    .dataframe tbody tr th {\n",
       "        vertical-align: top;\n",
       "    }\n",
       "\n",
       "    .dataframe thead th {\n",
       "        text-align: right;\n",
       "    }\n",
       "</style>\n",
       "<table border=\"1\" class=\"dataframe\">\n",
       "  <thead>\n",
       "    <tr style=\"text-align: right;\">\n",
       "      <th></th>\n",
       "      <th>question</th>\n",
       "      <th>table_file</th>\n",
       "      <th>answer_coordinates</th>\n",
       "      <th>answer_text</th>\n",
       "    </tr>\n",
       "    <tr>\n",
       "      <th>sequence_id</th>\n",
       "      <th></th>\n",
       "      <th></th>\n",
       "      <th></th>\n",
       "      <th></th>\n",
       "    </tr>\n",
       "  </thead>\n",
       "  <tbody>\n",
       "    <tr>\n",
       "      <th>ns-1292-0</th>\n",
       "      <td>[who are all the athletes?, where are they fro...</td>\n",
       "      <td>table_csv/204_521.csv</td>\n",
       "      <td>[['(0, 1)', '(1, 1)', '(2, 1)', '(3, 1)', '(4,...</td>\n",
       "      <td>[['Tommy Green', 'Janis Dalins', 'Ugo Frigerio...</td>\n",
       "    </tr>\n",
       "    <tr>\n",
       "      <th>nt-10730-0</th>\n",
       "      <td>[what was the production numbers of each revol...</td>\n",
       "      <td>table_csv/203_253.csv</td>\n",
       "      <td>[['(0, 4)', '(1, 4)', '(2, 4)', '(3, 4)', '(4,...</td>\n",
       "      <td>[['1,900 (estimated)', '14,500 (estimated)', '...</td>\n",
       "    </tr>\n",
       "    <tr>\n",
       "      <th>nt-10730-1</th>\n",
       "      <td>[what three revolver models had the least amou...</td>\n",
       "      <td>table_csv/203_253.csv</td>\n",
       "      <td>[['(0, 0)', '(6, 0)', '(7, 0)'], ['(0, 0)']]</td>\n",
       "      <td>[['Remington-Beals Army Model Revolver', 'New ...</td>\n",
       "    </tr>\n",
       "    <tr>\n",
       "      <th>nt-10730-2</th>\n",
       "      <td>[what are all of the remington models?, how ma...</td>\n",
       "      <td>table_csv/203_253.csv</td>\n",
       "      <td>[['(0, 0)', '(1, 0)', '(2, 0)', '(3, 0)', '(4,...</td>\n",
       "      <td>[['Remington-Beals Army Model Revolver', 'Remi...</td>\n",
       "    </tr>\n",
       "    <tr>\n",
       "      <th>nt-11649-0</th>\n",
       "      <td>[what are all the names of the teams?, of thes...</td>\n",
       "      <td>table_csv/204_135.csv</td>\n",
       "      <td>[['(0, 1)', '(1, 1)', '(2, 1)', '(3, 1)', '(4,...</td>\n",
       "      <td>[['Cordoba CF', 'CD Malaga', 'Granada CF', 'UD...</td>\n",
       "    </tr>\n",
       "    <tr>\n",
       "      <th>nt-11649-1</th>\n",
       "      <td>[what are the losses?, what team had more than...</td>\n",
       "      <td>table_csv/204_135.csv</td>\n",
       "      <td>[['(0, 6)', '(1, 6)', '(2, 6)', '(3, 6)', '(4,...</td>\n",
       "      <td>[['6', '6', '9', '10', '10', '12', '12', '11',...</td>\n",
       "    </tr>\n",
       "    <tr>\n",
       "      <th>nt-11649-2</th>\n",
       "      <td>[what were all the teams?, what were the loss ...</td>\n",
       "      <td>table_csv/204_135.csv</td>\n",
       "      <td>[['(0, 1)', '(1, 1)', '(2, 1)', '(3, 1)', '(4,...</td>\n",
       "      <td>[['Cordoba CF', 'CD Malaga', 'Granada CF', 'UD...</td>\n",
       "    </tr>\n",
       "    <tr>\n",
       "      <th>nt-639-0</th>\n",
       "      <td>[where are the players from?, which player wen...</td>\n",
       "      <td>table_csv/203_149.csv</td>\n",
       "      <td>[['(0, 4)', '(1, 4)', '(2, 4)', '(3, 4)', '(4,...</td>\n",
       "      <td>[['Louisiana State University', 'Valley HS (La...</td>\n",
       "    </tr>\n",
       "    <tr>\n",
       "      <th>nt-639-1</th>\n",
       "      <td>[who are the players?, which ones are in the t...</td>\n",
       "      <td>table_csv/203_149.csv</td>\n",
       "      <td>[['(0, 1)', '(1, 1)', '(2, 1)', '(3, 1)', '(4,...</td>\n",
       "      <td>[['Ben McDonald', 'Tyler Houston', 'Roger Salk...</td>\n",
       "    </tr>\n",
       "    <tr>\n",
       "      <th>nt-639-2</th>\n",
       "      <td>[who are the players in the top 26?, of those,...</td>\n",
       "      <td>table_csv/203_149.csv</td>\n",
       "      <td>[['(0, 1)', '(1, 1)', '(2, 1)', '(3, 1)', '(4,...</td>\n",
       "      <td>[['Ben McDonald', 'Tyler Houston', 'Roger Salk...</td>\n",
       "    </tr>\n",
       "  </tbody>\n",
       "</table>\n",
       "</div>"
      ],
      "text/plain": [
       "                                                      question  \\\n",
       "sequence_id                                                      \n",
       "ns-1292-0    [who are all the athletes?, where are they fro...   \n",
       "nt-10730-0   [what was the production numbers of each revol...   \n",
       "nt-10730-1   [what three revolver models had the least amou...   \n",
       "nt-10730-2   [what are all of the remington models?, how ma...   \n",
       "nt-11649-0   [what are all the names of the teams?, of thes...   \n",
       "nt-11649-1   [what are the losses?, what team had more than...   \n",
       "nt-11649-2   [what were all the teams?, what were the loss ...   \n",
       "nt-639-0     [where are the players from?, which player wen...   \n",
       "nt-639-1     [who are the players?, which ones are in the t...   \n",
       "nt-639-2     [who are the players in the top 26?, of those,...   \n",
       "\n",
       "                        table_file  \\\n",
       "sequence_id                          \n",
       "ns-1292-0    table_csv/204_521.csv   \n",
       "nt-10730-0   table_csv/203_253.csv   \n",
       "nt-10730-1   table_csv/203_253.csv   \n",
       "nt-10730-2   table_csv/203_253.csv   \n",
       "nt-11649-0   table_csv/204_135.csv   \n",
       "nt-11649-1   table_csv/204_135.csv   \n",
       "nt-11649-2   table_csv/204_135.csv   \n",
       "nt-639-0     table_csv/203_149.csv   \n",
       "nt-639-1     table_csv/203_149.csv   \n",
       "nt-639-2     table_csv/203_149.csv   \n",
       "\n",
       "                                            answer_coordinates  \\\n",
       "sequence_id                                                      \n",
       "ns-1292-0    [['(0, 1)', '(1, 1)', '(2, 1)', '(3, 1)', '(4,...   \n",
       "nt-10730-0   [['(0, 4)', '(1, 4)', '(2, 4)', '(3, 4)', '(4,...   \n",
       "nt-10730-1        [['(0, 0)', '(6, 0)', '(7, 0)'], ['(0, 0)']]   \n",
       "nt-10730-2   [['(0, 0)', '(1, 0)', '(2, 0)', '(3, 0)', '(4,...   \n",
       "nt-11649-0   [['(0, 1)', '(1, 1)', '(2, 1)', '(3, 1)', '(4,...   \n",
       "nt-11649-1   [['(0, 6)', '(1, 6)', '(2, 6)', '(3, 6)', '(4,...   \n",
       "nt-11649-2   [['(0, 1)', '(1, 1)', '(2, 1)', '(3, 1)', '(4,...   \n",
       "nt-639-0     [['(0, 4)', '(1, 4)', '(2, 4)', '(3, 4)', '(4,...   \n",
       "nt-639-1     [['(0, 1)', '(1, 1)', '(2, 1)', '(3, 1)', '(4,...   \n",
       "nt-639-2     [['(0, 1)', '(1, 1)', '(2, 1)', '(3, 1)', '(4,...   \n",
       "\n",
       "                                                   answer_text  \n",
       "sequence_id                                                     \n",
       "ns-1292-0    [['Tommy Green', 'Janis Dalins', 'Ugo Frigerio...  \n",
       "nt-10730-0   [['1,900 (estimated)', '14,500 (estimated)', '...  \n",
       "nt-10730-1   [['Remington-Beals Army Model Revolver', 'New ...  \n",
       "nt-10730-2   [['Remington-Beals Army Model Revolver', 'Remi...  \n",
       "nt-11649-0   [['Cordoba CF', 'CD Malaga', 'Granada CF', 'UD...  \n",
       "nt-11649-1   [['6', '6', '9', '10', '10', '12', '12', '11',...  \n",
       "nt-11649-2   [['Cordoba CF', 'CD Malaga', 'Granada CF', 'UD...  \n",
       "nt-639-0     [['Louisiana State University', 'Valley HS (La...  \n",
       "nt-639-1     [['Ben McDonald', 'Tyler Houston', 'Roger Salk...  \n",
       "nt-639-2     [['Ben McDonald', 'Tyler Houston', 'Roger Salk...  "
      ]
     },
     "execution_count": 192,
     "metadata": {},
     "output_type": "execute_result"
    }
   ],
   "source": [
    "# let's group table-question pairs by sequence id, and remove some columns we don't need \n",
    "grouped = data.groupby(by='sequence_id').agg(lambda x: x.tolist())\n",
    "grouped = grouped.drop(columns=['id', 'annotator', 'position'])\n",
    "grouped['table_file'] = grouped['table_file'].apply(lambda x: x[0])\n",
    "grouped.head(10)"
   ]
  },
  {
   "cell_type": "markdown",
   "metadata": {
    "id": "r6RKTkSeLLyJ",
    "pycharm": {
     "name": "#%% md\n"
    }
   },
   "source": [
    "Each row in the dataframe above now consists of a **table and one or more questions** which are asked in a **sequence**. Let's visualize the first row, i.e. a table, together with its queries:"
   ]
  },
  {
   "cell_type": "code",
   "execution_count": 197,
   "metadata": {
    "pycharm": {
     "name": "#%%\n"
    }
   },
   "outputs": [
    {
     "data": {
      "text/html": [
       "<div>\n",
       "<style scoped>\n",
       "    .dataframe tbody tr th:only-of-type {\n",
       "        vertical-align: middle;\n",
       "    }\n",
       "\n",
       "    .dataframe tbody tr th {\n",
       "        vertical-align: top;\n",
       "    }\n",
       "\n",
       "    .dataframe thead th {\n",
       "        text-align: right;\n",
       "    }\n",
       "</style>\n",
       "<table border=\"1\" class=\"dataframe\">\n",
       "  <thead>\n",
       "    <tr style=\"text-align: right;\">\n",
       "      <th></th>\n",
       "      <th>sequence_id</th>\n",
       "      <th>question</th>\n",
       "      <th>table_file</th>\n",
       "      <th>answer_coordinates</th>\n",
       "      <th>answer_text</th>\n",
       "    </tr>\n",
       "  </thead>\n",
       "  <tbody>\n",
       "    <tr>\n",
       "      <th>0</th>\n",
       "      <td>ss-1030-0</td>\n",
       "      <td>[What is scheduled on Monday at 9?, What is th...</td>\n",
       "      <td>table_csv/schedule.csv</td>\n",
       "      <td>[[(0, 1)], [(1, 1)]]</td>\n",
       "      <td>[[TCS], [SSA]]</td>\n",
       "    </tr>\n",
       "    <tr>\n",
       "      <th>1</th>\n",
       "      <td>ss-1030-1</td>\n",
       "      <td>[What subject is at 11 on Tuesday?, What is th...</td>\n",
       "      <td>table_csv/schedule.csv</td>\n",
       "      <td>[[(1, 2)], [(2, 2)]]</td>\n",
       "      <td>[[Project 2-2], [SSA]]</td>\n",
       "    </tr>\n",
       "    <tr>\n",
       "      <th>2</th>\n",
       "      <td>ss-1030-10</td>\n",
       "      <td>[What class is at 15 on Monday?]</td>\n",
       "      <td>table_csv/schedule.csv</td>\n",
       "      <td>[[(3, 1)]]</td>\n",
       "      <td>[[Project 2-2]]</td>\n",
       "    </tr>\n",
       "    <tr>\n",
       "      <th>3</th>\n",
       "      <td>ss-1030-11</td>\n",
       "      <td>[What's the first class on Tuesday?]</td>\n",
       "      <td>table_csv/schedule.csv</td>\n",
       "      <td>[[(0, 2)]]</td>\n",
       "      <td>[[Logic]]</td>\n",
       "    </tr>\n",
       "    <tr>\n",
       "      <th>4</th>\n",
       "      <td>ss-1030-12</td>\n",
       "      <td>[What's the last class on Wednesday?]</td>\n",
       "      <td>table_csv/schedule.csv</td>\n",
       "      <td>[[(4, 3)]]</td>\n",
       "      <td>[[Calculus]]</td>\n",
       "    </tr>\n",
       "    <tr>\n",
       "      <th>5</th>\n",
       "      <td>ss-1030-13</td>\n",
       "      <td>[What class is at 9 on Thursday?]</td>\n",
       "      <td>table_csv/schedule.csv</td>\n",
       "      <td>[[(0, 4)]]</td>\n",
       "      <td>[[Calculus]]</td>\n",
       "    </tr>\n",
       "    <tr>\n",
       "      <th>6</th>\n",
       "      <td>ss-1030-14</td>\n",
       "      <td>[What's happening at 11 on Friday?]</td>\n",
       "      <td>table_csv/schedule.csv</td>\n",
       "      <td>[[(1, 5)]]</td>\n",
       "      <td>[[TCS]]</td>\n",
       "    </tr>\n",
       "    <tr>\n",
       "      <th>7</th>\n",
       "      <td>ss-1030-15</td>\n",
       "      <td>[What's the second class on Monday?]</td>\n",
       "      <td>table_csv/schedule.csv</td>\n",
       "      <td>[[(1, 1)]]</td>\n",
       "      <td>[[SSA]]</td>\n",
       "    </tr>\n",
       "    <tr>\n",
       "      <th>8</th>\n",
       "      <td>ss-1030-16</td>\n",
       "      <td>[What is the last class on Tuesday?]</td>\n",
       "      <td>table_csv/schedule.csv</td>\n",
       "      <td>[[(4, 2)]]</td>\n",
       "      <td>[[TCS]]</td>\n",
       "    </tr>\n",
       "    <tr>\n",
       "      <th>9</th>\n",
       "      <td>ss-1030-17</td>\n",
       "      <td>[What is the first class on Wednesday?]</td>\n",
       "      <td>table_csv/schedule.csv</td>\n",
       "      <td>[[(0, 3)]]</td>\n",
       "      <td>[[TCS]]</td>\n",
       "    </tr>\n",
       "  </tbody>\n",
       "</table>\n",
       "</div>"
      ],
      "text/plain": [
       "  sequence_id                                           question  \\\n",
       "0   ss-1030-0  [What is scheduled on Monday at 9?, What is th...   \n",
       "1   ss-1030-1  [What subject is at 11 on Tuesday?, What is th...   \n",
       "2  ss-1030-10                   [What class is at 15 on Monday?]   \n",
       "3  ss-1030-11               [What's the first class on Tuesday?]   \n",
       "4  ss-1030-12              [What's the last class on Wednesday?]   \n",
       "5  ss-1030-13                  [What class is at 9 on Thursday?]   \n",
       "6  ss-1030-14                [What's happening at 11 on Friday?]   \n",
       "7  ss-1030-15               [What's the second class on Monday?]   \n",
       "8  ss-1030-16               [What is the last class on Tuesday?]   \n",
       "9  ss-1030-17            [What is the first class on Wednesday?]   \n",
       "\n",
       "               table_file    answer_coordinates             answer_text  \n",
       "0  table_csv/schedule.csv  [[(0, 1)], [(1, 1)]]          [[TCS], [SSA]]  \n",
       "1  table_csv/schedule.csv  [[(1, 2)], [(2, 2)]]  [[Project 2-2], [SSA]]  \n",
       "2  table_csv/schedule.csv            [[(3, 1)]]         [[Project 2-2]]  \n",
       "3  table_csv/schedule.csv            [[(0, 2)]]               [[Logic]]  \n",
       "4  table_csv/schedule.csv            [[(4, 3)]]            [[Calculus]]  \n",
       "5  table_csv/schedule.csv            [[(0, 4)]]            [[Calculus]]  \n",
       "6  table_csv/schedule.csv            [[(1, 5)]]                 [[TCS]]  \n",
       "7  table_csv/schedule.csv            [[(1, 1)]]                 [[SSA]]  \n",
       "8  table_csv/schedule.csv            [[(4, 2)]]                 [[TCS]]  \n",
       "9  table_csv/schedule.csv            [[(0, 3)]]                 [[TCS]]  "
      ]
     },
     "execution_count": 197,
     "metadata": {},
     "output_type": "execute_result"
    }
   ],
   "source": [
    "\n",
    "# let's drop not needed columns\n",
    "#data_schedule['sequence_id'] = data_schedule['sequence_id'].str.strip()\n",
    "#qa_df['sequence_id'] = qa_df['sequence_id'].str.replace('\\n', '')\n",
    "data_schedule_grouped = data_schedule.groupby(by = 'sequence_id').agg(lambda x: x.tolist()).reset_index()\n",
    "\n",
    "#qa_df_clean = qa_df.groupby('sequence_id').agg(lambda x: x.tolist())\n",
    "data_schedule_grouped = data_schedule_grouped.drop(columns=['position','annotator','id'])\n",
    "data_schedule_grouped['table_file'] = data_schedule_grouped['table_file'].apply(lambda x: x[0])\n",
    "data_schedule_grouped.head(10)\n",
    "#qa_df_clean['sequence_id'].iloc[0]== 'nt-1'"
   ]
  },
  {
   "cell_type": "code",
   "execution_count": 204,
   "metadata": {
    "pycharm": {
     "name": "#%%\n"
    }
   },
   "outputs": [
    {
     "data": {
      "text/html": [
       "<div>\n",
       "<style scoped>\n",
       "    .dataframe tbody tr th:only-of-type {\n",
       "        vertical-align: middle;\n",
       "    }\n",
       "\n",
       "    .dataframe tbody tr th {\n",
       "        vertical-align: top;\n",
       "    }\n",
       "\n",
       "    .dataframe thead th {\n",
       "        text-align: right;\n",
       "    }\n",
       "</style>\n",
       "<table border=\"1\" class=\"dataframe\">\n",
       "  <thead>\n",
       "    <tr style=\"text-align: right;\">\n",
       "      <th></th>\n",
       "      <th>Time</th>\n",
       "      <th>Monday</th>\n",
       "      <th>Tuesday</th>\n",
       "      <th>Wednesday</th>\n",
       "      <th>Thursday</th>\n",
       "      <th>Friday</th>\n",
       "    </tr>\n",
       "  </thead>\n",
       "  <tbody>\n",
       "    <tr>\n",
       "      <th>0</th>\n",
       "      <td>9</td>\n",
       "      <td>TCS</td>\n",
       "      <td>Logic</td>\n",
       "      <td>TCS</td>\n",
       "      <td>Calculus</td>\n",
       "      <td>MM</td>\n",
       "    </tr>\n",
       "    <tr>\n",
       "      <th>1</th>\n",
       "      <td>11</td>\n",
       "      <td>SSA</td>\n",
       "      <td>Project 2-2</td>\n",
       "      <td>Project 2-2</td>\n",
       "      <td>Project 2-2</td>\n",
       "      <td>TCS</td>\n",
       "    </tr>\n",
       "    <tr>\n",
       "      <th>2</th>\n",
       "      <td>13</td>\n",
       "      <td>MM</td>\n",
       "      <td>SSA</td>\n",
       "      <td>TCS</td>\n",
       "      <td>SSA</td>\n",
       "      <td>TCS</td>\n",
       "    </tr>\n",
       "    <tr>\n",
       "      <th>3</th>\n",
       "      <td>15</td>\n",
       "      <td>Project 2-2</td>\n",
       "      <td>Calculus</td>\n",
       "      <td>MM</td>\n",
       "      <td>Logic</td>\n",
       "      <td>Calculus</td>\n",
       "    </tr>\n",
       "    <tr>\n",
       "      <th>4</th>\n",
       "      <td>17</td>\n",
       "      <td>MM</td>\n",
       "      <td>TCS</td>\n",
       "      <td>Calculus</td>\n",
       "      <td>SSA</td>\n",
       "      <td>Project 2-2</td>\n",
       "    </tr>\n",
       "  </tbody>\n",
       "</table>\n",
       "</div>"
      ],
      "text/plain": [
       "  Time       Monday      Tuesday    Wednesday     Thursday       Friday\n",
       "0    9          TCS        Logic          TCS     Calculus           MM\n",
       "1   11          SSA  Project 2-2  Project 2-2  Project 2-2          TCS\n",
       "2   13           MM          SSA          TCS          SSA          TCS\n",
       "3   15  Project 2-2     Calculus           MM        Logic     Calculus\n",
       "4   17           MM          TCS     Calculus          SSA  Project 2-2"
      ]
     },
     "metadata": {},
     "output_type": "display_data"
    },
    {
     "name": "stdout",
     "output_type": "stream",
     "text": [
      "['What is scheduled on Monday at 9?', 'What is the next lecture?']\n",
      "[[(0, 1)], [(1, 1)]]\n",
      "[['TCS'], ['SSA']]\n"
     ]
    }
   ],
   "source": [
    "table_schedule = pd.read_csv(\"student_schedule_week.csv\").astype(str)\n",
    "display(table_schedule)\n",
    "item = data_schedule_grouped.iloc[0]\n",
    "print(item.question)\n",
    "print(item.answer_coordinates)\n",
    "print(item.answer_text) \n"
   ]
  },
  {
   "cell_type": "code",
   "execution_count": 203,
   "metadata": {
    "colab": {
     "base_uri": "https://localhost:8080/",
     "height": 525
    },
    "id": "J-dTi5omLdN_",
    "outputId": "b8e1d893-8d8b-4540-dc35-57586312c992",
    "pycharm": {
     "name": "#%%\n"
    }
   },
   "outputs": [
    {
     "name": "stdout",
     "output_type": "stream",
     "text": [
      "question              [who are all the athletes?, where are they fro...\n",
      "table_file                                        table_csv/204_521.csv\n",
      "answer_coordinates    [['(0, 1)', '(1, 1)', '(2, 1)', '(3, 1)', '(4,...\n",
      "answer_text           [['Tommy Green', 'Janis Dalins', 'Ugo Frigerio...\n",
      "Name: ns-1292-0, dtype: object\n"
     ]
    },
    {
     "data": {
      "text/html": [
       "<div>\n",
       "<style scoped>\n",
       "    .dataframe tbody tr th:only-of-type {\n",
       "        vertical-align: middle;\n",
       "    }\n",
       "\n",
       "    .dataframe tbody tr th {\n",
       "        vertical-align: top;\n",
       "    }\n",
       "\n",
       "    .dataframe thead th {\n",
       "        text-align: right;\n",
       "    }\n",
       "</style>\n",
       "<table border=\"1\" class=\"dataframe\">\n",
       "  <thead>\n",
       "    <tr style=\"text-align: right;\">\n",
       "      <th></th>\n",
       "      <th>Rank</th>\n",
       "      <th>Name</th>\n",
       "      <th>Nationality</th>\n",
       "      <th>Time (hand)</th>\n",
       "      <th>Notes</th>\n",
       "    </tr>\n",
       "  </thead>\n",
       "  <tbody>\n",
       "    <tr>\n",
       "      <th>0</th>\n",
       "      <td>nan</td>\n",
       "      <td>Tommy Green</td>\n",
       "      <td>Great Britain</td>\n",
       "      <td>4:50:10</td>\n",
       "      <td>OR</td>\n",
       "    </tr>\n",
       "    <tr>\n",
       "      <th>1</th>\n",
       "      <td>nan</td>\n",
       "      <td>Janis Dalins</td>\n",
       "      <td>Latvia</td>\n",
       "      <td>4:57:20</td>\n",
       "      <td>nan</td>\n",
       "    </tr>\n",
       "    <tr>\n",
       "      <th>2</th>\n",
       "      <td>nan</td>\n",
       "      <td>Ugo Frigerio</td>\n",
       "      <td>Italy</td>\n",
       "      <td>4:59:06</td>\n",
       "      <td>nan</td>\n",
       "    </tr>\n",
       "    <tr>\n",
       "      <th>3</th>\n",
       "      <td>4.0</td>\n",
       "      <td>Karl Hahnel</td>\n",
       "      <td>Germany</td>\n",
       "      <td>5:06:06</td>\n",
       "      <td>nan</td>\n",
       "    </tr>\n",
       "    <tr>\n",
       "      <th>4</th>\n",
       "      <td>5.0</td>\n",
       "      <td>Ettore Rivolta</td>\n",
       "      <td>Italy</td>\n",
       "      <td>5:07:39</td>\n",
       "      <td>nan</td>\n",
       "    </tr>\n",
       "    <tr>\n",
       "      <th>5</th>\n",
       "      <td>6.0</td>\n",
       "      <td>Paul Sievert</td>\n",
       "      <td>Germany</td>\n",
       "      <td>5:16:41</td>\n",
       "      <td>nan</td>\n",
       "    </tr>\n",
       "    <tr>\n",
       "      <th>6</th>\n",
       "      <td>7.0</td>\n",
       "      <td>Henri Quintric</td>\n",
       "      <td>France</td>\n",
       "      <td>5:27:25</td>\n",
       "      <td>nan</td>\n",
       "    </tr>\n",
       "    <tr>\n",
       "      <th>7</th>\n",
       "      <td>8.0</td>\n",
       "      <td>Ernie Crosbie</td>\n",
       "      <td>United States</td>\n",
       "      <td>5:28:02</td>\n",
       "      <td>nan</td>\n",
       "    </tr>\n",
       "    <tr>\n",
       "      <th>8</th>\n",
       "      <td>9.0</td>\n",
       "      <td>Bill Chisholm</td>\n",
       "      <td>United States</td>\n",
       "      <td>5:51:00</td>\n",
       "      <td>nan</td>\n",
       "    </tr>\n",
       "    <tr>\n",
       "      <th>9</th>\n",
       "      <td>10.0</td>\n",
       "      <td>Alfred Maasik</td>\n",
       "      <td>Estonia</td>\n",
       "      <td>6:19:00</td>\n",
       "      <td>nan</td>\n",
       "    </tr>\n",
       "    <tr>\n",
       "      <th>10</th>\n",
       "      <td>nan</td>\n",
       "      <td>Henry Cieman</td>\n",
       "      <td>Canada</td>\n",
       "      <td>nan</td>\n",
       "      <td>DNF</td>\n",
       "    </tr>\n",
       "    <tr>\n",
       "      <th>11</th>\n",
       "      <td>nan</td>\n",
       "      <td>John Moralis</td>\n",
       "      <td>Greece</td>\n",
       "      <td>nan</td>\n",
       "      <td>DNF</td>\n",
       "    </tr>\n",
       "    <tr>\n",
       "      <th>12</th>\n",
       "      <td>nan</td>\n",
       "      <td>Francesco Pretti</td>\n",
       "      <td>Italy</td>\n",
       "      <td>nan</td>\n",
       "      <td>DNF</td>\n",
       "    </tr>\n",
       "    <tr>\n",
       "      <th>13</th>\n",
       "      <td>nan</td>\n",
       "      <td>Arthur Tell Schwab</td>\n",
       "      <td>Switzerland</td>\n",
       "      <td>nan</td>\n",
       "      <td>DNF</td>\n",
       "    </tr>\n",
       "    <tr>\n",
       "      <th>14</th>\n",
       "      <td>nan</td>\n",
       "      <td>Harry Hinkel</td>\n",
       "      <td>United States</td>\n",
       "      <td>nan</td>\n",
       "      <td>DNF</td>\n",
       "    </tr>\n",
       "  </tbody>\n",
       "</table>\n",
       "</div>"
      ],
      "text/plain": [
       "    Rank                Name    Nationality Time (hand) Notes\n",
       "0    nan         Tommy Green  Great Britain     4:50:10    OR\n",
       "1    nan        Janis Dalins         Latvia     4:57:20   nan\n",
       "2    nan        Ugo Frigerio          Italy     4:59:06   nan\n",
       "3    4.0         Karl Hahnel        Germany     5:06:06   nan\n",
       "4    5.0      Ettore Rivolta          Italy     5:07:39   nan\n",
       "5    6.0        Paul Sievert        Germany     5:16:41   nan\n",
       "6    7.0      Henri Quintric         France     5:27:25   nan\n",
       "7    8.0       Ernie Crosbie  United States     5:28:02   nan\n",
       "8    9.0       Bill Chisholm  United States     5:51:00   nan\n",
       "9   10.0       Alfred Maasik        Estonia     6:19:00   nan\n",
       "10   nan        Henry Cieman         Canada         nan   DNF\n",
       "11   nan        John Moralis         Greece         nan   DNF\n",
       "12   nan    Francesco Pretti          Italy         nan   DNF\n",
       "13   nan  Arthur Tell Schwab    Switzerland         nan   DNF\n",
       "14   nan        Harry Hinkel  United States         nan   DNF"
      ]
     },
     "metadata": {},
     "output_type": "display_data"
    },
    {
     "name": "stdout",
     "output_type": "stream",
     "text": [
      "\n",
      "['who are all the athletes?', 'where are they from?', 'along with paul sievert, which athlete is from germany?']\n"
     ]
    }
   ],
   "source": [
    "# path to the directory containing all csv files\n",
    "table_csv_path = \"table_csv\"\n",
    "\n",
    "item = grouped.iloc[0]\n",
    "print(item)\n",
    "table = pd.read_csv(table_csv_path + item.table_file[9:]).astype(str) \n",
    "\n",
    "display(table)\n",
    "print(\"\")\n",
    "print(item.question)\n"
   ]
  },
  {
   "cell_type": "markdown",
   "metadata": {
    "id": "yw8MqIExLnnq",
    "pycharm": {
     "name": "#%% md\n"
    }
   },
   "source": [
    "We can see that there are 3 sequential questions asked related to the contents of the table. \n",
    "\n",
    "We can now use `TapasTokenizer` to batch encode this, as follows:"
   ]
  },
  {
   "cell_type": "code",
   "execution_count": 212,
   "metadata": {
    "id": "t5iU5byAICWb",
    "pycharm": {
     "name": "#%%\n"
    }
   },
   "outputs": [],
   "source": [
    "import torch\n",
    "from transformers import TapasTokenizer\n",
    "\n",
    "# initialize the tokenizer\n",
    "tokenizer = TapasTokenizer.from_pretrained(\"google/tapas-small-finetuned-sqa\")"
   ]
  },
  {
   "cell_type": "code",
   "execution_count": 206,
   "metadata": {
    "colab": {
     "base_uri": "https://localhost:8080/"
    },
    "id": "5qOBiUPEGgK8",
    "outputId": "7bc36d39-21be-433e-ecde-3f0d81c340ea",
    "pycharm": {
     "name": "#%%\n"
    }
   },
   "outputs": [
    {
     "data": {
      "text/plain": [
       "dict_keys(['input_ids', 'labels', 'numeric_values', 'numeric_values_scale', 'token_type_ids', 'attention_mask'])"
      ]
     },
     "execution_count": 206,
     "metadata": {},
     "output_type": "execute_result"
    }
   ],
   "source": [
    "encoding = tokenizer(table=table_schedule, queries=item.question, answer_coordinates=item.answer_coordinates, answer_text=item.answer_text,\n",
    "                     truncation=True, padding=\"max_length\", return_tensors=\"pt\")\n",
    "encoding.keys()"
   ]
  },
  {
   "cell_type": "markdown",
   "metadata": {
    "id": "y2JRiKjPRHAF",
    "pycharm": {
     "name": "#%% md\n"
    }
   },
   "source": [
    "TAPAS basically flattens every table-question pair before feeding it into a BERT like model:"
   ]
  },
  {
   "cell_type": "code",
   "execution_count": 213,
   "metadata": {
    "colab": {
     "base_uri": "https://localhost:8080/",
     "height": 137
    },
    "id": "lhipz2_GRNKQ",
    "outputId": "a3ad3993-5173-45c7-a43b-993ab42f77e3",
    "pycharm": {
     "name": "#%%\n"
    }
   },
   "outputs": [
    {
     "data": {
      "text/plain": [
       "'[CLS] what is scheduled on monday at 9? [SEP] time monday tuesday wednesday thursday friday 9 tcs logic tcs calculus mm 11 ssa project 2 - 2 project 2 - 2 project 2 - 2 tcs 13 mm ssa tcs ssa tcs 15 project 2 - 2 calculus mm logic calculus 17 mm tcs calculus ssa project 2 - 2 [PAD] [PAD] [PAD] [PAD] [PAD] [PAD] [PAD] [PAD] [PAD] [PAD] [PAD] [PAD] [PAD] [PAD] [PAD] [PAD] [PAD] [PAD] [PAD] [PAD] [PAD] [PAD] [PAD] [PAD] [PAD] [PAD] [PAD] [PAD] [PAD] [PAD] [PAD] [PAD] [PAD] [PAD] [PAD] [PAD] [PAD] [PAD] [PAD] [PAD] [PAD] [PAD] [PAD] [PAD] [PAD] [PAD] [PAD] [PAD] [PAD] [PAD] [PAD] [PAD] [PAD] [PAD] [PAD] [PAD] [PAD] [PAD] [PAD] [PAD] [PAD] [PAD] [PAD] [PAD] [PAD] [PAD] [PAD] [PAD] [PAD] [PAD] [PAD] [PAD] [PAD] [PAD] [PAD] [PAD] [PAD] [PAD] [PAD] [PAD] [PAD] [PAD] [PAD] [PAD] [PAD] [PAD] [PAD] [PAD] [PAD] [PAD] [PAD] [PAD] [PAD] [PAD] [PAD] [PAD] [PAD] [PAD] [PAD] [PAD] [PAD] [PAD] [PAD] [PAD] [PAD] [PAD] [PAD] [PAD] [PAD] [PAD] [PAD] [PAD] [PAD] [PAD] [PAD] [PAD] [PAD] [PAD] [PAD] [PAD] [PAD] [PAD] [PAD] [PAD] [PAD] [PAD] [PAD] [PAD] [PAD] [PAD] [PAD] [PAD] [PAD] [PAD] [PAD] [PAD] [PAD] [PAD] [PAD] [PAD] [PAD] [PAD] [PAD] [PAD] [PAD] [PAD] [PAD] [PAD] [PAD] [PAD] [PAD] [PAD] [PAD] [PAD] [PAD] [PAD] [PAD] [PAD] [PAD] [PAD] [PAD] [PAD] [PAD] [PAD] [PAD] [PAD] [PAD] [PAD] [PAD] [PAD] [PAD] [PAD] [PAD] [PAD] [PAD] [PAD] [PAD] [PAD] [PAD] [PAD] [PAD] [PAD] [PAD] [PAD] [PAD] [PAD] [PAD] [PAD] [PAD] [PAD] [PAD] [PAD] [PAD] [PAD] [PAD] [PAD] [PAD] [PAD] [PAD] [PAD] [PAD] [PAD] [PAD] [PAD] [PAD] [PAD] [PAD] [PAD] [PAD] [PAD] [PAD] [PAD] [PAD] [PAD] [PAD] [PAD] [PAD] [PAD] [PAD] [PAD] [PAD] [PAD] [PAD] [PAD] [PAD] [PAD] [PAD] [PAD] [PAD] [PAD] [PAD] [PAD] [PAD] [PAD] [PAD] [PAD] [PAD] [PAD] [PAD] [PAD] [PAD] [PAD] [PAD] [PAD] [PAD] [PAD] [PAD] [PAD] [PAD] [PAD] [PAD] [PAD] [PAD] [PAD] [PAD] [PAD] [PAD] [PAD] [PAD] [PAD] [PAD] [PAD] [PAD] [PAD] [PAD] [PAD] [PAD] [PAD] [PAD] [PAD] [PAD] [PAD] [PAD] [PAD] [PAD] [PAD] [PAD] [PAD] [PAD] [PAD] [PAD] [PAD] [PAD] [PAD] [PAD] [PAD] [PAD] [PAD] [PAD] [PAD] [PAD] [PAD] [PAD] [PAD] [PAD] [PAD] [PAD] [PAD] [PAD] [PAD] [PAD] [PAD] [PAD] [PAD] [PAD] [PAD] [PAD] [PAD] [PAD] [PAD] [PAD] [PAD] [PAD] [PAD] [PAD] [PAD] [PAD] [PAD] [PAD] [PAD] [PAD] [PAD] [PAD] [PAD] [PAD] [PAD] [PAD] [PAD] [PAD] [PAD] [PAD] [PAD] [PAD] [PAD] [PAD] [PAD] [PAD] [PAD] [PAD] [PAD] [PAD] [PAD] [PAD] [PAD] [PAD] [PAD] [PAD] [PAD] [PAD] [PAD] [PAD] [PAD] [PAD] [PAD] [PAD] [PAD] [PAD] [PAD] [PAD] [PAD] [PAD] [PAD] [PAD] [PAD] [PAD] [PAD] [PAD] [PAD] [PAD] [PAD] [PAD] [PAD] [PAD] [PAD] [PAD] [PAD] [PAD] [PAD] [PAD] [PAD] [PAD] [PAD] [PAD] [PAD] [PAD] [PAD] [PAD] [PAD] [PAD] [PAD] [PAD] [PAD] [PAD] [PAD] [PAD] [PAD] [PAD] [PAD] [PAD] [PAD] [PAD] [PAD] [PAD] [PAD] [PAD] [PAD] [PAD] [PAD] [PAD] [PAD] [PAD] [PAD] [PAD] [PAD] [PAD] [PAD] [PAD] [PAD] [PAD] [PAD] [PAD] [PAD] [PAD] [PAD] [PAD] [PAD] [PAD] [PAD] [PAD] [PAD] [PAD] [PAD] [PAD] [PAD] [PAD] [PAD] [PAD] [PAD] [PAD] [PAD] [PAD]'"
      ]
     },
     "execution_count": 213,
     "metadata": {},
     "output_type": "execute_result"
    }
   ],
   "source": [
    "tokenizer.decode(encoding[\"input_ids\"][0])"
   ]
  },
  {
   "cell_type": "markdown",
   "metadata": {
    "id": "nVeB5IPaN5oN",
    "pycharm": {
     "name": "#%% md\n"
    }
   },
   "source": [
    "The `token_type_ids` created here will be of shape (batch_size, sequence_length, 7), as TAPAS uses 7 different token types to encode tabular structure. Let's verify this:"
   ]
  },
  {
   "cell_type": "code",
   "execution_count": 209,
   "metadata": {
    "pycharm": {
     "name": "#%%\n"
    }
   },
   "outputs": [
    {
     "data": {
      "text/plain": [
       "torch.Size([2, 512, 7])"
      ]
     },
     "execution_count": 209,
     "metadata": {},
     "output_type": "execute_result"
    }
   ],
   "source": [
    "encoding[\"token_type_ids\"].shape"
   ]
  },
  {
   "cell_type": "code",
   "execution_count": 210,
   "metadata": {
    "id": "zM0v-pwbN6gR",
    "pycharm": {
     "name": "#%%\n"
    }
   },
   "outputs": [],
   "source": [
    "assert encoding[\"token_type_ids\"].shape == (2, 512, 7)"
   ]
  },
  {
   "cell_type": "markdown",
   "metadata": {
    "id": "TMt7cWJMLvue",
    "pycharm": {
     "name": "#%% md\n"
    }
   },
   "source": [
    "\n",
    "\n",
    "One thing we can verify is whether the `prev_label` token type ids are created correctly. These indicate which tokens were (part of) an answer to the previous table-question pair. \n",
    "\n",
    "The prev_label token type ids of the first example in a batch must always be zero (since there's no previous table-question pair). Let's verify this:"
   ]
  },
  {
   "cell_type": "code",
   "execution_count": 12,
   "metadata": {
    "id": "ytUk-H1yL9cc",
    "pycharm": {
     "name": "#%%\n"
    }
   },
   "outputs": [],
   "source": [
    "assert encoding[\"token_type_ids\"][0][:,3].sum() == 0"
   ]
  },
  {
   "cell_type": "markdown",
   "metadata": {
    "id": "rJ_o-82nMfK5",
    "pycharm": {
     "name": "#%% md\n"
    }
   },
   "source": [
    "However, the `prev_label` token type ids of the second table-question pair in the batch must be set to 1 for the tokens which were an answer to the previous (i.e. the first) table question pair in the batch. The answers to the first table-question pair are the following:"
   ]
  },
  {
   "cell_type": "code",
   "execution_count": 211,
   "metadata": {
    "colab": {
     "base_uri": "https://localhost:8080/"
    },
    "id": "yxT9h2LIMNt3",
    "outputId": "69b29df5-8103-4b55-e8f4-598bd637a546",
    "pycharm": {
     "name": "#%%\n"
    }
   },
   "outputs": [
    {
     "name": "stdout",
     "output_type": "stream",
     "text": [
      "['TCS']\n"
     ]
    }
   ],
   "source": [
    "print(item.answer_text[0])"
   ]
  },
  {
   "cell_type": "markdown",
   "metadata": {
    "id": "CSUkMGAcMpfE",
    "pycharm": {
     "name": "#%% md\n"
    }
   },
   "source": [
    "So let's now verify whether the `prev_label` ids of the second table-question pair are set correctly:"
   ]
  },
  {
   "cell_type": "code",
   "execution_count": 215,
   "metadata": {
    "colab": {
     "base_uri": "https://localhost:8080/"
    },
    "id": "Uv6P7OpJGxuu",
    "outputId": "69b92a6a-408f-48f8-9842-dd3842f7188c",
    "pycharm": {
     "name": "#%%\n"
    }
   },
   "outputs": [
    {
     "name": "stdout",
     "output_type": "stream",
     "text": [
      "[CLS] 0\n",
      "what 0\n",
      "is 0\n",
      "the 0\n",
      "next 0\n",
      "lecture 0\n",
      "? 0\n",
      "[SEP] 0\n",
      "time 0\n",
      "monday 0\n",
      "tuesday 0\n",
      "wednesday 0\n",
      "thursday 0\n",
      "friday 0\n",
      "9 0\n",
      "tc 1\n",
      "##s 1\n",
      "logic 0\n",
      "tc 0\n",
      "##s 0\n",
      "calculus 0\n",
      "mm 0\n",
      "11 0\n",
      "ss 0\n",
      "##a 0\n",
      "project 0\n",
      "2 0\n",
      "- 0\n",
      "2 0\n",
      "project 0\n",
      "2 0\n",
      "- 0\n",
      "2 0\n",
      "project 0\n",
      "2 0\n",
      "- 0\n",
      "2 0\n",
      "tc 0\n",
      "##s 0\n",
      "13 0\n",
      "mm 0\n",
      "ss 0\n",
      "##a 0\n",
      "tc 0\n",
      "##s 0\n",
      "ss 0\n",
      "##a 0\n",
      "tc 0\n",
      "##s 0\n",
      "15 0\n",
      "project 0\n",
      "2 0\n",
      "- 0\n",
      "2 0\n",
      "calculus 0\n",
      "mm 0\n",
      "logic 0\n",
      "calculus 0\n",
      "17 0\n",
      "mm 0\n",
      "tc 0\n",
      "##s 0\n",
      "calculus 0\n",
      "ss 0\n",
      "##a 0\n",
      "project 0\n",
      "2 0\n",
      "- 0\n",
      "2 0\n"
     ]
    }
   ],
   "source": [
    "for id, prev_label in zip (encoding[\"input_ids\"][1], encoding[\"token_type_ids\"][1][:,3]):\n",
    "  if id != 0: # we skip padding tokens\n",
    "    print(tokenizer.decode([id]), prev_label.item())"
   ]
  },
  {
   "cell_type": "markdown",
   "metadata": {
    "id": "wjVk49fO6u8H",
    "pycharm": {
     "name": "#%% md\n"
    }
   },
   "source": [
    "This looks OK! Be sure to check this, because the token type ids are critical for the performance of TAPAS.\n",
    "\n",
    "Let's create a PyTorch dataset and corresponding dataloader. Note the __getitem__ method here: in order to properly set the prev_labels token types, we must check whether a table-question pair is the first in a sequence or not. In case it is, we can just encode it. In case it isn't, we need to encode it together with the previous table-question pair.\n",
    "\n",
    "Note that this is not the most efficient approach, because we're effectively tokenizing each table-question pair twice when applied on the entire dataset (feel free to ping me a more efficient solution)."
   ]
  },
  {
   "cell_type": "code",
   "execution_count": 216,
   "metadata": {
    "id": "C-n9vDTD1-k9",
    "pycharm": {
     "name": "#%%\n"
    }
   },
   "outputs": [],
   "source": [
    "class TableDataset(torch.utils.data.Dataset):\n",
    "    def __init__(self, df, tokenizer):\n",
    "        self.df = df\n",
    "        self.tokenizer = tokenizer\n",
    "\n",
    "    def __getitem__(self, idx):\n",
    "        item = self.df.iloc[idx]\n",
    "        table = pd.read_csv(\"student_schedule_week.csv\").astype(str) # TapasTokenizer expects the table data to be text only\n",
    "        if item.position != 0:\n",
    "          # use the previous table-question pair to correctly set the prev_labels token type ids\n",
    "          previous_item = self.df.iloc[idx-1]\n",
    "          encoding = self.tokenizer(table=table, \n",
    "                                    queries=[previous_item.question, item.question], \n",
    "                                    answer_coordinates=[previous_item.answer_coordinates, item.answer_coordinates], \n",
    "                                    answer_text=[previous_item.answer_text, item.answer_text],\n",
    "                                    padding=\"max_length\",\n",
    "                                    truncation=True,\n",
    "                                    return_tensors=\"pt\"\n",
    "          )\n",
    "          # use encodings of second table-question pair in the batch\n",
    "          encoding = {key: val[-1] for key, val in encoding.items()}\n",
    "        else:\n",
    "          # this means it's the first table-question pair in a sequence\n",
    "          encoding = self.tokenizer(table=table, \n",
    "                                    queries=item.question, \n",
    "                                    answer_coordinates=item.answer_coordinates, \n",
    "                                    answer_text=item.answer_text,\n",
    "                                    padding=\"max_length\",\n",
    "                                    truncation=True,\n",
    "                                    return_tensors=\"pt\"\n",
    "          )\n",
    "          # remove the batch dimension which the tokenizer adds \n",
    "          encoding = {key: val.squeeze(0) for key, val in encoding.items()}\n",
    "        return encoding\n",
    "\n",
    "    def __len__(self):\n",
    "        return len(self.df)\n",
    "\n",
    "train_dataset = TableDataset(df=data_schedule, tokenizer=tokenizer)\n",
    "train_dataloader = torch.utils.data.DataLoader(train_dataset, batch_size=2)"
   ]
  },
  {
   "cell_type": "code",
   "execution_count": 217,
   "metadata": {
    "colab": {
     "base_uri": "https://localhost:8080/"
    },
    "id": "X4CHgnTzwfNp",
    "outputId": "a0980f27-a317-4375-9bc4-0085acad0e5f",
    "pycharm": {
     "name": "#%%\n"
    }
   },
   "outputs": [
    {
     "data": {
      "text/plain": [
       "torch.Size([512, 7])"
      ]
     },
     "execution_count": 217,
     "metadata": {},
     "output_type": "execute_result"
    }
   ],
   "source": [
    "train_dataset[0][\"token_type_ids\"].shape"
   ]
  },
  {
   "cell_type": "code",
   "execution_count": 218,
   "metadata": {
    "colab": {
     "base_uri": "https://localhost:8080/"
    },
    "id": "bZN1psdBy5_s",
    "outputId": "e085d737-3a6f-45e5-c200-7c21916b284a",
    "pycharm": {
     "name": "#%%\n"
    }
   },
   "outputs": [
    {
     "data": {
      "text/plain": [
       "torch.Size([512])"
      ]
     },
     "execution_count": 218,
     "metadata": {},
     "output_type": "execute_result"
    }
   ],
   "source": [
    "train_dataset[1][\"input_ids\"].shape"
   ]
  },
  {
   "cell_type": "code",
   "execution_count": 219,
   "metadata": {
    "id": "pHAyf85k_xQt",
    "pycharm": {
     "name": "#%%\n"
    }
   },
   "outputs": [],
   "source": [
    "batch = next(iter(train_dataloader))"
   ]
  },
  {
   "cell_type": "code",
   "execution_count": 220,
   "metadata": {
    "colab": {
     "base_uri": "https://localhost:8080/"
    },
    "id": "FoqySHh-_0JV",
    "outputId": "9c0ab5d9-0a06-4331-80e2-ba3b739cfa92",
    "pycharm": {
     "name": "#%%\n"
    }
   },
   "outputs": [
    {
     "data": {
      "text/plain": [
       "torch.Size([2, 512])"
      ]
     },
     "execution_count": 220,
     "metadata": {},
     "output_type": "execute_result"
    }
   ],
   "source": [
    "batch[\"input_ids\"].shape"
   ]
  },
  {
   "cell_type": "code",
   "execution_count": 221,
   "metadata": {
    "colab": {
     "base_uri": "https://localhost:8080/"
    },
    "id": "g5pjJCCT_53N",
    "outputId": "d2ebbf1e-0701-47c1-8533-a087892bd715",
    "pycharm": {
     "name": "#%%\n"
    }
   },
   "outputs": [
    {
     "data": {
      "text/plain": [
       "torch.Size([2, 512, 7])"
      ]
     },
     "execution_count": 221,
     "metadata": {},
     "output_type": "execute_result"
    }
   ],
   "source": [
    "batch[\"token_type_ids\"].shape"
   ]
  },
  {
   "cell_type": "markdown",
   "metadata": {
    "id": "xVb1-H-jAEoS",
    "pycharm": {
     "name": "#%% md\n"
    }
   },
   "source": [
    "Let's decode the first table-question pair:"
   ]
  },
  {
   "cell_type": "code",
   "execution_count": 222,
   "metadata": {
    "colab": {
     "base_uri": "https://localhost:8080/",
     "height": 137
    },
    "id": "1vfjT1JC_7zI",
    "outputId": "f1a85d76-96ab-4a4d-f8ae-c7ee913c6d7f",
    "pycharm": {
     "name": "#%%\n"
    }
   },
   "outputs": [
    {
     "data": {
      "text/plain": [
       "'[CLS] what is scheduled on monday at 9? [SEP] time monday tuesday wednesday thursday friday 9 tcs logic tcs calculus mm 11 ssa project 2 - 2 project 2 - 2 project 2 - 2 tcs 13 mm ssa tcs ssa tcs 15 project 2 - 2 calculus mm logic calculus 17 mm tcs calculus ssa project 2 - 2 [PAD] [PAD] [PAD] [PAD] [PAD] [PAD] [PAD] [PAD] [PAD] [PAD] [PAD] [PAD] [PAD] [PAD] [PAD] [PAD] [PAD] [PAD] [PAD] [PAD] [PAD] [PAD] [PAD] [PAD] [PAD] [PAD] [PAD] [PAD] [PAD] [PAD] [PAD] [PAD] [PAD] [PAD] [PAD] [PAD] [PAD] [PAD] [PAD] [PAD] [PAD] [PAD] [PAD] [PAD] [PAD] [PAD] [PAD] [PAD] [PAD] [PAD] [PAD] [PAD] [PAD] [PAD] [PAD] [PAD] [PAD] [PAD] [PAD] [PAD] [PAD] [PAD] [PAD] [PAD] [PAD] [PAD] [PAD] [PAD] [PAD] [PAD] [PAD] [PAD] [PAD] [PAD] [PAD] [PAD] [PAD] [PAD] [PAD] [PAD] [PAD] [PAD] [PAD] [PAD] [PAD] [PAD] [PAD] [PAD] [PAD] [PAD] [PAD] [PAD] [PAD] [PAD] [PAD] [PAD] [PAD] [PAD] [PAD] [PAD] [PAD] [PAD] [PAD] [PAD] [PAD] [PAD] [PAD] [PAD] [PAD] [PAD] [PAD] [PAD] [PAD] [PAD] [PAD] [PAD] [PAD] [PAD] [PAD] [PAD] [PAD] [PAD] [PAD] [PAD] [PAD] [PAD] [PAD] [PAD] [PAD] [PAD] [PAD] [PAD] [PAD] [PAD] [PAD] [PAD] [PAD] [PAD] [PAD] [PAD] [PAD] [PAD] [PAD] [PAD] [PAD] [PAD] [PAD] [PAD] [PAD] [PAD] [PAD] [PAD] [PAD] [PAD] [PAD] [PAD] [PAD] [PAD] [PAD] [PAD] [PAD] [PAD] [PAD] [PAD] [PAD] [PAD] [PAD] [PAD] [PAD] [PAD] [PAD] [PAD] [PAD] [PAD] [PAD] [PAD] [PAD] [PAD] [PAD] [PAD] [PAD] [PAD] [PAD] [PAD] [PAD] [PAD] [PAD] [PAD] [PAD] [PAD] [PAD] [PAD] [PAD] [PAD] [PAD] [PAD] [PAD] [PAD] [PAD] [PAD] [PAD] [PAD] [PAD] [PAD] [PAD] [PAD] [PAD] [PAD] [PAD] [PAD] [PAD] [PAD] [PAD] [PAD] [PAD] [PAD] [PAD] [PAD] [PAD] [PAD] [PAD] [PAD] [PAD] [PAD] [PAD] [PAD] [PAD] [PAD] [PAD] [PAD] [PAD] [PAD] [PAD] [PAD] [PAD] [PAD] [PAD] [PAD] [PAD] [PAD] [PAD] [PAD] [PAD] [PAD] [PAD] [PAD] [PAD] [PAD] [PAD] [PAD] [PAD] [PAD] [PAD] [PAD] [PAD] [PAD] [PAD] [PAD] [PAD] [PAD] [PAD] [PAD] [PAD] [PAD] [PAD] [PAD] [PAD] [PAD] [PAD] [PAD] [PAD] [PAD] [PAD] [PAD] [PAD] [PAD] [PAD] [PAD] [PAD] [PAD] [PAD] [PAD] [PAD] [PAD] [PAD] [PAD] [PAD] [PAD] [PAD] [PAD] [PAD] [PAD] [PAD] [PAD] [PAD] [PAD] [PAD] [PAD] [PAD] [PAD] [PAD] [PAD] [PAD] [PAD] [PAD] [PAD] [PAD] [PAD] [PAD] [PAD] [PAD] [PAD] [PAD] [PAD] [PAD] [PAD] [PAD] [PAD] [PAD] [PAD] [PAD] [PAD] [PAD] [PAD] [PAD] [PAD] [PAD] [PAD] [PAD] [PAD] [PAD] [PAD] [PAD] [PAD] [PAD] [PAD] [PAD] [PAD] [PAD] [PAD] [PAD] [PAD] [PAD] [PAD] [PAD] [PAD] [PAD] [PAD] [PAD] [PAD] [PAD] [PAD] [PAD] [PAD] [PAD] [PAD] [PAD] [PAD] [PAD] [PAD] [PAD] [PAD] [PAD] [PAD] [PAD] [PAD] [PAD] [PAD] [PAD] [PAD] [PAD] [PAD] [PAD] [PAD] [PAD] [PAD] [PAD] [PAD] [PAD] [PAD] [PAD] [PAD] [PAD] [PAD] [PAD] [PAD] [PAD] [PAD] [PAD] [PAD] [PAD] [PAD] [PAD] [PAD] [PAD] [PAD] [PAD] [PAD] [PAD] [PAD] [PAD] [PAD] [PAD] [PAD] [PAD] [PAD] [PAD] [PAD] [PAD] [PAD] [PAD] [PAD] [PAD] [PAD] [PAD] [PAD] [PAD] [PAD] [PAD] [PAD] [PAD] [PAD] [PAD] [PAD] [PAD] [PAD] [PAD] [PAD] [PAD] [PAD] [PAD] [PAD] [PAD] [PAD] [PAD] [PAD] [PAD] [PAD] [PAD] [PAD] [PAD]'"
      ]
     },
     "execution_count": 222,
     "metadata": {},
     "output_type": "execute_result"
    }
   ],
   "source": [
    "tokenizer.decode(batch[\"input_ids\"][0])"
   ]
  },
  {
   "cell_type": "code",
   "execution_count": 223,
   "metadata": {
    "id": "sujsp8o9DtsY",
    "pycharm": {
     "name": "#%%\n"
    }
   },
   "outputs": [],
   "source": [
    "#first example should not have any prev_labels set\n",
    "assert batch[\"token_type_ids\"][0][:,3].sum() == 0"
   ]
  },
  {
   "cell_type": "markdown",
   "metadata": {
    "id": "EIeql5vfFI6s",
    "pycharm": {
     "name": "#%% md\n"
    }
   },
   "source": [
    "Let's decode the second table-question pair and verify some more:"
   ]
  },
  {
   "cell_type": "code",
   "execution_count": 224,
   "metadata": {
    "colab": {
     "base_uri": "https://localhost:8080/",
     "height": 137
    },
    "id": "WrNo_qMqFOzi",
    "outputId": "b2051f0b-72d8-42e2-a6b6-c5a40eda666f",
    "pycharm": {
     "name": "#%%\n"
    }
   },
   "outputs": [
    {
     "data": {
      "text/plain": [
       "'[CLS] what is the next lecture? [SEP] time monday tuesday wednesday thursday friday 9 tcs logic tcs calculus mm 11 ssa project 2 - 2 project 2 - 2 project 2 - 2 tcs 13 mm ssa tcs ssa tcs 15 project 2 - 2 calculus mm logic calculus 17 mm tcs calculus ssa project 2 - 2 [PAD] [PAD] [PAD] [PAD] [PAD] [PAD] [PAD] [PAD] [PAD] [PAD] [PAD] [PAD] [PAD] [PAD] [PAD] [PAD] [PAD] [PAD] [PAD] [PAD] [PAD] [PAD] [PAD] [PAD] [PAD] [PAD] [PAD] [PAD] [PAD] [PAD] [PAD] [PAD] [PAD] [PAD] [PAD] [PAD] [PAD] [PAD] [PAD] [PAD] [PAD] [PAD] [PAD] [PAD] [PAD] [PAD] [PAD] [PAD] [PAD] [PAD] [PAD] [PAD] [PAD] [PAD] [PAD] [PAD] [PAD] [PAD] [PAD] [PAD] [PAD] [PAD] [PAD] [PAD] [PAD] [PAD] [PAD] [PAD] [PAD] [PAD] [PAD] [PAD] [PAD] [PAD] [PAD] [PAD] [PAD] [PAD] [PAD] [PAD] [PAD] [PAD] [PAD] [PAD] [PAD] [PAD] [PAD] [PAD] [PAD] [PAD] [PAD] [PAD] [PAD] [PAD] [PAD] [PAD] [PAD] [PAD] [PAD] [PAD] [PAD] [PAD] [PAD] [PAD] [PAD] [PAD] [PAD] [PAD] [PAD] [PAD] [PAD] [PAD] [PAD] [PAD] [PAD] [PAD] [PAD] [PAD] [PAD] [PAD] [PAD] [PAD] [PAD] [PAD] [PAD] [PAD] [PAD] [PAD] [PAD] [PAD] [PAD] [PAD] [PAD] [PAD] [PAD] [PAD] [PAD] [PAD] [PAD] [PAD] [PAD] [PAD] [PAD] [PAD] [PAD] [PAD] [PAD] [PAD] [PAD] [PAD] [PAD] [PAD] [PAD] [PAD] [PAD] [PAD] [PAD] [PAD] [PAD] [PAD] [PAD] [PAD] [PAD] [PAD] [PAD] [PAD] [PAD] [PAD] [PAD] [PAD] [PAD] [PAD] [PAD] [PAD] [PAD] [PAD] [PAD] [PAD] [PAD] [PAD] [PAD] [PAD] [PAD] [PAD] [PAD] [PAD] [PAD] [PAD] [PAD] [PAD] [PAD] [PAD] [PAD] [PAD] [PAD] [PAD] [PAD] [PAD] [PAD] [PAD] [PAD] [PAD] [PAD] [PAD] [PAD] [PAD] [PAD] [PAD] [PAD] [PAD] [PAD] [PAD] [PAD] [PAD] [PAD] [PAD] [PAD] [PAD] [PAD] [PAD] [PAD] [PAD] [PAD] [PAD] [PAD] [PAD] [PAD] [PAD] [PAD] [PAD] [PAD] [PAD] [PAD] [PAD] [PAD] [PAD] [PAD] [PAD] [PAD] [PAD] [PAD] [PAD] [PAD] [PAD] [PAD] [PAD] [PAD] [PAD] [PAD] [PAD] [PAD] [PAD] [PAD] [PAD] [PAD] [PAD] [PAD] [PAD] [PAD] [PAD] [PAD] [PAD] [PAD] [PAD] [PAD] [PAD] [PAD] [PAD] [PAD] [PAD] [PAD] [PAD] [PAD] [PAD] [PAD] [PAD] [PAD] [PAD] [PAD] [PAD] [PAD] [PAD] [PAD] [PAD] [PAD] [PAD] [PAD] [PAD] [PAD] [PAD] [PAD] [PAD] [PAD] [PAD] [PAD] [PAD] [PAD] [PAD] [PAD] [PAD] [PAD] [PAD] [PAD] [PAD] [PAD] [PAD] [PAD] [PAD] [PAD] [PAD] [PAD] [PAD] [PAD] [PAD] [PAD] [PAD] [PAD] [PAD] [PAD] [PAD] [PAD] [PAD] [PAD] [PAD] [PAD] [PAD] [PAD] [PAD] [PAD] [PAD] [PAD] [PAD] [PAD] [PAD] [PAD] [PAD] [PAD] [PAD] [PAD] [PAD] [PAD] [PAD] [PAD] [PAD] [PAD] [PAD] [PAD] [PAD] [PAD] [PAD] [PAD] [PAD] [PAD] [PAD] [PAD] [PAD] [PAD] [PAD] [PAD] [PAD] [PAD] [PAD] [PAD] [PAD] [PAD] [PAD] [PAD] [PAD] [PAD] [PAD] [PAD] [PAD] [PAD] [PAD] [PAD] [PAD] [PAD] [PAD] [PAD] [PAD] [PAD] [PAD] [PAD] [PAD] [PAD] [PAD] [PAD] [PAD] [PAD] [PAD] [PAD] [PAD] [PAD] [PAD] [PAD] [PAD] [PAD] [PAD] [PAD] [PAD] [PAD] [PAD] [PAD] [PAD] [PAD] [PAD] [PAD] [PAD] [PAD] [PAD] [PAD] [PAD] [PAD] [PAD] [PAD] [PAD] [PAD] [PAD] [PAD] [PAD] [PAD] [PAD] [PAD] [PAD] [PAD] [PAD] [PAD] [PAD] [PAD] [PAD] [PAD] [PAD] [PAD] [PAD] [PAD] [PAD] [PAD] [PAD] [PAD] [PAD] [PAD] [PAD] [PAD]'"
      ]
     },
     "execution_count": 224,
     "metadata": {},
     "output_type": "execute_result"
    }
   ],
   "source": [
    "tokenizer.decode(batch[\"input_ids\"][1])"
   ]
  },
  {
   "cell_type": "code",
   "execution_count": 225,
   "metadata": {
    "colab": {
     "base_uri": "https://localhost:8080/"
    },
    "id": "9a1OToVqxNap",
    "outputId": "2040d63a-024f-4e65-e17c-2a51630a9226",
    "pycharm": {
     "name": "#%%\n"
    }
   },
   "outputs": [
    {
     "name": "stdout",
     "output_type": "stream",
     "text": [
      "tensor(2)\n"
     ]
    }
   ],
   "source": [
    "assert batch[\"labels\"][0].sum() == batch[\"token_type_ids\"][1][:,3].sum()\n",
    "print(batch[\"token_type_ids\"][1][:,3].sum())"
   ]
  },
  {
   "cell_type": "code",
   "execution_count": 226,
   "metadata": {
    "colab": {
     "base_uri": "https://localhost:8080/"
    },
    "id": "x4PRdYvBE1k3",
    "outputId": "31bc6092-57e8-4040-f410-83e314ee4a0f",
    "pycharm": {
     "name": "#%%\n"
    }
   },
   "outputs": [
    {
     "name": "stdout",
     "output_type": "stream",
     "text": [
      "[CLS] 0\n",
      "what 0\n",
      "is 0\n",
      "the 0\n",
      "next 0\n",
      "lecture 0\n",
      "? 0\n",
      "[SEP] 0\n",
      "time 0\n",
      "monday 0\n",
      "tuesday 0\n",
      "wednesday 0\n",
      "thursday 0\n",
      "friday 0\n",
      "9 0\n",
      "tc 1\n",
      "##s 1\n",
      "logic 0\n",
      "tc 0\n",
      "##s 0\n",
      "calculus 0\n",
      "mm 0\n",
      "11 0\n",
      "ss 0\n",
      "##a 0\n",
      "project 0\n",
      "2 0\n",
      "- 0\n",
      "2 0\n",
      "project 0\n",
      "2 0\n",
      "- 0\n",
      "2 0\n",
      "project 0\n",
      "2 0\n",
      "- 0\n",
      "2 0\n",
      "tc 0\n",
      "##s 0\n",
      "13 0\n",
      "mm 0\n",
      "ss 0\n",
      "##a 0\n",
      "tc 0\n",
      "##s 0\n",
      "ss 0\n",
      "##a 0\n",
      "tc 0\n",
      "##s 0\n",
      "15 0\n",
      "project 0\n",
      "2 0\n",
      "- 0\n",
      "2 0\n",
      "calculus 0\n",
      "mm 0\n",
      "logic 0\n",
      "calculus 0\n",
      "17 0\n",
      "mm 0\n",
      "tc 0\n",
      "##s 0\n",
      "calculus 0\n",
      "ss 0\n",
      "##a 0\n",
      "project 0\n",
      "2 0\n",
      "- 0\n",
      "2 0\n"
     ]
    }
   ],
   "source": [
    "for id, prev_label in zip(batch[\"input_ids\"][1], batch[\"token_type_ids\"][1][:,3]):\n",
    "  if id != 0:\n",
    "    print(tokenizer.decode([id]), prev_label.item())"
   ]
  },
  {
   "cell_type": "markdown",
   "metadata": {
    "id": "cAem9QnIxoKb",
    "pycharm": {
     "name": "#%% md\n"
    }
   },
   "source": [
    "## Define the model\n",
    "\n",
    "Here we initialize the model with a pre-trained base and randomly initialized cell selection head, and move it to the GPU (if available).\n",
    "\n",
    "Note that the `google/tapas-base` checkpoint has (by default) an SQA configuration, so we don't need to specify any additional hyperparameters."
   ]
  },
  {
   "cell_type": "code",
   "execution_count": 228,
   "metadata": {
    "colab": {
     "base_uri": "https://localhost:8080/",
     "height": 1000,
     "referenced_widgets": [
      "768723f1af4c4bf497064a9796567382",
      "82bfe5d88c5546358de33952e42221a3",
      "c6aadbda246d47fcad9660c2f57926a0",
      "cd910003940b498e94db9746091e4c3c",
      "a11bc2e0d34543d1bb0ab708e0cc1a67",
      "d59737fa0a424a90ba02110e4cf1b639",
      "d534c2ebdbb144efa59500fcadf6e118",
      "f6fef10b29f74c458d05c2cbda46bf4a",
      "695d0c44ebbe4a55a17c735645c26c82",
      "7e3cd6c49143436bad3d84be7ca2cf79",
      "be6159a5be0945629a517297df1170b8",
      "b889ffa28a1949e9ac46e205ee582688",
      "3c95dd6249784fe6a2a466737e5f5866",
      "cf9382ee988f4787a88340d3b2af95f3",
      "45fdca8a04f94b43b021c590181e8a48",
      "3bad5ab136084c2e92b55153828a403f"
     ]
    },
    "id": "_OsPodbiDliR",
    "outputId": "e2094861-fc6c-42b9-b12b-0f6824ad3048",
    "pycharm": {
     "name": "#%%\n"
    }
   },
   "outputs": [
    {
     "data": {
      "text/plain": [
       "TapasForQuestionAnswering(\n",
       "  (tapas): TapasModel(\n",
       "    (embeddings): TapasEmbeddings(\n",
       "      (word_embeddings): Embedding(30522, 512, padding_idx=0)\n",
       "      (position_embeddings): Embedding(512, 512)\n",
       "      (token_type_embeddings_0): Embedding(3, 512)\n",
       "      (token_type_embeddings_1): Embedding(256, 512)\n",
       "      (token_type_embeddings_2): Embedding(256, 512)\n",
       "      (token_type_embeddings_3): Embedding(2, 512)\n",
       "      (token_type_embeddings_4): Embedding(256, 512)\n",
       "      (token_type_embeddings_5): Embedding(256, 512)\n",
       "      (token_type_embeddings_6): Embedding(10, 512)\n",
       "      (LayerNorm): LayerNorm((512,), eps=1e-12, elementwise_affine=True)\n",
       "      (dropout): Dropout(p=0.1, inplace=False)\n",
       "    )\n",
       "    (encoder): TapasEncoder(\n",
       "      (layer): ModuleList(\n",
       "        (0-3): 4 x TapasLayer(\n",
       "          (attention): TapasAttention(\n",
       "            (self): TapasSelfAttention(\n",
       "              (query): Linear(in_features=512, out_features=512, bias=True)\n",
       "              (key): Linear(in_features=512, out_features=512, bias=True)\n",
       "              (value): Linear(in_features=512, out_features=512, bias=True)\n",
       "              (dropout): Dropout(p=0.1, inplace=False)\n",
       "            )\n",
       "            (output): TapasSelfOutput(\n",
       "              (dense): Linear(in_features=512, out_features=512, bias=True)\n",
       "              (LayerNorm): LayerNorm((512,), eps=1e-12, elementwise_affine=True)\n",
       "              (dropout): Dropout(p=0.1, inplace=False)\n",
       "            )\n",
       "          )\n",
       "          (intermediate): TapasIntermediate(\n",
       "            (dense): Linear(in_features=512, out_features=2048, bias=True)\n",
       "            (intermediate_act_fn): GELUActivation()\n",
       "          )\n",
       "          (output): TapasOutput(\n",
       "            (dense): Linear(in_features=2048, out_features=512, bias=True)\n",
       "            (LayerNorm): LayerNorm((512,), eps=1e-12, elementwise_affine=True)\n",
       "            (dropout): Dropout(p=0.1, inplace=False)\n",
       "          )\n",
       "        )\n",
       "      )\n",
       "    )\n",
       "    (pooler): TapasPooler(\n",
       "      (dense): Linear(in_features=512, out_features=512, bias=True)\n",
       "      (activation): Tanh()\n",
       "    )\n",
       "  )\n",
       "  (dropout): Dropout(p=0.1, inplace=False)\n",
       ")"
      ]
     },
     "execution_count": 228,
     "metadata": {},
     "output_type": "execute_result"
    }
   ],
   "source": [
    "from transformers import TapasForQuestionAnswering\n",
    "\n",
    "model = TapasForQuestionAnswering.from_pretrained(\"google/tapas-small-finetuned-sqa\")\n",
    "#device = torch.device(\"mps\")\n",
    "device = torch.device(\"cuda\" if torch.cuda.is_available() else \"cpu\")\n",
    "\n",
    "model.to(device)"
   ]
  },
  {
   "cell_type": "markdown",
   "metadata": {
    "id": "dtvkIFkCzdsg",
    "pycharm": {
     "name": "#%% md\n"
    }
   },
   "source": [
    "## Training the model\n",
    "\n",
    "Let's fine-tune the model in well-known PyTorch fashion:"
   ]
  },
  {
   "cell_type": "code",
   "execution_count": 229,
   "metadata": {
    "colab": {
     "base_uri": "https://localhost:8080/"
    },
    "id": "HyEZVmbdzWV9",
    "outputId": "2a6c73a9-9572-480e-c24f-209e6c5804fb",
    "pycharm": {
     "name": "#%%\n"
    }
   },
   "outputs": [
    {
     "name": "stderr",
     "output_type": "stream",
     "text": [
      "/Users/evgenynazarenko/opt/anaconda3/envs/coremltools-env/lib/python3.11/site-packages/transformers/optimization.py:411: FutureWarning: This implementation of AdamW is deprecated and will be removed in a future version. Use the PyTorch implementation torch.optim.AdamW instead, or set `no_deprecation_warning=True` to disable this warning\n",
      "  warnings.warn(\n"
     ]
    },
    {
     "name": "stdout",
     "output_type": "stream",
     "text": [
      "Epoch: 0\n",
      "Loss: 6.7472333908081055\n",
      "Intel MKL WARNING: Support of Intel(R) Streaming SIMD Extensions 4.2 (Intel(R) SSE4.2) enabled only processors has been deprecated. Intel oneAPI Math Kernel Library 2025.0 will require Intel(R) Advanced Vector Extensions (Intel(R) AVX) instructions.\n",
      "Intel MKL WARNING: Support of Intel(R) Streaming SIMD Extensions 4.2 (Intel(R) SSE4.2) enabled only processors has been deprecated. Intel oneAPI Math Kernel Library 2025.0 will require Intel(R) Advanced Vector Extensions (Intel(R) AVX) instructions.\n",
      "Loss: 1.426924705505371\n",
      "Intel MKL WARNING: Support of Intel(R) Streaming SIMD Extensions 4.2 (Intel(R) SSE4.2) enabled only processors has been deprecated. Intel oneAPI Math Kernel Library 2025.0 will require Intel(R) Advanced Vector Extensions (Intel(R) AVX) instructions.\n",
      "Intel MKL WARNING: Support of Intel(R) Streaming SIMD Extensions 4.2 (Intel(R) SSE4.2) enabled only processors has been deprecated. Intel oneAPI Math Kernel Library 2025.0 will require Intel(R) Advanced Vector Extensions (Intel(R) AVX) instructions.\n",
      "Loss: 1.3566066026687622\n",
      "Intel MKL WARNING: Support of Intel(R) Streaming SIMD Extensions 4.2 (Intel(R) SSE4.2) enabled only processors has been deprecated. Intel oneAPI Math Kernel Library 2025.0 will require Intel(R) Advanced Vector Extensions (Intel(R) AVX) instructions.\n",
      "Intel MKL WARNING: Support of Intel(R) Streaming SIMD Extensions 4.2 (Intel(R) SSE4.2) enabled only processors has been deprecated. Intel oneAPI Math Kernel Library 2025.0 will require Intel(R) Advanced Vector Extensions (Intel(R) AVX) instructions.\n",
      "Loss: 4.098746299743652\n",
      "Intel MKL WARNING: Support of Intel(R) Streaming SIMD Extensions 4.2 (Intel(R) SSE4.2) enabled only processors has been deprecated. Intel oneAPI Math Kernel Library 2025.0 will require Intel(R) Advanced Vector Extensions (Intel(R) AVX) instructions.\n",
      "Intel MKL WARNING: Support of Intel(R) Streaming SIMD Extensions 4.2 (Intel(R) SSE4.2) enabled only processors has been deprecated. Intel oneAPI Math Kernel Library 2025.0 will require Intel(R) Advanced Vector Extensions (Intel(R) AVX) instructions.\n",
      "Loss: 6.059797783564136e-07\n",
      "Intel MKL WARNING: Support of Intel(R) Streaming SIMD Extensions 4.2 (Intel(R) SSE4.2) enabled only processors has been deprecated. Intel oneAPI Math Kernel Library 2025.0 will require Intel(R) Advanced Vector Extensions (Intel(R) AVX) instructions.\n",
      "Intel MKL WARNING: Support of Intel(R) Streaming SIMD Extensions 4.2 (Intel(R) SSE4.2) enabled only processors has been deprecated. Intel oneAPI Math Kernel Library 2025.0 will require Intel(R) Advanced Vector Extensions (Intel(R) AVX) instructions.\n",
      "Loss: 1.9401189088821411\n",
      "Intel MKL WARNING: Support of Intel(R) Streaming SIMD Extensions 4.2 (Intel(R) SSE4.2) enabled only processors has been deprecated. Intel oneAPI Math Kernel Library 2025.0 will require Intel(R) Advanced Vector Extensions (Intel(R) AVX) instructions.\n",
      "Intel MKL WARNING: Support of Intel(R) Streaming SIMD Extensions 4.2 (Intel(R) SSE4.2) enabled only processors has been deprecated. Intel oneAPI Math Kernel Library 2025.0 will require Intel(R) Advanced Vector Extensions (Intel(R) AVX) instructions.\n",
      "Loss: 0.03174411505460739\n",
      "Intel MKL WARNING: Support of Intel(R) Streaming SIMD Extensions 4.2 (Intel(R) SSE4.2) enabled only processors has been deprecated. Intel oneAPI Math Kernel Library 2025.0 will require Intel(R) Advanced Vector Extensions (Intel(R) AVX) instructions.\n",
      "Intel MKL WARNING: Support of Intel(R) Streaming SIMD Extensions 4.2 (Intel(R) SSE4.2) enabled only processors has been deprecated. Intel oneAPI Math Kernel Library 2025.0 will require Intel(R) Advanced Vector Extensions (Intel(R) AVX) instructions.\n",
      "Loss: 2.1853280067443848\n",
      "Intel MKL WARNING: Support of Intel(R) Streaming SIMD Extensions 4.2 (Intel(R) SSE4.2) enabled only processors has been deprecated. Intel oneAPI Math Kernel Library 2025.0 will require Intel(R) Advanced Vector Extensions (Intel(R) AVX) instructions.\n",
      "Intel MKL WARNING: Support of Intel(R) Streaming SIMD Extensions 4.2 (Intel(R) SSE4.2) enabled only processors has been deprecated. Intel oneAPI Math Kernel Library 2025.0 will require Intel(R) Advanced Vector Extensions (Intel(R) AVX) instructions.\n",
      "Loss: 0.4325258433818817\n",
      "Intel MKL WARNING: Support of Intel(R) Streaming SIMD Extensions 4.2 (Intel(R) SSE4.2) enabled only processors has been deprecated. Intel oneAPI Math Kernel Library 2025.0 will require Intel(R) Advanced Vector Extensions (Intel(R) AVX) instructions.\n",
      "Intel MKL WARNING: Support of Intel(R) Streaming SIMD Extensions 4.2 (Intel(R) SSE4.2) enabled only processors has been deprecated. Intel oneAPI Math Kernel Library 2025.0 will require Intel(R) Advanced Vector Extensions (Intel(R) AVX) instructions.\n",
      "Loss: 0.44027256965637207\n",
      "Intel MKL WARNING: Support of Intel(R) Streaming SIMD Extensions 4.2 (Intel(R) SSE4.2) enabled only processors has been deprecated. Intel oneAPI Math Kernel Library 2025.0 will require Intel(R) Advanced Vector Extensions (Intel(R) AVX) instructions.\n",
      "Intel MKL WARNING: Support of Intel(R) Streaming SIMD Extensions 4.2 (Intel(R) SSE4.2) enabled only processors has been deprecated. Intel oneAPI Math Kernel Library 2025.0 will require Intel(R) Advanced Vector Extensions (Intel(R) AVX) instructions.\n",
      "Loss: 0.6540981531143188\n",
      "Intel MKL WARNING: Support of Intel(R) Streaming SIMD Extensions 4.2 (Intel(R) SSE4.2) enabled only processors has been deprecated. Intel oneAPI Math Kernel Library 2025.0 will require Intel(R) Advanced Vector Extensions (Intel(R) AVX) instructions.\n",
      "Intel MKL WARNING: Support of Intel(R) Streaming SIMD Extensions 4.2 (Intel(R) SSE4.2) enabled only processors has been deprecated. Intel oneAPI Math Kernel Library 2025.0 will require Intel(R) Advanced Vector Extensions (Intel(R) AVX) instructions.\n",
      "Loss: 0.3549450933933258\n",
      "Intel MKL WARNING: Support of Intel(R) Streaming SIMD Extensions 4.2 (Intel(R) SSE4.2) enabled only processors has been deprecated. Intel oneAPI Math Kernel Library 2025.0 will require Intel(R) Advanced Vector Extensions (Intel(R) AVX) instructions.\n",
      "Intel MKL WARNING: Support of Intel(R) Streaming SIMD Extensions 4.2 (Intel(R) SSE4.2) enabled only processors has been deprecated. Intel oneAPI Math Kernel Library 2025.0 will require Intel(R) Advanced Vector Extensions (Intel(R) AVX) instructions.\n",
      "Loss: 0.09983222186565399\n",
      "Intel MKL WARNING: Support of Intel(R) Streaming SIMD Extensions 4.2 (Intel(R) SSE4.2) enabled only processors has been deprecated. Intel oneAPI Math Kernel Library 2025.0 will require Intel(R) Advanced Vector Extensions (Intel(R) AVX) instructions.\n",
      "Intel MKL WARNING: Support of Intel(R) Streaming SIMD Extensions 4.2 (Intel(R) SSE4.2) enabled only processors has been deprecated. Intel oneAPI Math Kernel Library 2025.0 will require Intel(R) Advanced Vector Extensions (Intel(R) AVX) instructions.\n",
      "Epoch: 1\n",
      "Loss: 0.29138728976249695\n",
      "Intel MKL WARNING: Support of Intel(R) Streaming SIMD Extensions 4.2 (Intel(R) SSE4.2) enabled only processors has been deprecated. Intel oneAPI Math Kernel Library 2025.0 will require Intel(R) Advanced Vector Extensions (Intel(R) AVX) instructions.\n",
      "Intel MKL WARNING: Support of Intel(R) Streaming SIMD Extensions 4.2 (Intel(R) SSE4.2) enabled only processors has been deprecated. Intel oneAPI Math Kernel Library 2025.0 will require Intel(R) Advanced Vector Extensions (Intel(R) AVX) instructions.\n",
      "Loss: 1.3100438117980957\n",
      "Intel MKL WARNING: Support of Intel(R) Streaming SIMD Extensions 4.2 (Intel(R) SSE4.2) enabled only processors has been deprecated. Intel oneAPI Math Kernel Library 2025.0 will require Intel(R) Advanced Vector Extensions (Intel(R) AVX) instructions.\n",
      "Intel MKL WARNING: Support of Intel(R) Streaming SIMD Extensions 4.2 (Intel(R) SSE4.2) enabled only processors has been deprecated. Intel oneAPI Math Kernel Library 2025.0 will require Intel(R) Advanced Vector Extensions (Intel(R) AVX) instructions.\n",
      "Loss: 0.8841657638549805\n",
      "Intel MKL WARNING: Support of Intel(R) Streaming SIMD Extensions 4.2 (Intel(R) SSE4.2) enabled only processors has been deprecated. Intel oneAPI Math Kernel Library 2025.0 will require Intel(R) Advanced Vector Extensions (Intel(R) AVX) instructions.\n",
      "Intel MKL WARNING: Support of Intel(R) Streaming SIMD Extensions 4.2 (Intel(R) SSE4.2) enabled only processors has been deprecated. Intel oneAPI Math Kernel Library 2025.0 will require Intel(R) Advanced Vector Extensions (Intel(R) AVX) instructions.\n",
      "Loss: 0.6797493696212769\n",
      "Intel MKL WARNING: Support of Intel(R) Streaming SIMD Extensions 4.2 (Intel(R) SSE4.2) enabled only processors has been deprecated. Intel oneAPI Math Kernel Library 2025.0 will require Intel(R) Advanced Vector Extensions (Intel(R) AVX) instructions.\n",
      "Intel MKL WARNING: Support of Intel(R) Streaming SIMD Extensions 4.2 (Intel(R) SSE4.2) enabled only processors has been deprecated. Intel oneAPI Math Kernel Library 2025.0 will require Intel(R) Advanced Vector Extensions (Intel(R) AVX) instructions.\n",
      "Loss: 0.03665916249155998\n",
      "Intel MKL WARNING: Support of Intel(R) Streaming SIMD Extensions 4.2 (Intel(R) SSE4.2) enabled only processors has been deprecated. Intel oneAPI Math Kernel Library 2025.0 will require Intel(R) Advanced Vector Extensions (Intel(R) AVX) instructions.\n",
      "Intel MKL WARNING: Support of Intel(R) Streaming SIMD Extensions 4.2 (Intel(R) SSE4.2) enabled only processors has been deprecated. Intel oneAPI Math Kernel Library 2025.0 will require Intel(R) Advanced Vector Extensions (Intel(R) AVX) instructions.\n",
      "Loss: 0.4115382134914398\n",
      "Intel MKL WARNING: Support of Intel(R) Streaming SIMD Extensions 4.2 (Intel(R) SSE4.2) enabled only processors has been deprecated. Intel oneAPI Math Kernel Library 2025.0 will require Intel(R) Advanced Vector Extensions (Intel(R) AVX) instructions.\n",
      "Intel MKL WARNING: Support of Intel(R) Streaming SIMD Extensions 4.2 (Intel(R) SSE4.2) enabled only processors has been deprecated. Intel oneAPI Math Kernel Library 2025.0 will require Intel(R) Advanced Vector Extensions (Intel(R) AVX) instructions.\n",
      "Loss: 2.5765963073354214e-05\n",
      "Intel MKL WARNING: Support of Intel(R) Streaming SIMD Extensions 4.2 (Intel(R) SSE4.2) enabled only processors has been deprecated. Intel oneAPI Math Kernel Library 2025.0 will require Intel(R) Advanced Vector Extensions (Intel(R) AVX) instructions.\n",
      "Intel MKL WARNING: Support of Intel(R) Streaming SIMD Extensions 4.2 (Intel(R) SSE4.2) enabled only processors has been deprecated. Intel oneAPI Math Kernel Library 2025.0 will require Intel(R) Advanced Vector Extensions (Intel(R) AVX) instructions.\n",
      "Loss: 0.0015640822239220142\n",
      "Intel MKL WARNING: Support of Intel(R) Streaming SIMD Extensions 4.2 (Intel(R) SSE4.2) enabled only processors has been deprecated. Intel oneAPI Math Kernel Library 2025.0 will require Intel(R) Advanced Vector Extensions (Intel(R) AVX) instructions.\n",
      "Intel MKL WARNING: Support of Intel(R) Streaming SIMD Extensions 4.2 (Intel(R) SSE4.2) enabled only processors has been deprecated. Intel oneAPI Math Kernel Library 2025.0 will require Intel(R) Advanced Vector Extensions (Intel(R) AVX) instructions.\n",
      "Loss: 0.01928963139653206\n",
      "Intel MKL WARNING: Support of Intel(R) Streaming SIMD Extensions 4.2 (Intel(R) SSE4.2) enabled only processors has been deprecated. Intel oneAPI Math Kernel Library 2025.0 will require Intel(R) Advanced Vector Extensions (Intel(R) AVX) instructions.\n",
      "Intel MKL WARNING: Support of Intel(R) Streaming SIMD Extensions 4.2 (Intel(R) SSE4.2) enabled only processors has been deprecated. Intel oneAPI Math Kernel Library 2025.0 will require Intel(R) Advanced Vector Extensions (Intel(R) AVX) instructions.\n",
      "Loss: 2.301542554050684e-05\n",
      "Intel MKL WARNING: Support of Intel(R) Streaming SIMD Extensions 4.2 (Intel(R) SSE4.2) enabled only processors has been deprecated. Intel oneAPI Math Kernel Library 2025.0 will require Intel(R) Advanced Vector Extensions (Intel(R) AVX) instructions.\n",
      "Intel MKL WARNING: Support of Intel(R) Streaming SIMD Extensions 4.2 (Intel(R) SSE4.2) enabled only processors has been deprecated. Intel oneAPI Math Kernel Library 2025.0 will require Intel(R) Advanced Vector Extensions (Intel(R) AVX) instructions.\n",
      "Loss: 0.00500061921775341\n",
      "Intel MKL WARNING: Support of Intel(R) Streaming SIMD Extensions 4.2 (Intel(R) SSE4.2) enabled only processors has been deprecated. Intel oneAPI Math Kernel Library 2025.0 will require Intel(R) Advanced Vector Extensions (Intel(R) AVX) instructions.\n",
      "Intel MKL WARNING: Support of Intel(R) Streaming SIMD Extensions 4.2 (Intel(R) SSE4.2) enabled only processors has been deprecated. Intel oneAPI Math Kernel Library 2025.0 will require Intel(R) Advanced Vector Extensions (Intel(R) AVX) instructions.\n",
      "Loss: 0.00021047922200523317\n",
      "Intel MKL WARNING: Support of Intel(R) Streaming SIMD Extensions 4.2 (Intel(R) SSE4.2) enabled only processors has been deprecated. Intel oneAPI Math Kernel Library 2025.0 will require Intel(R) Advanced Vector Extensions (Intel(R) AVX) instructions.\n",
      "Intel MKL WARNING: Support of Intel(R) Streaming SIMD Extensions 4.2 (Intel(R) SSE4.2) enabled only processors has been deprecated. Intel oneAPI Math Kernel Library 2025.0 will require Intel(R) Advanced Vector Extensions (Intel(R) AVX) instructions.\n",
      "Loss: 5.960463411724959e-08\n",
      "Intel MKL WARNING: Support of Intel(R) Streaming SIMD Extensions 4.2 (Intel(R) SSE4.2) enabled only processors has been deprecated. Intel oneAPI Math Kernel Library 2025.0 will require Intel(R) Advanced Vector Extensions (Intel(R) AVX) instructions.\n",
      "Intel MKL WARNING: Support of Intel(R) Streaming SIMD Extensions 4.2 (Intel(R) SSE4.2) enabled only processors has been deprecated. Intel oneAPI Math Kernel Library 2025.0 will require Intel(R) Advanced Vector Extensions (Intel(R) AVX) instructions.\n",
      "Epoch: 2\n",
      "Loss: 0.2278648167848587\n",
      "Intel MKL WARNING: Support of Intel(R) Streaming SIMD Extensions 4.2 (Intel(R) SSE4.2) enabled only processors has been deprecated. Intel oneAPI Math Kernel Library 2025.0 will require Intel(R) Advanced Vector Extensions (Intel(R) AVX) instructions.\n",
      "Intel MKL WARNING: Support of Intel(R) Streaming SIMD Extensions 4.2 (Intel(R) SSE4.2) enabled only processors has been deprecated. Intel oneAPI Math Kernel Library 2025.0 will require Intel(R) Advanced Vector Extensions (Intel(R) AVX) instructions.\n",
      "Loss: 0.43987253308296204\n",
      "Intel MKL WARNING: Support of Intel(R) Streaming SIMD Extensions 4.2 (Intel(R) SSE4.2) enabled only processors has been deprecated. Intel oneAPI Math Kernel Library 2025.0 will require Intel(R) Advanced Vector Extensions (Intel(R) AVX) instructions.\n",
      "Intel MKL WARNING: Support of Intel(R) Streaming SIMD Extensions 4.2 (Intel(R) SSE4.2) enabled only processors has been deprecated. Intel oneAPI Math Kernel Library 2025.0 will require Intel(R) Advanced Vector Extensions (Intel(R) AVX) instructions.\n",
      "Loss: 0.495622843503952\n",
      "Intel MKL WARNING: Support of Intel(R) Streaming SIMD Extensions 4.2 (Intel(R) SSE4.2) enabled only processors has been deprecated. Intel oneAPI Math Kernel Library 2025.0 will require Intel(R) Advanced Vector Extensions (Intel(R) AVX) instructions.\n",
      "Intel MKL WARNING: Support of Intel(R) Streaming SIMD Extensions 4.2 (Intel(R) SSE4.2) enabled only processors has been deprecated. Intel oneAPI Math Kernel Library 2025.0 will require Intel(R) Advanced Vector Extensions (Intel(R) AVX) instructions.\n",
      "Loss: 0.2884819209575653\n",
      "Intel MKL WARNING: Support of Intel(R) Streaming SIMD Extensions 4.2 (Intel(R) SSE4.2) enabled only processors has been deprecated. Intel oneAPI Math Kernel Library 2025.0 will require Intel(R) Advanced Vector Extensions (Intel(R) AVX) instructions.\n",
      "Intel MKL WARNING: Support of Intel(R) Streaming SIMD Extensions 4.2 (Intel(R) SSE4.2) enabled only processors has been deprecated. Intel oneAPI Math Kernel Library 2025.0 will require Intel(R) Advanced Vector Extensions (Intel(R) AVX) instructions.\n",
      "Loss: 4.4703435264636937e-07\n",
      "Intel MKL WARNING: Support of Intel(R) Streaming SIMD Extensions 4.2 (Intel(R) SSE4.2) enabled only processors has been deprecated. Intel oneAPI Math Kernel Library 2025.0 will require Intel(R) Advanced Vector Extensions (Intel(R) AVX) instructions.\n",
      "Intel MKL WARNING: Support of Intel(R) Streaming SIMD Extensions 4.2 (Intel(R) SSE4.2) enabled only processors has been deprecated. Intel oneAPI Math Kernel Library 2025.0 will require Intel(R) Advanced Vector Extensions (Intel(R) AVX) instructions.\n",
      "Loss: 0.21275582909584045\n",
      "Intel MKL WARNING: Support of Intel(R) Streaming SIMD Extensions 4.2 (Intel(R) SSE4.2) enabled only processors has been deprecated. Intel oneAPI Math Kernel Library 2025.0 will require Intel(R) Advanced Vector Extensions (Intel(R) AVX) instructions.\n",
      "Intel MKL WARNING: Support of Intel(R) Streaming SIMD Extensions 4.2 (Intel(R) SSE4.2) enabled only processors has been deprecated. Intel oneAPI Math Kernel Library 2025.0 will require Intel(R) Advanced Vector Extensions (Intel(R) AVX) instructions.\n",
      "Loss: 2.980228259730211e-07\n",
      "Intel MKL WARNING: Support of Intel(R) Streaming SIMD Extensions 4.2 (Intel(R) SSE4.2) enabled only processors has been deprecated. Intel oneAPI Math Kernel Library 2025.0 will require Intel(R) Advanced Vector Extensions (Intel(R) AVX) instructions.\n",
      "Intel MKL WARNING: Support of Intel(R) Streaming SIMD Extensions 4.2 (Intel(R) SSE4.2) enabled only processors has been deprecated. Intel oneAPI Math Kernel Library 2025.0 will require Intel(R) Advanced Vector Extensions (Intel(R) AVX) instructions.\n",
      "Loss: 9.23868185509491e-07\n",
      "Intel MKL WARNING: Support of Intel(R) Streaming SIMD Extensions 4.2 (Intel(R) SSE4.2) enabled only processors has been deprecated. Intel oneAPI Math Kernel Library 2025.0 will require Intel(R) Advanced Vector Extensions (Intel(R) AVX) instructions.\n",
      "Intel MKL WARNING: Support of Intel(R) Streaming SIMD Extensions 4.2 (Intel(R) SSE4.2) enabled only processors has been deprecated. Intel oneAPI Math Kernel Library 2025.0 will require Intel(R) Advanced Vector Extensions (Intel(R) AVX) instructions.\n",
      "Loss: 8.356442413059995e-05\n",
      "Intel MKL WARNING: Support of Intel(R) Streaming SIMD Extensions 4.2 (Intel(R) SSE4.2) enabled only processors has been deprecated. Intel oneAPI Math Kernel Library 2025.0 will require Intel(R) Advanced Vector Extensions (Intel(R) AVX) instructions.\n",
      "Intel MKL WARNING: Support of Intel(R) Streaming SIMD Extensions 4.2 (Intel(R) SSE4.2) enabled only processors has been deprecated. Intel oneAPI Math Kernel Library 2025.0 will require Intel(R) Advanced Vector Extensions (Intel(R) AVX) instructions.\n",
      "Loss: 2.284842679500798e-07\n",
      "Intel MKL WARNING: Support of Intel(R) Streaming SIMD Extensions 4.2 (Intel(R) SSE4.2) enabled only processors has been deprecated. Intel oneAPI Math Kernel Library 2025.0 will require Intel(R) Advanced Vector Extensions (Intel(R) AVX) instructions.\n",
      "Intel MKL WARNING: Support of Intel(R) Streaming SIMD Extensions 4.2 (Intel(R) SSE4.2) enabled only processors has been deprecated. Intel oneAPI Math Kernel Library 2025.0 will require Intel(R) Advanced Vector Extensions (Intel(R) AVX) instructions.\n",
      "Loss: 0.00016926703392527997\n",
      "Intel MKL WARNING: Support of Intel(R) Streaming SIMD Extensions 4.2 (Intel(R) SSE4.2) enabled only processors has been deprecated. Intel oneAPI Math Kernel Library 2025.0 will require Intel(R) Advanced Vector Extensions (Intel(R) AVX) instructions.\n",
      "Intel MKL WARNING: Support of Intel(R) Streaming SIMD Extensions 4.2 (Intel(R) SSE4.2) enabled only processors has been deprecated. Intel oneAPI Math Kernel Library 2025.0 will require Intel(R) Advanced Vector Extensions (Intel(R) AVX) instructions.\n",
      "Loss: 8.940675115809427e-07\n",
      "Intel MKL WARNING: Support of Intel(R) Streaming SIMD Extensions 4.2 (Intel(R) SSE4.2) enabled only processors has been deprecated. Intel oneAPI Math Kernel Library 2025.0 will require Intel(R) Advanced Vector Extensions (Intel(R) AVX) instructions.\n",
      "Intel MKL WARNING: Support of Intel(R) Streaming SIMD Extensions 4.2 (Intel(R) SSE4.2) enabled only processors has been deprecated. Intel oneAPI Math Kernel Library 2025.0 will require Intel(R) Advanced Vector Extensions (Intel(R) AVX) instructions.\n",
      "Loss: 3.973642748178463e-08\n",
      "Intel MKL WARNING: Support of Intel(R) Streaming SIMD Extensions 4.2 (Intel(R) SSE4.2) enabled only processors has been deprecated. Intel oneAPI Math Kernel Library 2025.0 will require Intel(R) Advanced Vector Extensions (Intel(R) AVX) instructions.\n",
      "Intel MKL WARNING: Support of Intel(R) Streaming SIMD Extensions 4.2 (Intel(R) SSE4.2) enabled only processors has been deprecated. Intel oneAPI Math Kernel Library 2025.0 will require Intel(R) Advanced Vector Extensions (Intel(R) AVX) instructions.\n",
      "Epoch: 3\n",
      "Loss: 0.1775544434785843\n",
      "Intel MKL WARNING: Support of Intel(R) Streaming SIMD Extensions 4.2 (Intel(R) SSE4.2) enabled only processors has been deprecated. Intel oneAPI Math Kernel Library 2025.0 will require Intel(R) Advanced Vector Extensions (Intel(R) AVX) instructions.\n",
      "Intel MKL WARNING: Support of Intel(R) Streaming SIMD Extensions 4.2 (Intel(R) SSE4.2) enabled only processors has been deprecated. Intel oneAPI Math Kernel Library 2025.0 will require Intel(R) Advanced Vector Extensions (Intel(R) AVX) instructions.\n",
      "Loss: 0.2356659471988678\n",
      "Intel MKL WARNING: Support of Intel(R) Streaming SIMD Extensions 4.2 (Intel(R) SSE4.2) enabled only processors has been deprecated. Intel oneAPI Math Kernel Library 2025.0 will require Intel(R) Advanced Vector Extensions (Intel(R) AVX) instructions.\n",
      "Intel MKL WARNING: Support of Intel(R) Streaming SIMD Extensions 4.2 (Intel(R) SSE4.2) enabled only processors has been deprecated. Intel oneAPI Math Kernel Library 2025.0 will require Intel(R) Advanced Vector Extensions (Intel(R) AVX) instructions.\n",
      "Loss: 0.1355268359184265\n",
      "Intel MKL WARNING: Support of Intel(R) Streaming SIMD Extensions 4.2 (Intel(R) SSE4.2) enabled only processors has been deprecated. Intel oneAPI Math Kernel Library 2025.0 will require Intel(R) Advanced Vector Extensions (Intel(R) AVX) instructions.\n",
      "Intel MKL WARNING: Support of Intel(R) Streaming SIMD Extensions 4.2 (Intel(R) SSE4.2) enabled only processors has been deprecated. Intel oneAPI Math Kernel Library 2025.0 will require Intel(R) Advanced Vector Extensions (Intel(R) AVX) instructions.\n",
      "Loss: 0.09172992408275604\n",
      "Intel MKL WARNING: Support of Intel(R) Streaming SIMD Extensions 4.2 (Intel(R) SSE4.2) enabled only processors has been deprecated. Intel oneAPI Math Kernel Library 2025.0 will require Intel(R) Advanced Vector Extensions (Intel(R) AVX) instructions.\n",
      "Intel MKL WARNING: Support of Intel(R) Streaming SIMD Extensions 4.2 (Intel(R) SSE4.2) enabled only processors has been deprecated. Intel oneAPI Math Kernel Library 2025.0 will require Intel(R) Advanced Vector Extensions (Intel(R) AVX) instructions.\n",
      "Loss: 6.953874276405259e-08\n",
      "Intel MKL WARNING: Support of Intel(R) Streaming SIMD Extensions 4.2 (Intel(R) SSE4.2) enabled only processors has been deprecated. Intel oneAPI Math Kernel Library 2025.0 will require Intel(R) Advanced Vector Extensions (Intel(R) AVX) instructions.\n",
      "Intel MKL WARNING: Support of Intel(R) Streaming SIMD Extensions 4.2 (Intel(R) SSE4.2) enabled only processors has been deprecated. Intel oneAPI Math Kernel Library 2025.0 will require Intel(R) Advanced Vector Extensions (Intel(R) AVX) instructions.\n",
      "Loss: 0.1620357632637024\n",
      "Intel MKL WARNING: Support of Intel(R) Streaming SIMD Extensions 4.2 (Intel(R) SSE4.2) enabled only processors has been deprecated. Intel oneAPI Math Kernel Library 2025.0 will require Intel(R) Advanced Vector Extensions (Intel(R) AVX) instructions.\n",
      "Intel MKL WARNING: Support of Intel(R) Streaming SIMD Extensions 4.2 (Intel(R) SSE4.2) enabled only processors has been deprecated. Intel oneAPI Math Kernel Library 2025.0 will require Intel(R) Advanced Vector Extensions (Intel(R) AVX) instructions.\n",
      "Loss: 9.934105804632054e-08\n",
      "Intel MKL WARNING: Support of Intel(R) Streaming SIMD Extensions 4.2 (Intel(R) SSE4.2) enabled only processors has been deprecated. Intel oneAPI Math Kernel Library 2025.0 will require Intel(R) Advanced Vector Extensions (Intel(R) AVX) instructions.\n",
      "Intel MKL WARNING: Support of Intel(R) Streaming SIMD Extensions 4.2 (Intel(R) SSE4.2) enabled only processors has been deprecated. Intel oneAPI Math Kernel Library 2025.0 will require Intel(R) Advanced Vector Extensions (Intel(R) AVX) instructions.\n",
      "Loss: 4.072977333180461e-07\n",
      "Intel MKL WARNING: Support of Intel(R) Streaming SIMD Extensions 4.2 (Intel(R) SSE4.2) enabled only processors has been deprecated. Intel oneAPI Math Kernel Library 2025.0 will require Intel(R) Advanced Vector Extensions (Intel(R) AVX) instructions.\n",
      "Intel MKL WARNING: Support of Intel(R) Streaming SIMD Extensions 4.2 (Intel(R) SSE4.2) enabled only processors has been deprecated. Intel oneAPI Math Kernel Library 2025.0 will require Intel(R) Advanced Vector Extensions (Intel(R) AVX) instructions.\n",
      "Loss: 0.0012382162967696786\n",
      "Intel MKL WARNING: Support of Intel(R) Streaming SIMD Extensions 4.2 (Intel(R) SSE4.2) enabled only processors has been deprecated. Intel oneAPI Math Kernel Library 2025.0 will require Intel(R) Advanced Vector Extensions (Intel(R) AVX) instructions.\n",
      "Intel MKL WARNING: Support of Intel(R) Streaming SIMD Extensions 4.2 (Intel(R) SSE4.2) enabled only processors has been deprecated. Intel oneAPI Math Kernel Library 2025.0 will require Intel(R) Advanced Vector Extensions (Intel(R) AVX) instructions.\n",
      "Loss: 9.93410651517479e-08\n",
      "Intel MKL WARNING: Support of Intel(R) Streaming SIMD Extensions 4.2 (Intel(R) SSE4.2) enabled only processors has been deprecated. Intel oneAPI Math Kernel Library 2025.0 will require Intel(R) Advanced Vector Extensions (Intel(R) AVX) instructions.\n",
      "Intel MKL WARNING: Support of Intel(R) Streaming SIMD Extensions 4.2 (Intel(R) SSE4.2) enabled only processors has been deprecated. Intel oneAPI Math Kernel Library 2025.0 will require Intel(R) Advanced Vector Extensions (Intel(R) AVX) instructions.\n",
      "Loss: 8.291899575851858e-05\n",
      "Intel MKL WARNING: Support of Intel(R) Streaming SIMD Extensions 4.2 (Intel(R) SSE4.2) enabled only processors has been deprecated. Intel oneAPI Math Kernel Library 2025.0 will require Intel(R) Advanced Vector Extensions (Intel(R) AVX) instructions.\n",
      "Intel MKL WARNING: Support of Intel(R) Streaming SIMD Extensions 4.2 (Intel(R) SSE4.2) enabled only processors has been deprecated. Intel oneAPI Math Kernel Library 2025.0 will require Intel(R) Advanced Vector Extensions (Intel(R) AVX) instructions.\n",
      "Loss: 9.040020358952461e-07\n",
      "Intel MKL WARNING: Support of Intel(R) Streaming SIMD Extensions 4.2 (Intel(R) SSE4.2) enabled only processors has been deprecated. Intel oneAPI Math Kernel Library 2025.0 will require Intel(R) Advanced Vector Extensions (Intel(R) AVX) instructions.\n",
      "Intel MKL WARNING: Support of Intel(R) Streaming SIMD Extensions 4.2 (Intel(R) SSE4.2) enabled only processors has been deprecated. Intel oneAPI Math Kernel Library 2025.0 will require Intel(R) Advanced Vector Extensions (Intel(R) AVX) instructions.\n",
      "Loss: 7.947285496356926e-08\n",
      "Intel MKL WARNING: Support of Intel(R) Streaming SIMD Extensions 4.2 (Intel(R) SSE4.2) enabled only processors has been deprecated. Intel oneAPI Math Kernel Library 2025.0 will require Intel(R) Advanced Vector Extensions (Intel(R) AVX) instructions.\n",
      "Intel MKL WARNING: Support of Intel(R) Streaming SIMD Extensions 4.2 (Intel(R) SSE4.2) enabled only processors has been deprecated. Intel oneAPI Math Kernel Library 2025.0 will require Intel(R) Advanced Vector Extensions (Intel(R) AVX) instructions.\n",
      "Epoch: 4\n",
      "Loss: 0.1853179931640625\n",
      "Intel MKL WARNING: Support of Intel(R) Streaming SIMD Extensions 4.2 (Intel(R) SSE4.2) enabled only processors has been deprecated. Intel oneAPI Math Kernel Library 2025.0 will require Intel(R) Advanced Vector Extensions (Intel(R) AVX) instructions.\n",
      "Intel MKL WARNING: Support of Intel(R) Streaming SIMD Extensions 4.2 (Intel(R) SSE4.2) enabled only processors has been deprecated. Intel oneAPI Math Kernel Library 2025.0 will require Intel(R) Advanced Vector Extensions (Intel(R) AVX) instructions.\n",
      "Loss: 0.11469253152608871\n",
      "Intel MKL WARNING: Support of Intel(R) Streaming SIMD Extensions 4.2 (Intel(R) SSE4.2) enabled only processors has been deprecated. Intel oneAPI Math Kernel Library 2025.0 will require Intel(R) Advanced Vector Extensions (Intel(R) AVX) instructions.\n",
      "Intel MKL WARNING: Support of Intel(R) Streaming SIMD Extensions 4.2 (Intel(R) SSE4.2) enabled only processors has been deprecated. Intel oneAPI Math Kernel Library 2025.0 will require Intel(R) Advanced Vector Extensions (Intel(R) AVX) instructions.\n",
      "Loss: 0.10582207143306732\n",
      "Intel MKL WARNING: Support of Intel(R) Streaming SIMD Extensions 4.2 (Intel(R) SSE4.2) enabled only processors has been deprecated. Intel oneAPI Math Kernel Library 2025.0 will require Intel(R) Advanced Vector Extensions (Intel(R) AVX) instructions.\n",
      "Intel MKL WARNING: Support of Intel(R) Streaming SIMD Extensions 4.2 (Intel(R) SSE4.2) enabled only processors has been deprecated. Intel oneAPI Math Kernel Library 2025.0 will require Intel(R) Advanced Vector Extensions (Intel(R) AVX) instructions.\n",
      "Loss: 0.12438997626304626\n",
      "Intel MKL WARNING: Support of Intel(R) Streaming SIMD Extensions 4.2 (Intel(R) SSE4.2) enabled only processors has been deprecated. Intel oneAPI Math Kernel Library 2025.0 will require Intel(R) Advanced Vector Extensions (Intel(R) AVX) instructions.\n",
      "Intel MKL WARNING: Support of Intel(R) Streaming SIMD Extensions 4.2 (Intel(R) SSE4.2) enabled only processors has been deprecated. Intel oneAPI Math Kernel Library 2025.0 will require Intel(R) Advanced Vector Extensions (Intel(R) AVX) instructions.\n",
      "Loss: 4.967053257587395e-08\n",
      "Intel MKL WARNING: Support of Intel(R) Streaming SIMD Extensions 4.2 (Intel(R) SSE4.2) enabled only processors has been deprecated. Intel oneAPI Math Kernel Library 2025.0 will require Intel(R) Advanced Vector Extensions (Intel(R) AVX) instructions.\n",
      "Intel MKL WARNING: Support of Intel(R) Streaming SIMD Extensions 4.2 (Intel(R) SSE4.2) enabled only processors has been deprecated. Intel oneAPI Math Kernel Library 2025.0 will require Intel(R) Advanced Vector Extensions (Intel(R) AVX) instructions.\n",
      "Loss: 0.15588174760341644\n",
      "Intel MKL WARNING: Support of Intel(R) Streaming SIMD Extensions 4.2 (Intel(R) SSE4.2) enabled only processors has been deprecated. Intel oneAPI Math Kernel Library 2025.0 will require Intel(R) Advanced Vector Extensions (Intel(R) AVX) instructions.\n",
      "Intel MKL WARNING: Support of Intel(R) Streaming SIMD Extensions 4.2 (Intel(R) SSE4.2) enabled only processors has been deprecated. Intel oneAPI Math Kernel Library 2025.0 will require Intel(R) Advanced Vector Extensions (Intel(R) AVX) instructions.\n",
      "Loss: 7.947285496356926e-08\n",
      "Intel MKL WARNING: Support of Intel(R) Streaming SIMD Extensions 4.2 (Intel(R) SSE4.2) enabled only processors has been deprecated. Intel oneAPI Math Kernel Library 2025.0 will require Intel(R) Advanced Vector Extensions (Intel(R) AVX) instructions.\n",
      "Intel MKL WARNING: Support of Intel(R) Streaming SIMD Extensions 4.2 (Intel(R) SSE4.2) enabled only processors has been deprecated. Intel oneAPI Math Kernel Library 2025.0 will require Intel(R) Advanced Vector Extensions (Intel(R) AVX) instructions.\n",
      "Loss: 1.887479044171414e-07\n",
      "Intel MKL WARNING: Support of Intel(R) Streaming SIMD Extensions 4.2 (Intel(R) SSE4.2) enabled only processors has been deprecated. Intel oneAPI Math Kernel Library 2025.0 will require Intel(R) Advanced Vector Extensions (Intel(R) AVX) instructions.\n",
      "Intel MKL WARNING: Support of Intel(R) Streaming SIMD Extensions 4.2 (Intel(R) SSE4.2) enabled only processors has been deprecated. Intel oneAPI Math Kernel Library 2025.0 will require Intel(R) Advanced Vector Extensions (Intel(R) AVX) instructions.\n",
      "Loss: 0.00015301832172553986\n",
      "Intel MKL WARNING: Support of Intel(R) Streaming SIMD Extensions 4.2 (Intel(R) SSE4.2) enabled only processors has been deprecated. Intel oneAPI Math Kernel Library 2025.0 will require Intel(R) Advanced Vector Extensions (Intel(R) AVX) instructions.\n",
      "Intel MKL WARNING: Support of Intel(R) Streaming SIMD Extensions 4.2 (Intel(R) SSE4.2) enabled only processors has been deprecated. Intel oneAPI Math Kernel Library 2025.0 will require Intel(R) Advanced Vector Extensions (Intel(R) AVX) instructions.\n",
      "Loss: 8.940696716308594e-08\n",
      "Intel MKL WARNING: Support of Intel(R) Streaming SIMD Extensions 4.2 (Intel(R) SSE4.2) enabled only processors has been deprecated. Intel oneAPI Math Kernel Library 2025.0 will require Intel(R) Advanced Vector Extensions (Intel(R) AVX) instructions.\n",
      "Intel MKL WARNING: Support of Intel(R) Streaming SIMD Extensions 4.2 (Intel(R) SSE4.2) enabled only processors has been deprecated. Intel oneAPI Math Kernel Library 2025.0 will require Intel(R) Advanced Vector Extensions (Intel(R) AVX) instructions.\n",
      "Loss: 0.0007818238809704781\n",
      "Intel MKL WARNING: Support of Intel(R) Streaming SIMD Extensions 4.2 (Intel(R) SSE4.2) enabled only processors has been deprecated. Intel oneAPI Math Kernel Library 2025.0 will require Intel(R) Advanced Vector Extensions (Intel(R) AVX) instructions.\n",
      "Intel MKL WARNING: Support of Intel(R) Streaming SIMD Extensions 4.2 (Intel(R) SSE4.2) enabled only processors has been deprecated. Intel oneAPI Math Kernel Library 2025.0 will require Intel(R) Advanced Vector Extensions (Intel(R) AVX) instructions.\n",
      "Loss: 4.569686211652879e-07\n",
      "Intel MKL WARNING: Support of Intel(R) Streaming SIMD Extensions 4.2 (Intel(R) SSE4.2) enabled only processors has been deprecated. Intel oneAPI Math Kernel Library 2025.0 will require Intel(R) Advanced Vector Extensions (Intel(R) AVX) instructions.\n",
      "Intel MKL WARNING: Support of Intel(R) Streaming SIMD Extensions 4.2 (Intel(R) SSE4.2) enabled only processors has been deprecated. Intel oneAPI Math Kernel Library 2025.0 will require Intel(R) Advanced Vector Extensions (Intel(R) AVX) instructions.\n",
      "Loss: 7.947285496356926e-08\n",
      "Intel MKL WARNING: Support of Intel(R) Streaming SIMD Extensions 4.2 (Intel(R) SSE4.2) enabled only processors has been deprecated. Intel oneAPI Math Kernel Library 2025.0 will require Intel(R) Advanced Vector Extensions (Intel(R) AVX) instructions.\n",
      "Intel MKL WARNING: Support of Intel(R) Streaming SIMD Extensions 4.2 (Intel(R) SSE4.2) enabled only processors has been deprecated. Intel oneAPI Math Kernel Library 2025.0 will require Intel(R) Advanced Vector Extensions (Intel(R) AVX) instructions.\n",
      "Epoch: 5\n",
      "Loss: 0.13068751990795135\n",
      "Intel MKL WARNING: Support of Intel(R) Streaming SIMD Extensions 4.2 (Intel(R) SSE4.2) enabled only processors has been deprecated. Intel oneAPI Math Kernel Library 2025.0 will require Intel(R) Advanced Vector Extensions (Intel(R) AVX) instructions.\n",
      "Intel MKL WARNING: Support of Intel(R) Streaming SIMD Extensions 4.2 (Intel(R) SSE4.2) enabled only processors has been deprecated. Intel oneAPI Math Kernel Library 2025.0 will require Intel(R) Advanced Vector Extensions (Intel(R) AVX) instructions.\n",
      "Loss: 0.15138044953346252\n",
      "Intel MKL WARNING: Support of Intel(R) Streaming SIMD Extensions 4.2 (Intel(R) SSE4.2) enabled only processors has been deprecated. Intel oneAPI Math Kernel Library 2025.0 will require Intel(R) Advanced Vector Extensions (Intel(R) AVX) instructions.\n",
      "Intel MKL WARNING: Support of Intel(R) Streaming SIMD Extensions 4.2 (Intel(R) SSE4.2) enabled only processors has been deprecated. Intel oneAPI Math Kernel Library 2025.0 will require Intel(R) Advanced Vector Extensions (Intel(R) AVX) instructions.\n",
      "Loss: 0.11494792252779007\n",
      "Intel MKL WARNING: Support of Intel(R) Streaming SIMD Extensions 4.2 (Intel(R) SSE4.2) enabled only processors has been deprecated. Intel oneAPI Math Kernel Library 2025.0 will require Intel(R) Advanced Vector Extensions (Intel(R) AVX) instructions.\n",
      "Intel MKL WARNING: Support of Intel(R) Streaming SIMD Extensions 4.2 (Intel(R) SSE4.2) enabled only processors has been deprecated. Intel oneAPI Math Kernel Library 2025.0 will require Intel(R) Advanced Vector Extensions (Intel(R) AVX) instructions.\n",
      "Loss: 0.014320172369480133\n",
      "Intel MKL WARNING: Support of Intel(R) Streaming SIMD Extensions 4.2 (Intel(R) SSE4.2) enabled only processors has been deprecated. Intel oneAPI Math Kernel Library 2025.0 will require Intel(R) Advanced Vector Extensions (Intel(R) AVX) instructions.\n",
      "Intel MKL WARNING: Support of Intel(R) Streaming SIMD Extensions 4.2 (Intel(R) SSE4.2) enabled only processors has been deprecated. Intel oneAPI Math Kernel Library 2025.0 will require Intel(R) Advanced Vector Extensions (Intel(R) AVX) instructions.\n",
      "Loss: 3.973642748178463e-08\n",
      "Intel MKL WARNING: Support of Intel(R) Streaming SIMD Extensions 4.2 (Intel(R) SSE4.2) enabled only processors has been deprecated. Intel oneAPI Math Kernel Library 2025.0 will require Intel(R) Advanced Vector Extensions (Intel(R) AVX) instructions.\n",
      "Intel MKL WARNING: Support of Intel(R) Streaming SIMD Extensions 4.2 (Intel(R) SSE4.2) enabled only processors has been deprecated. Intel oneAPI Math Kernel Library 2025.0 will require Intel(R) Advanced Vector Extensions (Intel(R) AVX) instructions.\n",
      "Loss: 0.11361554265022278\n",
      "Intel MKL WARNING: Support of Intel(R) Streaming SIMD Extensions 4.2 (Intel(R) SSE4.2) enabled only processors has been deprecated. Intel oneAPI Math Kernel Library 2025.0 will require Intel(R) Advanced Vector Extensions (Intel(R) AVX) instructions.\n",
      "Intel MKL WARNING: Support of Intel(R) Streaming SIMD Extensions 4.2 (Intel(R) SSE4.2) enabled only processors has been deprecated. Intel oneAPI Math Kernel Library 2025.0 will require Intel(R) Advanced Vector Extensions (Intel(R) AVX) instructions.\n",
      "Loss: 7.947285496356926e-08\n",
      "Intel MKL WARNING: Support of Intel(R) Streaming SIMD Extensions 4.2 (Intel(R) SSE4.2) enabled only processors has been deprecated. Intel oneAPI Math Kernel Library 2025.0 will require Intel(R) Advanced Vector Extensions (Intel(R) AVX) instructions.\n",
      "Intel MKL WARNING: Support of Intel(R) Streaming SIMD Extensions 4.2 (Intel(R) SSE4.2) enabled only processors has been deprecated. Intel oneAPI Math Kernel Library 2025.0 will require Intel(R) Advanced Vector Extensions (Intel(R) AVX) instructions.\n",
      "Loss: 1.4901152667334827e-07\n",
      "Intel MKL WARNING: Support of Intel(R) Streaming SIMD Extensions 4.2 (Intel(R) SSE4.2) enabled only processors has been deprecated. Intel oneAPI Math Kernel Library 2025.0 will require Intel(R) Advanced Vector Extensions (Intel(R) AVX) instructions.\n",
      "Intel MKL WARNING: Support of Intel(R) Streaming SIMD Extensions 4.2 (Intel(R) SSE4.2) enabled only processors has been deprecated. Intel oneAPI Math Kernel Library 2025.0 will require Intel(R) Advanced Vector Extensions (Intel(R) AVX) instructions.\n",
      "Loss: 7.929842104203999e-05\n",
      "Intel MKL WARNING: Support of Intel(R) Streaming SIMD Extensions 4.2 (Intel(R) SSE4.2) enabled only processors has been deprecated. Intel oneAPI Math Kernel Library 2025.0 will require Intel(R) Advanced Vector Extensions (Intel(R) AVX) instructions.\n",
      "Intel MKL WARNING: Support of Intel(R) Streaming SIMD Extensions 4.2 (Intel(R) SSE4.2) enabled only processors has been deprecated. Intel oneAPI Math Kernel Library 2025.0 will require Intel(R) Advanced Vector Extensions (Intel(R) AVX) instructions.\n",
      "Loss: 8.940696716308594e-08\n",
      "Intel MKL WARNING: Support of Intel(R) Streaming SIMD Extensions 4.2 (Intel(R) SSE4.2) enabled only processors has been deprecated. Intel oneAPI Math Kernel Library 2025.0 will require Intel(R) Advanced Vector Extensions (Intel(R) AVX) instructions.\n",
      "Intel MKL WARNING: Support of Intel(R) Streaming SIMD Extensions 4.2 (Intel(R) SSE4.2) enabled only processors has been deprecated. Intel oneAPI Math Kernel Library 2025.0 will require Intel(R) Advanced Vector Extensions (Intel(R) AVX) instructions.\n",
      "Loss: 1.823708225856535e-05\n",
      "Intel MKL WARNING: Support of Intel(R) Streaming SIMD Extensions 4.2 (Intel(R) SSE4.2) enabled only processors has been deprecated. Intel oneAPI Math Kernel Library 2025.0 will require Intel(R) Advanced Vector Extensions (Intel(R) AVX) instructions.\n",
      "Intel MKL WARNING: Support of Intel(R) Streaming SIMD Extensions 4.2 (Intel(R) SSE4.2) enabled only processors has been deprecated. Intel oneAPI Math Kernel Library 2025.0 will require Intel(R) Advanced Vector Extensions (Intel(R) AVX) instructions.\n",
      "Loss: 5.662435569320223e-07\n",
      "Intel MKL WARNING: Support of Intel(R) Streaming SIMD Extensions 4.2 (Intel(R) SSE4.2) enabled only processors has been deprecated. Intel oneAPI Math Kernel Library 2025.0 will require Intel(R) Advanced Vector Extensions (Intel(R) AVX) instructions.\n",
      "Intel MKL WARNING: Support of Intel(R) Streaming SIMD Extensions 4.2 (Intel(R) SSE4.2) enabled only processors has been deprecated. Intel oneAPI Math Kernel Library 2025.0 will require Intel(R) Advanced Vector Extensions (Intel(R) AVX) instructions.\n",
      "Loss: 7.947285496356926e-08\n",
      "Intel MKL WARNING: Support of Intel(R) Streaming SIMD Extensions 4.2 (Intel(R) SSE4.2) enabled only processors has been deprecated. Intel oneAPI Math Kernel Library 2025.0 will require Intel(R) Advanced Vector Extensions (Intel(R) AVX) instructions.\n",
      "Intel MKL WARNING: Support of Intel(R) Streaming SIMD Extensions 4.2 (Intel(R) SSE4.2) enabled only processors has been deprecated. Intel oneAPI Math Kernel Library 2025.0 will require Intel(R) Advanced Vector Extensions (Intel(R) AVX) instructions.\n",
      "Epoch: 6\n",
      "Loss: 0.10189983993768692\n",
      "Intel MKL WARNING: Support of Intel(R) Streaming SIMD Extensions 4.2 (Intel(R) SSE4.2) enabled only processors has been deprecated. Intel oneAPI Math Kernel Library 2025.0 will require Intel(R) Advanced Vector Extensions (Intel(R) AVX) instructions.\n",
      "Intel MKL WARNING: Support of Intel(R) Streaming SIMD Extensions 4.2 (Intel(R) SSE4.2) enabled only processors has been deprecated. Intel oneAPI Math Kernel Library 2025.0 will require Intel(R) Advanced Vector Extensions (Intel(R) AVX) instructions.\n",
      "Loss: 0.06824304908514023\n",
      "Intel MKL WARNING: Support of Intel(R) Streaming SIMD Extensions 4.2 (Intel(R) SSE4.2) enabled only processors has been deprecated. Intel oneAPI Math Kernel Library 2025.0 will require Intel(R) Advanced Vector Extensions (Intel(R) AVX) instructions.\n",
      "Intel MKL WARNING: Support of Intel(R) Streaming SIMD Extensions 4.2 (Intel(R) SSE4.2) enabled only processors has been deprecated. Intel oneAPI Math Kernel Library 2025.0 will require Intel(R) Advanced Vector Extensions (Intel(R) AVX) instructions.\n",
      "Loss: 0.06245013698935509\n",
      "Intel MKL WARNING: Support of Intel(R) Streaming SIMD Extensions 4.2 (Intel(R) SSE4.2) enabled only processors has been deprecated. Intel oneAPI Math Kernel Library 2025.0 will require Intel(R) Advanced Vector Extensions (Intel(R) AVX) instructions.\n",
      "Intel MKL WARNING: Support of Intel(R) Streaming SIMD Extensions 4.2 (Intel(R) SSE4.2) enabled only processors has been deprecated. Intel oneAPI Math Kernel Library 2025.0 will require Intel(R) Advanced Vector Extensions (Intel(R) AVX) instructions.\n",
      "Loss: 0.015104809775948524\n",
      "Intel MKL WARNING: Support of Intel(R) Streaming SIMD Extensions 4.2 (Intel(R) SSE4.2) enabled only processors has been deprecated. Intel oneAPI Math Kernel Library 2025.0 will require Intel(R) Advanced Vector Extensions (Intel(R) AVX) instructions.\n",
      "Intel MKL WARNING: Support of Intel(R) Streaming SIMD Extensions 4.2 (Intel(R) SSE4.2) enabled only processors has been deprecated. Intel oneAPI Math Kernel Library 2025.0 will require Intel(R) Advanced Vector Extensions (Intel(R) AVX) instructions.\n",
      "Loss: 3.973642748178463e-08\n",
      "Intel MKL WARNING: Support of Intel(R) Streaming SIMD Extensions 4.2 (Intel(R) SSE4.2) enabled only processors has been deprecated. Intel oneAPI Math Kernel Library 2025.0 will require Intel(R) Advanced Vector Extensions (Intel(R) AVX) instructions.\n",
      "Intel MKL WARNING: Support of Intel(R) Streaming SIMD Extensions 4.2 (Intel(R) SSE4.2) enabled only processors has been deprecated. Intel oneAPI Math Kernel Library 2025.0 will require Intel(R) Advanced Vector Extensions (Intel(R) AVX) instructions.\n",
      "Loss: 0.07685455679893494\n",
      "Intel MKL WARNING: Support of Intel(R) Streaming SIMD Extensions 4.2 (Intel(R) SSE4.2) enabled only processors has been deprecated. Intel oneAPI Math Kernel Library 2025.0 will require Intel(R) Advanced Vector Extensions (Intel(R) AVX) instructions.\n",
      "Intel MKL WARNING: Support of Intel(R) Streaming SIMD Extensions 4.2 (Intel(R) SSE4.2) enabled only processors has been deprecated. Intel oneAPI Math Kernel Library 2025.0 will require Intel(R) Advanced Vector Extensions (Intel(R) AVX) instructions.\n",
      "Loss: 8.940696005765858e-08\n",
      "Intel MKL WARNING: Support of Intel(R) Streaming SIMD Extensions 4.2 (Intel(R) SSE4.2) enabled only processors has been deprecated. Intel oneAPI Math Kernel Library 2025.0 will require Intel(R) Advanced Vector Extensions (Intel(R) AVX) instructions.\n",
      "Intel MKL WARNING: Support of Intel(R) Streaming SIMD Extensions 4.2 (Intel(R) SSE4.2) enabled only processors has been deprecated. Intel oneAPI Math Kernel Library 2025.0 will require Intel(R) Advanced Vector Extensions (Intel(R) AVX) instructions.\n",
      "Loss: 9.934104383546583e-08\n",
      "Intel MKL WARNING: Support of Intel(R) Streaming SIMD Extensions 4.2 (Intel(R) SSE4.2) enabled only processors has been deprecated. Intel oneAPI Math Kernel Library 2025.0 will require Intel(R) Advanced Vector Extensions (Intel(R) AVX) instructions.\n",
      "Intel MKL WARNING: Support of Intel(R) Streaming SIMD Extensions 4.2 (Intel(R) SSE4.2) enabled only processors has been deprecated. Intel oneAPI Math Kernel Library 2025.0 will require Intel(R) Advanced Vector Extensions (Intel(R) AVX) instructions.\n",
      "Loss: 7.801754691172391e-05\n",
      "Intel MKL WARNING: Support of Intel(R) Streaming SIMD Extensions 4.2 (Intel(R) SSE4.2) enabled only processors has been deprecated. Intel oneAPI Math Kernel Library 2025.0 will require Intel(R) Advanced Vector Extensions (Intel(R) AVX) instructions.\n",
      "Intel MKL WARNING: Support of Intel(R) Streaming SIMD Extensions 4.2 (Intel(R) SSE4.2) enabled only processors has been deprecated. Intel oneAPI Math Kernel Library 2025.0 will require Intel(R) Advanced Vector Extensions (Intel(R) AVX) instructions.\n",
      "Loss: 6.953874986947994e-08\n",
      "Intel MKL WARNING: Support of Intel(R) Streaming SIMD Extensions 4.2 (Intel(R) SSE4.2) enabled only processors has been deprecated. Intel oneAPI Math Kernel Library 2025.0 will require Intel(R) Advanced Vector Extensions (Intel(R) AVX) instructions.\n",
      "Intel MKL WARNING: Support of Intel(R) Streaming SIMD Extensions 4.2 (Intel(R) SSE4.2) enabled only processors has been deprecated. Intel oneAPI Math Kernel Library 2025.0 will require Intel(R) Advanced Vector Extensions (Intel(R) AVX) instructions.\n",
      "Loss: 6.139068318589125e-06\n",
      "Intel MKL WARNING: Support of Intel(R) Streaming SIMD Extensions 4.2 (Intel(R) SSE4.2) enabled only processors has been deprecated. Intel oneAPI Math Kernel Library 2025.0 will require Intel(R) Advanced Vector Extensions (Intel(R) AVX) instructions.\n",
      "Intel MKL WARNING: Support of Intel(R) Streaming SIMD Extensions 4.2 (Intel(R) SSE4.2) enabled only processors has been deprecated. Intel oneAPI Math Kernel Library 2025.0 will require Intel(R) Advanced Vector Extensions (Intel(R) AVX) instructions.\n",
      "Loss: 4.3710031150112627e-07\n",
      "Intel MKL WARNING: Support of Intel(R) Streaming SIMD Extensions 4.2 (Intel(R) SSE4.2) enabled only processors has been deprecated. Intel oneAPI Math Kernel Library 2025.0 will require Intel(R) Advanced Vector Extensions (Intel(R) AVX) instructions.\n",
      "Intel MKL WARNING: Support of Intel(R) Streaming SIMD Extensions 4.2 (Intel(R) SSE4.2) enabled only processors has been deprecated. Intel oneAPI Math Kernel Library 2025.0 will require Intel(R) Advanced Vector Extensions (Intel(R) AVX) instructions.\n",
      "Loss: 7.947285496356926e-08\n",
      "Intel MKL WARNING: Support of Intel(R) Streaming SIMD Extensions 4.2 (Intel(R) SSE4.2) enabled only processors has been deprecated. Intel oneAPI Math Kernel Library 2025.0 will require Intel(R) Advanced Vector Extensions (Intel(R) AVX) instructions.\n",
      "Intel MKL WARNING: Support of Intel(R) Streaming SIMD Extensions 4.2 (Intel(R) SSE4.2) enabled only processors has been deprecated. Intel oneAPI Math Kernel Library 2025.0 will require Intel(R) Advanced Vector Extensions (Intel(R) AVX) instructions.\n",
      "Epoch: 7\n",
      "Loss: 0.049832236021757126\n",
      "Intel MKL WARNING: Support of Intel(R) Streaming SIMD Extensions 4.2 (Intel(R) SSE4.2) enabled only processors has been deprecated. Intel oneAPI Math Kernel Library 2025.0 will require Intel(R) Advanced Vector Extensions (Intel(R) AVX) instructions.\n",
      "Intel MKL WARNING: Support of Intel(R) Streaming SIMD Extensions 4.2 (Intel(R) SSE4.2) enabled only processors has been deprecated. Intel oneAPI Math Kernel Library 2025.0 will require Intel(R) Advanced Vector Extensions (Intel(R) AVX) instructions.\n",
      "Loss: 0.04668378084897995\n",
      "Intel MKL WARNING: Support of Intel(R) Streaming SIMD Extensions 4.2 (Intel(R) SSE4.2) enabled only processors has been deprecated. Intel oneAPI Math Kernel Library 2025.0 will require Intel(R) Advanced Vector Extensions (Intel(R) AVX) instructions.\n",
      "Intel MKL WARNING: Support of Intel(R) Streaming SIMD Extensions 4.2 (Intel(R) SSE4.2) enabled only processors has been deprecated. Intel oneAPI Math Kernel Library 2025.0 will require Intel(R) Advanced Vector Extensions (Intel(R) AVX) instructions.\n",
      "Loss: 0.044000450521707535\n",
      "Intel MKL WARNING: Support of Intel(R) Streaming SIMD Extensions 4.2 (Intel(R) SSE4.2) enabled only processors has been deprecated. Intel oneAPI Math Kernel Library 2025.0 will require Intel(R) Advanced Vector Extensions (Intel(R) AVX) instructions.\n",
      "Intel MKL WARNING: Support of Intel(R) Streaming SIMD Extensions 4.2 (Intel(R) SSE4.2) enabled only processors has been deprecated. Intel oneAPI Math Kernel Library 2025.0 will require Intel(R) Advanced Vector Extensions (Intel(R) AVX) instructions.\n",
      "Loss: 0.0012722088722512126\n",
      "Intel MKL WARNING: Support of Intel(R) Streaming SIMD Extensions 4.2 (Intel(R) SSE4.2) enabled only processors has been deprecated. Intel oneAPI Math Kernel Library 2025.0 will require Intel(R) Advanced Vector Extensions (Intel(R) AVX) instructions.\n",
      "Intel MKL WARNING: Support of Intel(R) Streaming SIMD Extensions 4.2 (Intel(R) SSE4.2) enabled only processors has been deprecated. Intel oneAPI Math Kernel Library 2025.0 will require Intel(R) Advanced Vector Extensions (Intel(R) AVX) instructions.\n",
      "Loss: 3.973642748178463e-08\n",
      "Intel MKL WARNING: Support of Intel(R) Streaming SIMD Extensions 4.2 (Intel(R) SSE4.2) enabled only processors has been deprecated. Intel oneAPI Math Kernel Library 2025.0 will require Intel(R) Advanced Vector Extensions (Intel(R) AVX) instructions.\n",
      "Intel MKL WARNING: Support of Intel(R) Streaming SIMD Extensions 4.2 (Intel(R) SSE4.2) enabled only processors has been deprecated. Intel oneAPI Math Kernel Library 2025.0 will require Intel(R) Advanced Vector Extensions (Intel(R) AVX) instructions.\n",
      "Loss: 0.03289977088570595\n",
      "Intel MKL WARNING: Support of Intel(R) Streaming SIMD Extensions 4.2 (Intel(R) SSE4.2) enabled only processors has been deprecated. Intel oneAPI Math Kernel Library 2025.0 will require Intel(R) Advanced Vector Extensions (Intel(R) AVX) instructions.\n",
      "Intel MKL WARNING: Support of Intel(R) Streaming SIMD Extensions 4.2 (Intel(R) SSE4.2) enabled only processors has been deprecated. Intel oneAPI Math Kernel Library 2025.0 will require Intel(R) Advanced Vector Extensions (Intel(R) AVX) instructions.\n",
      "Loss: 7.947285496356926e-08\n",
      "Intel MKL WARNING: Support of Intel(R) Streaming SIMD Extensions 4.2 (Intel(R) SSE4.2) enabled only processors has been deprecated. Intel oneAPI Math Kernel Library 2025.0 will require Intel(R) Advanced Vector Extensions (Intel(R) AVX) instructions.\n",
      "Intel MKL WARNING: Support of Intel(R) Streaming SIMD Extensions 4.2 (Intel(R) SSE4.2) enabled only processors has been deprecated. Intel oneAPI Math Kernel Library 2025.0 will require Intel(R) Advanced Vector Extensions (Intel(R) AVX) instructions.\n",
      "Loss: 4.967053257587395e-08\n",
      "Intel MKL WARNING: Support of Intel(R) Streaming SIMD Extensions 4.2 (Intel(R) SSE4.2) enabled only processors has been deprecated. Intel oneAPI Math Kernel Library 2025.0 will require Intel(R) Advanced Vector Extensions (Intel(R) AVX) instructions.\n",
      "Intel MKL WARNING: Support of Intel(R) Streaming SIMD Extensions 4.2 (Intel(R) SSE4.2) enabled only processors has been deprecated. Intel oneAPI Math Kernel Library 2025.0 will require Intel(R) Advanced Vector Extensions (Intel(R) AVX) instructions.\n",
      "Loss: 9.50265530264005e-05\n",
      "Intel MKL WARNING: Support of Intel(R) Streaming SIMD Extensions 4.2 (Intel(R) SSE4.2) enabled only processors has been deprecated. Intel oneAPI Math Kernel Library 2025.0 will require Intel(R) Advanced Vector Extensions (Intel(R) AVX) instructions.\n",
      "Intel MKL WARNING: Support of Intel(R) Streaming SIMD Extensions 4.2 (Intel(R) SSE4.2) enabled only processors has been deprecated. Intel oneAPI Math Kernel Library 2025.0 will require Intel(R) Advanced Vector Extensions (Intel(R) AVX) instructions.\n",
      "Loss: 6.953874986947994e-08\n",
      "Intel MKL WARNING: Support of Intel(R) Streaming SIMD Extensions 4.2 (Intel(R) SSE4.2) enabled only processors has been deprecated. Intel oneAPI Math Kernel Library 2025.0 will require Intel(R) Advanced Vector Extensions (Intel(R) AVX) instructions.\n",
      "Intel MKL WARNING: Support of Intel(R) Streaming SIMD Extensions 4.2 (Intel(R) SSE4.2) enabled only processors has been deprecated. Intel oneAPI Math Kernel Library 2025.0 will require Intel(R) Advanced Vector Extensions (Intel(R) AVX) instructions.\n",
      "Loss: 2.5828344405454118e-06\n",
      "Intel MKL WARNING: Support of Intel(R) Streaming SIMD Extensions 4.2 (Intel(R) SSE4.2) enabled only processors has been deprecated. Intel oneAPI Math Kernel Library 2025.0 will require Intel(R) Advanced Vector Extensions (Intel(R) AVX) instructions.\n",
      "Intel MKL WARNING: Support of Intel(R) Streaming SIMD Extensions 4.2 (Intel(R) SSE4.2) enabled only processors has been deprecated. Intel oneAPI Math Kernel Library 2025.0 will require Intel(R) Advanced Vector Extensions (Intel(R) AVX) instructions.\n",
      "Loss: 4.867706024924701e-07\n",
      "Intel MKL WARNING: Support of Intel(R) Streaming SIMD Extensions 4.2 (Intel(R) SSE4.2) enabled only processors has been deprecated. Intel oneAPI Math Kernel Library 2025.0 will require Intel(R) Advanced Vector Extensions (Intel(R) AVX) instructions.\n",
      "Intel MKL WARNING: Support of Intel(R) Streaming SIMD Extensions 4.2 (Intel(R) SSE4.2) enabled only processors has been deprecated. Intel oneAPI Math Kernel Library 2025.0 will require Intel(R) Advanced Vector Extensions (Intel(R) AVX) instructions.\n",
      "Loss: 7.947285496356926e-08\n",
      "Intel MKL WARNING: Support of Intel(R) Streaming SIMD Extensions 4.2 (Intel(R) SSE4.2) enabled only processors has been deprecated. Intel oneAPI Math Kernel Library 2025.0 will require Intel(R) Advanced Vector Extensions (Intel(R) AVX) instructions.\n",
      "Intel MKL WARNING: Support of Intel(R) Streaming SIMD Extensions 4.2 (Intel(R) SSE4.2) enabled only processors has been deprecated. Intel oneAPI Math Kernel Library 2025.0 will require Intel(R) Advanced Vector Extensions (Intel(R) AVX) instructions.\n",
      "Epoch: 8\n",
      "Loss: 0.015743819996714592\n",
      "Intel MKL WARNING: Support of Intel(R) Streaming SIMD Extensions 4.2 (Intel(R) SSE4.2) enabled only processors has been deprecated. Intel oneAPI Math Kernel Library 2025.0 will require Intel(R) Advanced Vector Extensions (Intel(R) AVX) instructions.\n",
      "Intel MKL WARNING: Support of Intel(R) Streaming SIMD Extensions 4.2 (Intel(R) SSE4.2) enabled only processors has been deprecated. Intel oneAPI Math Kernel Library 2025.0 will require Intel(R) Advanced Vector Extensions (Intel(R) AVX) instructions.\n",
      "Loss: 0.01616637594997883\n",
      "Intel MKL WARNING: Support of Intel(R) Streaming SIMD Extensions 4.2 (Intel(R) SSE4.2) enabled only processors has been deprecated. Intel oneAPI Math Kernel Library 2025.0 will require Intel(R) Advanced Vector Extensions (Intel(R) AVX) instructions.\n",
      "Intel MKL WARNING: Support of Intel(R) Streaming SIMD Extensions 4.2 (Intel(R) SSE4.2) enabled only processors has been deprecated. Intel oneAPI Math Kernel Library 2025.0 will require Intel(R) Advanced Vector Extensions (Intel(R) AVX) instructions.\n",
      "Loss: 0.03305196762084961\n",
      "Intel MKL WARNING: Support of Intel(R) Streaming SIMD Extensions 4.2 (Intel(R) SSE4.2) enabled only processors has been deprecated. Intel oneAPI Math Kernel Library 2025.0 will require Intel(R) Advanced Vector Extensions (Intel(R) AVX) instructions.\n",
      "Intel MKL WARNING: Support of Intel(R) Streaming SIMD Extensions 4.2 (Intel(R) SSE4.2) enabled only processors has been deprecated. Intel oneAPI Math Kernel Library 2025.0 will require Intel(R) Advanced Vector Extensions (Intel(R) AVX) instructions.\n",
      "Loss: 0.0009459685534238815\n",
      "Intel MKL WARNING: Support of Intel(R) Streaming SIMD Extensions 4.2 (Intel(R) SSE4.2) enabled only processors has been deprecated. Intel oneAPI Math Kernel Library 2025.0 will require Intel(R) Advanced Vector Extensions (Intel(R) AVX) instructions.\n",
      "Intel MKL WARNING: Support of Intel(R) Streaming SIMD Extensions 4.2 (Intel(R) SSE4.2) enabled only processors has been deprecated. Intel oneAPI Math Kernel Library 2025.0 will require Intel(R) Advanced Vector Extensions (Intel(R) AVX) instructions.\n",
      "Loss: 3.973642748178463e-08\n",
      "Intel MKL WARNING: Support of Intel(R) Streaming SIMD Extensions 4.2 (Intel(R) SSE4.2) enabled only processors has been deprecated. Intel oneAPI Math Kernel Library 2025.0 will require Intel(R) Advanced Vector Extensions (Intel(R) AVX) instructions.\n",
      "Intel MKL WARNING: Support of Intel(R) Streaming SIMD Extensions 4.2 (Intel(R) SSE4.2) enabled only processors has been deprecated. Intel oneAPI Math Kernel Library 2025.0 will require Intel(R) Advanced Vector Extensions (Intel(R) AVX) instructions.\n",
      "Loss: 0.010145297273993492\n",
      "Intel MKL WARNING: Support of Intel(R) Streaming SIMD Extensions 4.2 (Intel(R) SSE4.2) enabled only processors has been deprecated. Intel oneAPI Math Kernel Library 2025.0 will require Intel(R) Advanced Vector Extensions (Intel(R) AVX) instructions.\n",
      "Intel MKL WARNING: Support of Intel(R) Streaming SIMD Extensions 4.2 (Intel(R) SSE4.2) enabled only processors has been deprecated. Intel oneAPI Math Kernel Library 2025.0 will require Intel(R) Advanced Vector Extensions (Intel(R) AVX) instructions.\n",
      "Loss: 8.940696005765858e-08\n",
      "Intel MKL WARNING: Support of Intel(R) Streaming SIMD Extensions 4.2 (Intel(R) SSE4.2) enabled only processors has been deprecated. Intel oneAPI Math Kernel Library 2025.0 will require Intel(R) Advanced Vector Extensions (Intel(R) AVX) instructions.\n",
      "Intel MKL WARNING: Support of Intel(R) Streaming SIMD Extensions 4.2 (Intel(R) SSE4.2) enabled only processors has been deprecated. Intel oneAPI Math Kernel Library 2025.0 will require Intel(R) Advanced Vector Extensions (Intel(R) AVX) instructions.\n",
      "Loss: 3.973642748178463e-08\n",
      "Intel MKL WARNING: Support of Intel(R) Streaming SIMD Extensions 4.2 (Intel(R) SSE4.2) enabled only processors has been deprecated. Intel oneAPI Math Kernel Library 2025.0 will require Intel(R) Advanced Vector Extensions (Intel(R) AVX) instructions.\n",
      "Intel MKL WARNING: Support of Intel(R) Streaming SIMD Extensions 4.2 (Intel(R) SSE4.2) enabled only processors has been deprecated. Intel oneAPI Math Kernel Library 2025.0 will require Intel(R) Advanced Vector Extensions (Intel(R) AVX) instructions.\n",
      "Loss: 0.00011696261208271608\n",
      "Intel MKL WARNING: Support of Intel(R) Streaming SIMD Extensions 4.2 (Intel(R) SSE4.2) enabled only processors has been deprecated. Intel oneAPI Math Kernel Library 2025.0 will require Intel(R) Advanced Vector Extensions (Intel(R) AVX) instructions.\n",
      "Intel MKL WARNING: Support of Intel(R) Streaming SIMD Extensions 4.2 (Intel(R) SSE4.2) enabled only processors has been deprecated. Intel oneAPI Math Kernel Library 2025.0 will require Intel(R) Advanced Vector Extensions (Intel(R) AVX) instructions.\n",
      "Loss: 6.953874986947994e-08\n",
      "Intel MKL WARNING: Support of Intel(R) Streaming SIMD Extensions 4.2 (Intel(R) SSE4.2) enabled only processors has been deprecated. Intel oneAPI Math Kernel Library 2025.0 will require Intel(R) Advanced Vector Extensions (Intel(R) AVX) instructions.\n",
      "Intel MKL WARNING: Support of Intel(R) Streaming SIMD Extensions 4.2 (Intel(R) SSE4.2) enabled only processors has been deprecated. Intel oneAPI Math Kernel Library 2025.0 will require Intel(R) Advanced Vector Extensions (Intel(R) AVX) instructions.\n",
      "Loss: 1.6987194157991325e-06\n",
      "Intel MKL WARNING: Support of Intel(R) Streaming SIMD Extensions 4.2 (Intel(R) SSE4.2) enabled only processors has been deprecated. Intel oneAPI Math Kernel Library 2025.0 will require Intel(R) Advanced Vector Extensions (Intel(R) AVX) instructions.\n",
      "Intel MKL WARNING: Support of Intel(R) Streaming SIMD Extensions 4.2 (Intel(R) SSE4.2) enabled only processors has been deprecated. Intel oneAPI Math Kernel Library 2025.0 will require Intel(R) Advanced Vector Extensions (Intel(R) AVX) instructions.\n",
      "Loss: 5.265068239168613e-07\n",
      "Intel MKL WARNING: Support of Intel(R) Streaming SIMD Extensions 4.2 (Intel(R) SSE4.2) enabled only processors has been deprecated. Intel oneAPI Math Kernel Library 2025.0 will require Intel(R) Advanced Vector Extensions (Intel(R) AVX) instructions.\n",
      "Intel MKL WARNING: Support of Intel(R) Streaming SIMD Extensions 4.2 (Intel(R) SSE4.2) enabled only processors has been deprecated. Intel oneAPI Math Kernel Library 2025.0 will require Intel(R) Advanced Vector Extensions (Intel(R) AVX) instructions.\n",
      "Loss: 7.947285496356926e-08\n",
      "Intel MKL WARNING: Support of Intel(R) Streaming SIMD Extensions 4.2 (Intel(R) SSE4.2) enabled only processors has been deprecated. Intel oneAPI Math Kernel Library 2025.0 will require Intel(R) Advanced Vector Extensions (Intel(R) AVX) instructions.\n",
      "Intel MKL WARNING: Support of Intel(R) Streaming SIMD Extensions 4.2 (Intel(R) SSE4.2) enabled only processors has been deprecated. Intel oneAPI Math Kernel Library 2025.0 will require Intel(R) Advanced Vector Extensions (Intel(R) AVX) instructions.\n",
      "Epoch: 9\n",
      "Loss: 0.005746195558458567\n",
      "Intel MKL WARNING: Support of Intel(R) Streaming SIMD Extensions 4.2 (Intel(R) SSE4.2) enabled only processors has been deprecated. Intel oneAPI Math Kernel Library 2025.0 will require Intel(R) Advanced Vector Extensions (Intel(R) AVX) instructions.\n",
      "Intel MKL WARNING: Support of Intel(R) Streaming SIMD Extensions 4.2 (Intel(R) SSE4.2) enabled only processors has been deprecated. Intel oneAPI Math Kernel Library 2025.0 will require Intel(R) Advanced Vector Extensions (Intel(R) AVX) instructions.\n",
      "Loss: 0.006695150397717953\n",
      "Intel MKL WARNING: Support of Intel(R) Streaming SIMD Extensions 4.2 (Intel(R) SSE4.2) enabled only processors has been deprecated. Intel oneAPI Math Kernel Library 2025.0 will require Intel(R) Advanced Vector Extensions (Intel(R) AVX) instructions.\n",
      "Intel MKL WARNING: Support of Intel(R) Streaming SIMD Extensions 4.2 (Intel(R) SSE4.2) enabled only processors has been deprecated. Intel oneAPI Math Kernel Library 2025.0 will require Intel(R) Advanced Vector Extensions (Intel(R) AVX) instructions.\n",
      "Loss: 0.013866524212062359\n",
      "Intel MKL WARNING: Support of Intel(R) Streaming SIMD Extensions 4.2 (Intel(R) SSE4.2) enabled only processors has been deprecated. Intel oneAPI Math Kernel Library 2025.0 will require Intel(R) Advanced Vector Extensions (Intel(R) AVX) instructions.\n",
      "Intel MKL WARNING: Support of Intel(R) Streaming SIMD Extensions 4.2 (Intel(R) SSE4.2) enabled only processors has been deprecated. Intel oneAPI Math Kernel Library 2025.0 will require Intel(R) Advanced Vector Extensions (Intel(R) AVX) instructions.\n",
      "Loss: 0.0001331968087470159\n",
      "Intel MKL WARNING: Support of Intel(R) Streaming SIMD Extensions 4.2 (Intel(R) SSE4.2) enabled only processors has been deprecated. Intel oneAPI Math Kernel Library 2025.0 will require Intel(R) Advanced Vector Extensions (Intel(R) AVX) instructions.\n",
      "Intel MKL WARNING: Support of Intel(R) Streaming SIMD Extensions 4.2 (Intel(R) SSE4.2) enabled only processors has been deprecated. Intel oneAPI Math Kernel Library 2025.0 will require Intel(R) Advanced Vector Extensions (Intel(R) AVX) instructions.\n",
      "Loss: 3.973642748178463e-08\n",
      "Intel MKL WARNING: Support of Intel(R) Streaming SIMD Extensions 4.2 (Intel(R) SSE4.2) enabled only processors has been deprecated. Intel oneAPI Math Kernel Library 2025.0 will require Intel(R) Advanced Vector Extensions (Intel(R) AVX) instructions.\n",
      "Intel MKL WARNING: Support of Intel(R) Streaming SIMD Extensions 4.2 (Intel(R) SSE4.2) enabled only processors has been deprecated. Intel oneAPI Math Kernel Library 2025.0 will require Intel(R) Advanced Vector Extensions (Intel(R) AVX) instructions.\n",
      "Loss: 0.003936388064175844\n",
      "Intel MKL WARNING: Support of Intel(R) Streaming SIMD Extensions 4.2 (Intel(R) SSE4.2) enabled only processors has been deprecated. Intel oneAPI Math Kernel Library 2025.0 will require Intel(R) Advanced Vector Extensions (Intel(R) AVX) instructions.\n",
      "Intel MKL WARNING: Support of Intel(R) Streaming SIMD Extensions 4.2 (Intel(R) SSE4.2) enabled only processors has been deprecated. Intel oneAPI Math Kernel Library 2025.0 will require Intel(R) Advanced Vector Extensions (Intel(R) AVX) instructions.\n",
      "Loss: 8.940696005765858e-08\n",
      "Intel MKL WARNING: Support of Intel(R) Streaming SIMD Extensions 4.2 (Intel(R) SSE4.2) enabled only processors has been deprecated. Intel oneAPI Math Kernel Library 2025.0 will require Intel(R) Advanced Vector Extensions (Intel(R) AVX) instructions.\n",
      "Intel MKL WARNING: Support of Intel(R) Streaming SIMD Extensions 4.2 (Intel(R) SSE4.2) enabled only processors has been deprecated. Intel oneAPI Math Kernel Library 2025.0 will require Intel(R) Advanced Vector Extensions (Intel(R) AVX) instructions.\n",
      "Loss: 2.9802320611338473e-08\n",
      "Intel MKL WARNING: Support of Intel(R) Streaming SIMD Extensions 4.2 (Intel(R) SSE4.2) enabled only processors has been deprecated. Intel oneAPI Math Kernel Library 2025.0 will require Intel(R) Advanced Vector Extensions (Intel(R) AVX) instructions.\n",
      "Intel MKL WARNING: Support of Intel(R) Streaming SIMD Extensions 4.2 (Intel(R) SSE4.2) enabled only processors has been deprecated. Intel oneAPI Math Kernel Library 2025.0 will require Intel(R) Advanced Vector Extensions (Intel(R) AVX) instructions.\n",
      "Loss: 0.00010553331230767071\n",
      "Intel MKL WARNING: Support of Intel(R) Streaming SIMD Extensions 4.2 (Intel(R) SSE4.2) enabled only processors has been deprecated. Intel oneAPI Math Kernel Library 2025.0 will require Intel(R) Advanced Vector Extensions (Intel(R) AVX) instructions.\n",
      "Intel MKL WARNING: Support of Intel(R) Streaming SIMD Extensions 4.2 (Intel(R) SSE4.2) enabled only processors has been deprecated. Intel oneAPI Math Kernel Library 2025.0 will require Intel(R) Advanced Vector Extensions (Intel(R) AVX) instructions.\n",
      "Loss: 6.953874986947994e-08\n",
      "Intel MKL WARNING: Support of Intel(R) Streaming SIMD Extensions 4.2 (Intel(R) SSE4.2) enabled only processors has been deprecated. Intel oneAPI Math Kernel Library 2025.0 will require Intel(R) Advanced Vector Extensions (Intel(R) AVX) instructions.\n",
      "Intel MKL WARNING: Support of Intel(R) Streaming SIMD Extensions 4.2 (Intel(R) SSE4.2) enabled only processors has been deprecated. Intel oneAPI Math Kernel Library 2025.0 will require Intel(R) Advanced Vector Extensions (Intel(R) AVX) instructions.\n",
      "Loss: 1.4503712009172887e-06\n",
      "Intel MKL WARNING: Support of Intel(R) Streaming SIMD Extensions 4.2 (Intel(R) SSE4.2) enabled only processors has been deprecated. Intel oneAPI Math Kernel Library 2025.0 will require Intel(R) Advanced Vector Extensions (Intel(R) AVX) instructions.\n",
      "Intel MKL WARNING: Support of Intel(R) Streaming SIMD Extensions 4.2 (Intel(R) SSE4.2) enabled only processors has been deprecated. Intel oneAPI Math Kernel Library 2025.0 will require Intel(R) Advanced Vector Extensions (Intel(R) AVX) instructions.\n",
      "Loss: 5.662429884978337e-07\n",
      "Intel MKL WARNING: Support of Intel(R) Streaming SIMD Extensions 4.2 (Intel(R) SSE4.2) enabled only processors has been deprecated. Intel oneAPI Math Kernel Library 2025.0 will require Intel(R) Advanced Vector Extensions (Intel(R) AVX) instructions.\n",
      "Intel MKL WARNING: Support of Intel(R) Streaming SIMD Extensions 4.2 (Intel(R) SSE4.2) enabled only processors has been deprecated. Intel oneAPI Math Kernel Library 2025.0 will require Intel(R) Advanced Vector Extensions (Intel(R) AVX) instructions.\n",
      "Loss: 7.947285496356926e-08\n",
      "Intel MKL WARNING: Support of Intel(R) Streaming SIMD Extensions 4.2 (Intel(R) SSE4.2) enabled only processors has been deprecated. Intel oneAPI Math Kernel Library 2025.0 will require Intel(R) Advanced Vector Extensions (Intel(R) AVX) instructions.\n",
      "Intel MKL WARNING: Support of Intel(R) Streaming SIMD Extensions 4.2 (Intel(R) SSE4.2) enabled only processors has been deprecated. Intel oneAPI Math Kernel Library 2025.0 will require Intel(R) Advanced Vector Extensions (Intel(R) AVX) instructions.\n"
     ]
    }
   ],
   "source": [
    "from transformers import AdamW\n",
    "\n",
    "optimizer = AdamW(model.parameters(), lr=5e-5)\n",
    "\n",
    "for epoch in range(10):  # loop over the dataset multiple times\n",
    "   print(\"Epoch:\", epoch)\n",
    "   for idx, batch in enumerate(train_dataloader):\n",
    "        # get the inputs;\n",
    "        input_ids = batch[\"input_ids\"].to(device)\n",
    "        attention_mask = batch[\"attention_mask\"].to(device)\n",
    "        token_type_ids = batch[\"token_type_ids\"].to(device)\n",
    "        labels = batch[\"labels\"].to(device)\n",
    "        \n",
    "        # zero the parameter gradients\n",
    "        optimizer.zero_grad()\n",
    "        # forward + backward + optimize\n",
    "        outputs = model(input_ids=input_ids, attention_mask=attention_mask, token_type_ids=token_type_ids,\n",
    "                       labels=labels)\n",
    "        loss = outputs.loss\n",
    "        print(\"Loss:\", loss.item())\n",
    "        loss.backward()\n",
    "        optimizer.step()"
   ]
  },
  {
   "cell_type": "code",
   "execution_count": null,
   "metadata": {
    "pycharm": {
     "name": "#%%\n"
    }
   },
   "outputs": [],
   "source": [
    "torch.save(model, 'schedule-tapas-small-finetuned-sqa.pth')\n"
   ]
  },
  {
   "cell_type": "markdown",
   "metadata": {
    "id": "kmugNHCN20QF",
    "pycharm": {
     "name": "#%% md\n"
    }
   },
   "source": [
    "## Inference\n",
    "\n",
    "As SQA is a bit different due to its conversational nature, we need to run every training example of the a batch one by one through the model (sequentially), overwriting the `prev_labels` token types (which were created by the tokenizer) by the answer predicted by the model. It is based on the [following code](https://github.com/google-research/tapas/blob/f458b6624b8aa75961a0ab78e9847355022940d3/tapas/experiments/prediction_utils.py#L92) from the official implementation:"
   ]
  },
  {
   "cell_type": "code",
   "execution_count": 230,
   "metadata": {
    "id": "MhJwoaSy26PD",
    "pycharm": {
     "name": "#%%\n"
    }
   },
   "outputs": [],
   "source": [
    "import collections\n",
    "import numpy as np\n",
    "\n",
    "def compute_prediction_sequence(model, data, device):\n",
    "  \"\"\"Computes predictions using model's answers to the previous questions.\"\"\"\n",
    "  \n",
    "  # prepare data\n",
    "  input_ids = data[\"input_ids\"].to(device)\n",
    "  attention_mask = data[\"attention_mask\"].to(device)\n",
    "  token_type_ids = data[\"token_type_ids\"].to(device)\n",
    "\n",
    "  all_logits = []\n",
    "  prev_answers = None\n",
    "\n",
    "  num_batch = data[\"input_ids\"].shape[0]\n",
    "  \n",
    "  for idx in range(num_batch):\n",
    "    \n",
    "    if prev_answers is not None:\n",
    "        coords_to_answer = prev_answers[idx]\n",
    "        # Next, set the label ids predicted by the model\n",
    "        prev_label_ids_example = token_type_ids_example[:,3] # shape (seq_len,)\n",
    "        model_label_ids = np.zeros_like(prev_label_ids_example.cpu().numpy()) # shape (seq_len,)\n",
    "\n",
    "        # for each token in the sequence:\n",
    "        token_type_ids_example = token_type_ids[idx] # shape (seq_len, 7)\n",
    "        for i in range(model_label_ids.shape[0]):\n",
    "          segment_id = token_type_ids_example[:,0].tolist()[i]\n",
    "          col_id = token_type_ids_example[:,1].tolist()[i] - 1\n",
    "          row_id = token_type_ids_example[:,2].tolist()[i] - 1\n",
    "          if row_id >= 0 and col_id >= 0 and segment_id == 1:\n",
    "            model_label_ids[i] = int(coords_to_answer[(col_id, row_id)])\n",
    "\n",
    "        # set the prev label ids of the example (shape (1, seq_len) )\n",
    "        token_type_ids_example[:,3] = torch.from_numpy(model_label_ids).type(torch.long).to(device)   \n",
    "\n",
    "    prev_answers = {}\n",
    "    # get the example\n",
    "    input_ids_example = input_ids[idx] # shape (seq_len,)\n",
    "    attention_mask_example = attention_mask[idx] # shape (seq_len,)\n",
    "    token_type_ids_example = token_type_ids[idx] # shape (seq_len, 7)\n",
    "    # forward pass to obtain the logits\n",
    "    outputs = model(input_ids=input_ids_example.unsqueeze(0), \n",
    "                    attention_mask=attention_mask_example.unsqueeze(0), \n",
    "                    token_type_ids=token_type_ids_example.unsqueeze(0))\n",
    "    logits = outputs.logits\n",
    "    all_logits.append(logits)\n",
    "\n",
    "    # convert logits to probabilities (which are of shape (1, seq_len))\n",
    "    dist_per_token = torch.distributions.Bernoulli(logits=logits)\n",
    "    probabilities = dist_per_token.probs * attention_mask_example.type(torch.float32).to(dist_per_token.probs.device) \n",
    "\n",
    "    # Compute average probability per cell, aggregating over tokens.\n",
    "    # Dictionary maps coordinates to a list of one or more probabilities\n",
    "    coords_to_probs = collections.defaultdict(list)\n",
    "    prev_answers = {}\n",
    "    for i, p in enumerate(probabilities.squeeze().tolist()):\n",
    "      segment_id = token_type_ids_example[:,0].tolist()[i]\n",
    "      col = token_type_ids_example[:,1].tolist()[i] - 1\n",
    "      row = token_type_ids_example[:,2].tolist()[i] - 1\n",
    "      if col >= 0 and row >= 0 and segment_id == 1:\n",
    "        coords_to_probs[(col, row)].append(p)\n",
    "\n",
    "    # Next, map cell coordinates to 1 or 0 (depending on whether the mean prob of all cell tokens is > 0.5)\n",
    "    coords_to_answer = {}\n",
    "    for key in coords_to_probs:\n",
    "      coords_to_answer[key] = np.array(coords_to_probs[key]).mean() > 0.5\n",
    "    prev_answers[idx+1] = coords_to_answer\n",
    "    \n",
    "  logits_batch = torch.cat(tuple(all_logits), 0)\n",
    "  \n",
    "  return logits_batch"
   ]
  },
  {
   "cell_type": "code",
   "execution_count": 233,
   "metadata": {
    "id": "jflxDE_BfVg9",
    "pycharm": {
     "name": "#%%\n"
    }
   },
   "outputs": [],
   "source": [
    "data = {'Actors': [\"Brad Pitt\", \"Leonardo Di Caprio\", \"George Clooney\"], \n",
    "        'Age': [\"56\", \"45\", \"59\"],\n",
    "        'Number of movies': [\"87\", \"53\", \"69\"],\n",
    "        'Date of birth': [\"7 february 1967\", \"10 june 1996\", \"28 november 1967\"]}\n",
    "queries = [\"How many movies has George Clooney played in?\", \"How old is he?\", \"What's his date of birth?\"]\n",
    "\n",
    "table = pd.DataFrame.from_dict(data)\n",
    "\n",
    "inputs = tokenizer(table=table, queries=queries, padding='max_length', return_tensors=\"pt\")\n",
    "logits = compute_prediction_sequence(model, inputs, device)"
   ]
  },
  {
   "cell_type": "code",
   "execution_count": 240,
   "metadata": {
    "pycharm": {
     "name": "#%%\n"
    }
   },
   "outputs": [],
   "source": [
    "our_queries=[\"What subject is at 11 on Wednesday?\",\"What is the next lecture?\"]\n",
    "inputs = tokenizer(table=table_schedule, queries=our_queries, padding='max_length', return_tensors=\"pt\")\n",
    "logits = compute_prediction_sequence(model, inputs, device)"
   ]
  },
  {
   "cell_type": "markdown",
   "metadata": {
    "id": "k_a_Y-rDq__o",
    "pycharm": {
     "name": "#%% md\n"
    }
   },
   "source": [
    "Finally, we can use the handy `convert_logits_to_predictions` function of `TapasTokenizer` to convert the logits into predicted coordinates, and print out the result:"
   ]
  },
  {
   "cell_type": "code",
   "execution_count": 241,
   "metadata": {
    "id": "5fAcNOVsqoVD",
    "pycharm": {
     "name": "#%%\n"
    }
   },
   "outputs": [],
   "source": [
    "predicted_answer_coordinates, = tokenizer.convert_logits_to_predictions(inputs, logits.cpu().detach())"
   ]
  },
  {
   "cell_type": "code",
   "execution_count": 242,
   "metadata": {
    "colab": {
     "base_uri": "https://localhost:8080/",
     "height": 254
    },
    "id": "QP4AHMxFujhV",
    "outputId": "aed2fc99-957b-4b9f-e804-b426a80de8df",
    "pycharm": {
     "name": "#%%\n"
    }
   },
   "outputs": [
    {
     "data": {
      "text/html": [
       "<div>\n",
       "<style scoped>\n",
       "    .dataframe tbody tr th:only-of-type {\n",
       "        vertical-align: middle;\n",
       "    }\n",
       "\n",
       "    .dataframe tbody tr th {\n",
       "        vertical-align: top;\n",
       "    }\n",
       "\n",
       "    .dataframe thead th {\n",
       "        text-align: right;\n",
       "    }\n",
       "</style>\n",
       "<table border=\"1\" class=\"dataframe\">\n",
       "  <thead>\n",
       "    <tr style=\"text-align: right;\">\n",
       "      <th></th>\n",
       "      <th>Actors</th>\n",
       "      <th>Age</th>\n",
       "      <th>Number of movies</th>\n",
       "      <th>Date of birth</th>\n",
       "    </tr>\n",
       "  </thead>\n",
       "  <tbody>\n",
       "    <tr>\n",
       "      <th>0</th>\n",
       "      <td>Brad Pitt</td>\n",
       "      <td>56</td>\n",
       "      <td>87</td>\n",
       "      <td>7 february 1967</td>\n",
       "    </tr>\n",
       "    <tr>\n",
       "      <th>1</th>\n",
       "      <td>Leonardo Di Caprio</td>\n",
       "      <td>45</td>\n",
       "      <td>53</td>\n",
       "      <td>10 june 1996</td>\n",
       "    </tr>\n",
       "    <tr>\n",
       "      <th>2</th>\n",
       "      <td>George Clooney</td>\n",
       "      <td>59</td>\n",
       "      <td>69</td>\n",
       "      <td>28 november 1967</td>\n",
       "    </tr>\n",
       "  </tbody>\n",
       "</table>\n",
       "</div>"
      ],
      "text/plain": [
       "               Actors Age Number of movies     Date of birth\n",
       "0           Brad Pitt  56               87   7 february 1967\n",
       "1  Leonardo Di Caprio  45               53      10 june 1996\n",
       "2      George Clooney  59               69  28 november 1967"
      ]
     },
     "metadata": {},
     "output_type": "display_data"
    },
    {
     "name": "stdout",
     "output_type": "stream",
     "text": [
      "\n",
      "What subject is at 11 on Wednesday?\n",
      "Predicted answer: Project 2-2\n",
      "What is the next lecture?\n",
      "Predicted answer: MM\n"
     ]
    }
   ],
   "source": [
    "# handy helper function in case inference on Pandas dataframe\n",
    "answers = []\n",
    "for coordinates in predicted_answer_coordinates:\n",
    "  if len(coordinates) == 1:\n",
    "    # only a single cell:\n",
    "    answers.append(table_schedule.iat[coordinates[0]])\n",
    "  else:\n",
    "    # multiple cells\n",
    "    cell_values = []\n",
    "    for coordinate in coordinates:\n",
    "      cell_values.append(table_schedule.iat[coordinate])\n",
    "    answers.append(\", \".join(cell_values))\n",
    "\n",
    "display(table)\n",
    "print(\"\")\n",
    "for query, answer in zip(our_queries, answers):\n",
    "  print(query)\n",
    "  print(\"Predicted answer: \" + answer)"
   ]
  },
  {
   "cell_type": "markdown",
   "metadata": {
    "id": "6L0KBaPjG7uj",
    "pycharm": {
     "name": "#%% md\n"
    }
   },
   "source": [
    "Note that the results here are not correct, that's obvious since we only trained on 28 examples and tested it on an entire different example. In reality, you should train on the entire dataset. The result of this is the `google/tapas-base-finetuned-sqa` checkpoint."
   ]
  },
  {
   "cell_type": "markdown",
   "metadata": {
    "id": "Y4S-TIGSvqhZ",
    "pycharm": {
     "name": "#%% md\n"
    }
   },
   "source": [
    "## Legacy\n",
    "\n",
    "The code below was considered during the creation of this tutorial, but eventually not used."
   ]
  },
  {
   "cell_type": "code",
   "execution_count": null,
   "metadata": {
    "id": "ox1ZECiJ5vSD",
    "pycharm": {
     "name": "#%%\n"
    }
   },
   "outputs": [],
   "source": [
    "# grouped = data.groupby(data.position)\n",
    "# test = grouped.get_group(0)\n",
    "# test.index"
   ]
  },
  {
   "cell_type": "code",
   "execution_count": null,
   "metadata": {
    "id": "L0IuO6vivrw_",
    "pycharm": {
     "name": "#%%\n"
    }
   },
   "outputs": [],
   "source": [
    "def custom_collate_fn(data):\n",
    "  \"\"\"\n",
    "  A custom collate function to batch input_ids, attention_mask, token_type_ids and so on of different batch sizes.\n",
    "  \n",
    "  Args:\n",
    "    data: \n",
    "      a list of dictionaries (each dictionary is what the __getitem__ method of TableDataset returns)\n",
    "  \"\"\"\n",
    "  result = {}\n",
    "  for k in data[0].keys():\n",
    "      result[k] = torch.cat([x[k] for x in data], dim=0)\n",
    "\n",
    "  return result\n",
    "\n",
    "class TableDataset(torch.utils.data.Dataset):\n",
    "    def __init__(self, df, tokenizer):\n",
    "        self.df = df\n",
    "        self.tokenizer = tokenizer\n",
    "\n",
    "    def __getitem__(self, idx):\n",
    "        item = self.df.iloc[idx]\n",
    "        table = pd.read_csv(table_csv_path + item.table_file[9:]).astype(str) # TapasTokenizer expects the table data to be text only\n",
    "        if item.position != 0:\n",
    "          # use the previous table-question pair \n",
    "          previous_item = self.df.iloc[idx-1]\n",
    "          encoding = self.tokenizer(table=table, \n",
    "                                    queries=[previous_item.question, item.question], \n",
    "                                    answer_coordinates=[previous_item.answer_coordinates, item.answer_coordinates], \n",
    "                                    answer_text=[previous_item.answer_text, item.answer_text],\n",
    "                                    padding=\"max_length\",\n",
    "                                    truncation=True,\n",
    "                                    return_tensors=\"pt\"\n",
    "          )\n",
    "          # remove the batch dimension which the tokenizer adds \n",
    "          encoding = {key: val[-1] for key, val in encoding.items()}\n",
    "          #encoding = {key: val.squeeze(0) for key, val in encoding.items()}\n",
    "        else:\n",
    "          # this means it's the first table-question pair in a sequence\n",
    "          encoding = self.tokenizer(table=table, \n",
    "                                    queries=item.question, \n",
    "                                    answer_coordinates=item.answer_coordinates, \n",
    "                                    answer_text=item.answer_text,\n",
    "                                    padding=\"max_length\",\n",
    "                                    truncation=True,\n",
    "                                    return_tensors=\"pt\"\n",
    "          )\n",
    "        return encoding\n",
    "\n",
    "    def __len__(self):\n",
    "        return len(self.df)\n",
    "\n",
    "train_dataset = TableDataset(df=grouped, tokenizer=tokenizer)\n",
    "train_dataloader = torch.utils.data.DataLoader(train_dataset, batch_size=2, collate_fn=custom_collate_fn)"
   ]
  }
 ],
 "metadata": {
  "accelerator": "GPU",
  "colab": {
   "authorship_tag": "ABX9TyOiiRY4UpoKouOKLEeuEpVF",
   "collapsed_sections": [],
   "include_colab_link": true,
   "mount_file_id": "1zMW-D2kYrpDA-cvpNJ-ctGD-tDXWebZa",
   "name": "Fine-tuning TapasForQuestionAnswering on SQA.ipynb",
   "provenance": [],
   "toc_visible": true
  },
  "kernelspec": {
   "display_name": "Python 3",
   "name": "python3"
  },
  "language_info": {
   "codemirror_mode": {
    "name": "ipython",
    "version": 3
   },
   "file_extension": ".py",
   "mimetype": "text/x-python",
   "name": "python",
   "nbconvert_exporter": "python",
   "pygments_lexer": "ipython3",
   "version": "3.11.3"
  },
  "widgets": {
   "application/vnd.jupyter.widget-state+json": {
    "3bad5ab136084c2e92b55153828a403f": {
     "model_module": "@jupyter-widgets/base",
     "model_name": "LayoutModel",
     "state": {
      "_model_module": "@jupyter-widgets/base",
      "_model_module_version": "1.2.0",
      "_model_name": "LayoutModel",
      "_view_count": null,
      "_view_module": "@jupyter-widgets/base",
      "_view_module_version": "1.2.0",
      "_view_name": "LayoutView",
      "align_content": null,
      "align_items": null,
      "align_self": null,
      "border": null,
      "bottom": null,
      "display": null,
      "flex": null,
      "flex_flow": null,
      "grid_area": null,
      "grid_auto_columns": null,
      "grid_auto_flow": null,
      "grid_auto_rows": null,
      "grid_column": null,
      "grid_gap": null,
      "grid_row": null,
      "grid_template_areas": null,
      "grid_template_columns": null,
      "grid_template_rows": null,
      "height": null,
      "justify_content": null,
      "justify_items": null,
      "left": null,
      "margin": null,
      "max_height": null,
      "max_width": null,
      "min_height": null,
      "min_width": null,
      "object_fit": null,
      "object_position": null,
      "order": null,
      "overflow": null,
      "overflow_x": null,
      "overflow_y": null,
      "padding": null,
      "right": null,
      "top": null,
      "visibility": null,
      "width": null
     }
    },
    "3c95dd6249784fe6a2a466737e5f5866": {
     "model_module": "@jupyter-widgets/controls",
     "model_name": "ProgressStyleModel",
     "state": {
      "_model_module": "@jupyter-widgets/controls",
      "_model_module_version": "1.5.0",
      "_model_name": "ProgressStyleModel",
      "_view_count": null,
      "_view_module": "@jupyter-widgets/base",
      "_view_module_version": "1.2.0",
      "_view_name": "StyleView",
      "bar_color": null,
      "description_width": "initial"
     }
    },
    "45fdca8a04f94b43b021c590181e8a48": {
     "model_module": "@jupyter-widgets/controls",
     "model_name": "DescriptionStyleModel",
     "state": {
      "_model_module": "@jupyter-widgets/controls",
      "_model_module_version": "1.5.0",
      "_model_name": "DescriptionStyleModel",
      "_view_count": null,
      "_view_module": "@jupyter-widgets/base",
      "_view_module_version": "1.2.0",
      "_view_name": "StyleView",
      "description_width": ""
     }
    },
    "695d0c44ebbe4a55a17c735645c26c82": {
     "model_module": "@jupyter-widgets/controls",
     "model_name": "HBoxModel",
     "state": {
      "_dom_classes": [],
      "_model_module": "@jupyter-widgets/controls",
      "_model_module_version": "1.5.0",
      "_model_name": "HBoxModel",
      "_view_count": null,
      "_view_module": "@jupyter-widgets/controls",
      "_view_module_version": "1.5.0",
      "_view_name": "HBoxView",
      "box_style": "",
      "children": [
       "IPY_MODEL_be6159a5be0945629a517297df1170b8",
       "IPY_MODEL_b889ffa28a1949e9ac46e205ee582688"
      ],
      "layout": "IPY_MODEL_7e3cd6c49143436bad3d84be7ca2cf79"
     }
    },
    "768723f1af4c4bf497064a9796567382": {
     "model_module": "@jupyter-widgets/controls",
     "model_name": "HBoxModel",
     "state": {
      "_dom_classes": [],
      "_model_module": "@jupyter-widgets/controls",
      "_model_module_version": "1.5.0",
      "_model_name": "HBoxModel",
      "_view_count": null,
      "_view_module": "@jupyter-widgets/controls",
      "_view_module_version": "1.5.0",
      "_view_name": "HBoxView",
      "box_style": "",
      "children": [
       "IPY_MODEL_c6aadbda246d47fcad9660c2f57926a0",
       "IPY_MODEL_cd910003940b498e94db9746091e4c3c"
      ],
      "layout": "IPY_MODEL_82bfe5d88c5546358de33952e42221a3"
     }
    },
    "7e3cd6c49143436bad3d84be7ca2cf79": {
     "model_module": "@jupyter-widgets/base",
     "model_name": "LayoutModel",
     "state": {
      "_model_module": "@jupyter-widgets/base",
      "_model_module_version": "1.2.0",
      "_model_name": "LayoutModel",
      "_view_count": null,
      "_view_module": "@jupyter-widgets/base",
      "_view_module_version": "1.2.0",
      "_view_name": "LayoutView",
      "align_content": null,
      "align_items": null,
      "align_self": null,
      "border": null,
      "bottom": null,
      "display": null,
      "flex": null,
      "flex_flow": null,
      "grid_area": null,
      "grid_auto_columns": null,
      "grid_auto_flow": null,
      "grid_auto_rows": null,
      "grid_column": null,
      "grid_gap": null,
      "grid_row": null,
      "grid_template_areas": null,
      "grid_template_columns": null,
      "grid_template_rows": null,
      "height": null,
      "justify_content": null,
      "justify_items": null,
      "left": null,
      "margin": null,
      "max_height": null,
      "max_width": null,
      "min_height": null,
      "min_width": null,
      "object_fit": null,
      "object_position": null,
      "order": null,
      "overflow": null,
      "overflow_x": null,
      "overflow_y": null,
      "padding": null,
      "right": null,
      "top": null,
      "visibility": null,
      "width": null
     }
    },
    "82bfe5d88c5546358de33952e42221a3": {
     "model_module": "@jupyter-widgets/base",
     "model_name": "LayoutModel",
     "state": {
      "_model_module": "@jupyter-widgets/base",
      "_model_module_version": "1.2.0",
      "_model_name": "LayoutModel",
      "_view_count": null,
      "_view_module": "@jupyter-widgets/base",
      "_view_module_version": "1.2.0",
      "_view_name": "LayoutView",
      "align_content": null,
      "align_items": null,
      "align_self": null,
      "border": null,
      "bottom": null,
      "display": null,
      "flex": null,
      "flex_flow": null,
      "grid_area": null,
      "grid_auto_columns": null,
      "grid_auto_flow": null,
      "grid_auto_rows": null,
      "grid_column": null,
      "grid_gap": null,
      "grid_row": null,
      "grid_template_areas": null,
      "grid_template_columns": null,
      "grid_template_rows": null,
      "height": null,
      "justify_content": null,
      "justify_items": null,
      "left": null,
      "margin": null,
      "max_height": null,
      "max_width": null,
      "min_height": null,
      "min_width": null,
      "object_fit": null,
      "object_position": null,
      "order": null,
      "overflow": null,
      "overflow_x": null,
      "overflow_y": null,
      "padding": null,
      "right": null,
      "top": null,
      "visibility": null,
      "width": null
     }
    },
    "a11bc2e0d34543d1bb0ab708e0cc1a67": {
     "model_module": "@jupyter-widgets/controls",
     "model_name": "ProgressStyleModel",
     "state": {
      "_model_module": "@jupyter-widgets/controls",
      "_model_module_version": "1.5.0",
      "_model_name": "ProgressStyleModel",
      "_view_count": null,
      "_view_module": "@jupyter-widgets/base",
      "_view_module_version": "1.2.0",
      "_view_name": "StyleView",
      "bar_color": null,
      "description_width": "initial"
     }
    },
    "b889ffa28a1949e9ac46e205ee582688": {
     "model_module": "@jupyter-widgets/controls",
     "model_name": "HTMLModel",
     "state": {
      "_dom_classes": [],
      "_model_module": "@jupyter-widgets/controls",
      "_model_module_version": "1.5.0",
      "_model_name": "HTMLModel",
      "_view_count": null,
      "_view_module": "@jupyter-widgets/controls",
      "_view_module_version": "1.5.0",
      "_view_name": "HTMLView",
      "description": "",
      "description_tooltip": null,
      "layout": "IPY_MODEL_3bad5ab136084c2e92b55153828a403f",
      "placeholder": "​",
      "style": "IPY_MODEL_45fdca8a04f94b43b021c590181e8a48",
      "value": " 443M/443M [00:06&lt;00:00, 66.0MB/s]"
     }
    },
    "be6159a5be0945629a517297df1170b8": {
     "model_module": "@jupyter-widgets/controls",
     "model_name": "FloatProgressModel",
     "state": {
      "_dom_classes": [],
      "_model_module": "@jupyter-widgets/controls",
      "_model_module_version": "1.5.0",
      "_model_name": "FloatProgressModel",
      "_view_count": null,
      "_view_module": "@jupyter-widgets/controls",
      "_view_module_version": "1.5.0",
      "_view_name": "ProgressView",
      "bar_style": "success",
      "description": "Downloading: 100%",
      "description_tooltip": null,
      "layout": "IPY_MODEL_cf9382ee988f4787a88340d3b2af95f3",
      "max": 442768791,
      "min": 0,
      "orientation": "horizontal",
      "style": "IPY_MODEL_3c95dd6249784fe6a2a466737e5f5866",
      "value": 442768791
     }
    },
    "c6aadbda246d47fcad9660c2f57926a0": {
     "model_module": "@jupyter-widgets/controls",
     "model_name": "FloatProgressModel",
     "state": {
      "_dom_classes": [],
      "_model_module": "@jupyter-widgets/controls",
      "_model_module_version": "1.5.0",
      "_model_name": "FloatProgressModel",
      "_view_count": null,
      "_view_module": "@jupyter-widgets/controls",
      "_view_module_version": "1.5.0",
      "_view_name": "ProgressView",
      "bar_style": "success",
      "description": "Downloading: 100%",
      "description_tooltip": null,
      "layout": "IPY_MODEL_d59737fa0a424a90ba02110e4cf1b639",
      "max": 1432,
      "min": 0,
      "orientation": "horizontal",
      "style": "IPY_MODEL_a11bc2e0d34543d1bb0ab708e0cc1a67",
      "value": 1432
     }
    },
    "cd910003940b498e94db9746091e4c3c": {
     "model_module": "@jupyter-widgets/controls",
     "model_name": "HTMLModel",
     "state": {
      "_dom_classes": [],
      "_model_module": "@jupyter-widgets/controls",
      "_model_module_version": "1.5.0",
      "_model_name": "HTMLModel",
      "_view_count": null,
      "_view_module": "@jupyter-widgets/controls",
      "_view_module_version": "1.5.0",
      "_view_name": "HTMLView",
      "description": "",
      "description_tooltip": null,
      "layout": "IPY_MODEL_f6fef10b29f74c458d05c2cbda46bf4a",
      "placeholder": "​",
      "style": "IPY_MODEL_d534c2ebdbb144efa59500fcadf6e118",
      "value": " 1.43k/1.43k [00:00&lt;00:00, 4.46kB/s]"
     }
    },
    "cf9382ee988f4787a88340d3b2af95f3": {
     "model_module": "@jupyter-widgets/base",
     "model_name": "LayoutModel",
     "state": {
      "_model_module": "@jupyter-widgets/base",
      "_model_module_version": "1.2.0",
      "_model_name": "LayoutModel",
      "_view_count": null,
      "_view_module": "@jupyter-widgets/base",
      "_view_module_version": "1.2.0",
      "_view_name": "LayoutView",
      "align_content": null,
      "align_items": null,
      "align_self": null,
      "border": null,
      "bottom": null,
      "display": null,
      "flex": null,
      "flex_flow": null,
      "grid_area": null,
      "grid_auto_columns": null,
      "grid_auto_flow": null,
      "grid_auto_rows": null,
      "grid_column": null,
      "grid_gap": null,
      "grid_row": null,
      "grid_template_areas": null,
      "grid_template_columns": null,
      "grid_template_rows": null,
      "height": null,
      "justify_content": null,
      "justify_items": null,
      "left": null,
      "margin": null,
      "max_height": null,
      "max_width": null,
      "min_height": null,
      "min_width": null,
      "object_fit": null,
      "object_position": null,
      "order": null,
      "overflow": null,
      "overflow_x": null,
      "overflow_y": null,
      "padding": null,
      "right": null,
      "top": null,
      "visibility": null,
      "width": null
     }
    },
    "d534c2ebdbb144efa59500fcadf6e118": {
     "model_module": "@jupyter-widgets/controls",
     "model_name": "DescriptionStyleModel",
     "state": {
      "_model_module": "@jupyter-widgets/controls",
      "_model_module_version": "1.5.0",
      "_model_name": "DescriptionStyleModel",
      "_view_count": null,
      "_view_module": "@jupyter-widgets/base",
      "_view_module_version": "1.2.0",
      "_view_name": "StyleView",
      "description_width": ""
     }
    },
    "d59737fa0a424a90ba02110e4cf1b639": {
     "model_module": "@jupyter-widgets/base",
     "model_name": "LayoutModel",
     "state": {
      "_model_module": "@jupyter-widgets/base",
      "_model_module_version": "1.2.0",
      "_model_name": "LayoutModel",
      "_view_count": null,
      "_view_module": "@jupyter-widgets/base",
      "_view_module_version": "1.2.0",
      "_view_name": "LayoutView",
      "align_content": null,
      "align_items": null,
      "align_self": null,
      "border": null,
      "bottom": null,
      "display": null,
      "flex": null,
      "flex_flow": null,
      "grid_area": null,
      "grid_auto_columns": null,
      "grid_auto_flow": null,
      "grid_auto_rows": null,
      "grid_column": null,
      "grid_gap": null,
      "grid_row": null,
      "grid_template_areas": null,
      "grid_template_columns": null,
      "grid_template_rows": null,
      "height": null,
      "justify_content": null,
      "justify_items": null,
      "left": null,
      "margin": null,
      "max_height": null,
      "max_width": null,
      "min_height": null,
      "min_width": null,
      "object_fit": null,
      "object_position": null,
      "order": null,
      "overflow": null,
      "overflow_x": null,
      "overflow_y": null,
      "padding": null,
      "right": null,
      "top": null,
      "visibility": null,
      "width": null
     }
    },
    "f6fef10b29f74c458d05c2cbda46bf4a": {
     "model_module": "@jupyter-widgets/base",
     "model_name": "LayoutModel",
     "state": {
      "_model_module": "@jupyter-widgets/base",
      "_model_module_version": "1.2.0",
      "_model_name": "LayoutModel",
      "_view_count": null,
      "_view_module": "@jupyter-widgets/base",
      "_view_module_version": "1.2.0",
      "_view_name": "LayoutView",
      "align_content": null,
      "align_items": null,
      "align_self": null,
      "border": null,
      "bottom": null,
      "display": null,
      "flex": null,
      "flex_flow": null,
      "grid_area": null,
      "grid_auto_columns": null,
      "grid_auto_flow": null,
      "grid_auto_rows": null,
      "grid_column": null,
      "grid_gap": null,
      "grid_row": null,
      "grid_template_areas": null,
      "grid_template_columns": null,
      "grid_template_rows": null,
      "height": null,
      "justify_content": null,
      "justify_items": null,
      "left": null,
      "margin": null,
      "max_height": null,
      "max_width": null,
      "min_height": null,
      "min_width": null,
      "object_fit": null,
      "object_position": null,
      "order": null,
      "overflow": null,
      "overflow_x": null,
      "overflow_y": null,
      "padding": null,
      "right": null,
      "top": null,
      "visibility": null,
      "width": null
     }
    }
   }
  }
 },
 "nbformat": 4,
 "nbformat_minor": 0
}